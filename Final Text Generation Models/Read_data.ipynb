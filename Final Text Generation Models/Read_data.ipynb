{
  "nbformat": 4,
  "nbformat_minor": 0,
  "metadata": {
    "kernelspec": {
      "display_name": "Python 3",
      "language": "python",
      "name": "python3"
    },
    "language_info": {
      "codemirror_mode": {
        "name": "ipython",
        "version": 3
      },
      "file_extension": ".py",
      "mimetype": "text/x-python",
      "name": "python",
      "nbconvert_exporter": "python",
      "pygments_lexer": "ipython3",
      "version": "3.8.3"
    },
    "colab": {
      "name": "Read data.ipynb",
      "provenance": [],
      "collapsed_sections": [],
      "toc_visible": true
    }
  },
  "cells": [
    {
      "cell_type": "code",
      "metadata": {
        "id": "ITzcp35cBu2C"
      },
      "source": [
        "# Imports\n",
        "import requests\n",
        "from bs4 import BeautifulSoup\n",
        "import bs4\n",
        "import pandas as pd\n",
        "import re"
      ],
      "execution_count": 4,
      "outputs": []
    },
    {
      "cell_type": "code",
      "metadata": {
        "colab": {
          "base_uri": "https://localhost:8080/"
        },
        "id": "l3uv87-tX_z0",
        "outputId": "11061df0-679e-4ba7-8043-135f1961b06f"
      },
      "source": [
        "# Mount drive\n",
        "from google.colab import drive\n",
        "drive.mount('/content/drive')"
      ],
      "execution_count": 6,
      "outputs": [
        {
          "output_type": "stream",
          "text": [
            "Mounted at /content/drive\n"
          ],
          "name": "stdout"
        }
      ]
    },
    {
      "cell_type": "code",
      "metadata": {
        "id": "j1kTps18Bu2g"
      },
      "source": [
        "headers = {\n",
        "    'Access-Control-Allow-Origin': '*',\n",
        "    'Access-Control-Allow-Methods': 'GET',\n",
        "    'Access-Control-Allow-Headers': 'Content-Type',\n",
        "    'Access-Control-Max-Age': '3600',\n",
        "    'User-Agent': 'Mozilla/5.0 (X11; Ubuntu; Linux x86_64; rv:52.0) Gecko/20100101 Firefox/52.0'\n",
        "    }"
      ],
      "execution_count": 7,
      "outputs": []
    },
    {
      "cell_type": "markdown",
      "metadata": {
        "id": "7mlfOsQLBu2i"
      },
      "source": [
        "# Retrieve important characters from IV to VI movie\n",
        "\n",
        "Add file path to where the filtered data may be\n",
        "One can also add the folder temporarily in the runtime location\n",
        "\n",
        "path_to_file = '/content/' \n",
        "\n",
        "--> Contains all the generated csv files \n",
        "(SW_EpisodeIV.txt, SW_EpisodeV.txt, SW_EpisodeVI.txt)\n",
        "\n",
        "Currently pointing to private drive folder\n",
        "\n",
        "Change output file locations to '/content/<file_name>' for usage"
      ]
    },
    {
      "cell_type": "code",
      "metadata": {
        "colab": {
          "base_uri": "https://localhost:8080/"
        },
        "id": "KlRr94K9Bu2i",
        "outputId": "1a8b8707-97ad-4433-a08b-997db1aef440"
      },
      "source": [
        "df_IV = pd.read_csv('/content/drive/MyDrive/SNLP Project/Data/SW_EpisodeIV.txt', delimiter = \"    \")"
      ],
      "execution_count": 8,
      "outputs": [
        {
          "output_type": "stream",
          "text": [
            "/usr/local/lib/python3.7/dist-packages/ipykernel_launcher.py:1: ParserWarning: Falling back to the 'python' engine because the 'c' engine does not support regex separators (separators > 1 char and different from '\\s+' are interpreted as regex); you can avoid this warning by specifying engine='python'.\n",
            "  \"\"\"Entry point for launching an IPython kernel.\n"
          ],
          "name": "stderr"
        }
      ]
    },
    {
      "cell_type": "code",
      "metadata": {
        "colab": {
          "base_uri": "https://localhost:8080/"
        },
        "id": "mqSv4D9WBu2j",
        "outputId": "76d25806-d96a-42e0-b778-31ec3cc0cfb4"
      },
      "source": [
        "df_V = pd.read_csv('/content/drive/MyDrive/SNLP Project/Data/SW_EpisodeV.txt', delimiter = \"    \")"
      ],
      "execution_count": 9,
      "outputs": [
        {
          "output_type": "stream",
          "text": [
            "/usr/local/lib/python3.7/dist-packages/ipykernel_launcher.py:1: ParserWarning: Falling back to the 'python' engine because the 'c' engine does not support regex separators (separators > 1 char and different from '\\s+' are interpreted as regex); you can avoid this warning by specifying engine='python'.\n",
            "  \"\"\"Entry point for launching an IPython kernel.\n"
          ],
          "name": "stderr"
        }
      ]
    },
    {
      "cell_type": "code",
      "metadata": {
        "colab": {
          "base_uri": "https://localhost:8080/"
        },
        "id": "I0VYzG8rBu2l",
        "outputId": "6d5da222-e8d0-42ef-e406-c965d8e6502c"
      },
      "source": [
        "df_VI = pd.read_csv('/content/drive/MyDrive/SNLP Project/Data/SW_EpisodeVI.txt', delimiter = \"    \")"
      ],
      "execution_count": 10,
      "outputs": [
        {
          "output_type": "stream",
          "text": [
            "/usr/local/lib/python3.7/dist-packages/ipykernel_launcher.py:1: ParserWarning: Falling back to the 'python' engine because the 'c' engine does not support regex separators (separators > 1 char and different from '\\s+' are interpreted as regex); you can avoid this warning by specifying engine='python'.\n",
            "  \"\"\"Entry point for launching an IPython kernel.\n"
          ],
          "name": "stderr"
        }
      ]
    },
    {
      "cell_type": "code",
      "metadata": {
        "colab": {
          "base_uri": "https://localhost:8080/"
        },
        "id": "w8Sesj3IBu2o",
        "outputId": "370601db-c910-4b82-c80d-b22f54ed96fd"
      },
      "source": [
        "print(df_IV.character.unique())"
      ],
      "execution_count": 11,
      "outputs": [
        {
          "output_type": "stream",
          "text": [
            "['THREEPIO' 'LUKE' 'IMPERIAL OFFICER' 'VADER' 'REBEL OFFICER' 'TROOPER'\n",
            " 'CHIEF PILOT' 'CAPTAIN' 'WOMAN' 'FIXER' 'CAMIE' 'BIGGS' 'DEAK' 'LEIA'\n",
            " 'COMMANDER' 'SECOND OFFICER' 'FIRST TROOPER' 'SECOND TROOPER' 'BERU'\n",
            " 'OWEN' 'AUNT BERU' 'BEN' 'TAGGE' 'MOTTI' 'TARKIN' 'BARTENDER' 'CREATURE'\n",
            " 'HUMAN' 'HAN' 'GREEDO' 'JABBA' 'OFFICER CASS'\n",
            " 'VOICE OVER DEATH STAR INTERCOM' 'OFFICER' 'VOICE' 'GANTRY OFFICER'\n",
            " 'INTERCOM VOICE' 'TROOPER VOICE' 'FIRST OFFICER' 'WILLARD'\n",
            " 'DEATH STAR INTERCOM VOICE' 'DODONNA' 'GOLD LEADER' 'WEDGE' 'MAN'\n",
            " 'RED LEADER' 'CHIEF' 'MASSASSI INTERCOM VOICE' 'RED TEN' 'RED SEVEN'\n",
            " 'PORKINS' 'RED NINE' 'RED ELEVEN' 'ASTRO-OFFICER' 'CONTROL OFFICER'\n",
            " 'GOLD FIVE' 'GOLD TWO' 'WINGMAN' 'BASE VOICE' 'TECHNICIAN']\n"
          ],
          "name": "stdout"
        }
      ]
    },
    {
      "cell_type": "code",
      "metadata": {
        "colab": {
          "base_uri": "https://localhost:8080/"
        },
        "id": "IkY0FqdJBu2p",
        "outputId": "a756d2ad-7686-4bc4-bab8-814f4c595c23"
      },
      "source": [
        "print(df_V.character.unique())"
      ],
      "execution_count": 12,
      "outputs": [
        {
          "output_type": "stream",
          "text": [
            "['LUKE' 'HAN' 'RIEEKAN' 'LEIA' 'THREEPIO' 'DECK OFFICER'\n",
            " 'ASSISTANT OFFICER' 'LIEUTENANT' 'DERLIN' 'BEN' 'ZEV' 'ANNOUNCER'\n",
            " 'SENIOR CONTROLLER' 'PIETT' 'OZZEL' 'VADER' 'REBEL CAPTAIN'\n",
            " 'REBEL FIGHTER' 'MEDICAL DROID' 'CONTROLLER' 'VEERS' 'HOBBIE' 'PILOTS'\n",
            " 'CAPTAIN' 'WOMAN CONTROLLER' 'DACK' 'TRENCH OFFICER' 'WEDGE' 'JANSON'\n",
            " 'HEAD CONTROLLER' 'OFFICER' 'SECOND OFFICER' 'PILOT' 'IMPERIAL OFFICER'\n",
            " 'STRANGE VOICE' 'CREATURE' 'NEEDA' 'EMPEROR' 'YODA' 'FIRST CONTROLLER'\n",
            " 'SECOND CONTROLLER' 'BOBA FETT' 'TRACKING OFFICER'\n",
            " 'COMMUNICATIONS OFFICER' 'INTERCOM VOICE' 'LANDO' 'SECOND THREEPIO' 'MAN'\n",
            " 'IMPERIAL SOLDIER']\n"
          ],
          "name": "stdout"
        }
      ]
    },
    {
      "cell_type": "code",
      "metadata": {
        "colab": {
          "base_uri": "https://localhost:8080/"
        },
        "id": "yKbDkdh4Bu2p",
        "outputId": "b8eabdb3-3429-48f5-efaf-fdabee0b07f4"
      },
      "source": [
        "print(df_VI.character.unique())"
      ],
      "execution_count": 13,
      "outputs": [
        {
          "output_type": "stream",
          "text": [
            "['SHUTTLE CAPTAIN' 'DEATH STAR CONTROLLER' 'OFFICER' 'OPERATOR'\n",
            " 'JERJERROD' 'VADER' 'THREEPIO' 'STRANGE VOICE' 'BIB' 'JABBA' 'LUKE'\n",
            " 'NINEDENINE' 'OOLA' 'BOUSHH' 'HAN' 'LEIA' 'LANDO' 'EMPEROR' 'YODA' 'BEN'\n",
            " 'MON MOTHMA' 'ACKBAR' 'GENERAL MADINE' 'VOICE' 'CONTROLLER' 'PIETT'\n",
            " 'PILOT VOICE' 'SCOUT #1' 'SCOUT #l' 'SCOUT #2' 'GUARD' 'HAN and LUKE'\n",
            " 'COMMANDER' 'SCOUT' 'WEDGE' 'GRAY LEADER' 'GREEN LEADER' 'RED LEADER'\n",
            " 'REBEL PILOT' 'STORMTROOPER' 'BUNKER COMMANDER' 'RED TWO' 'RED THREE'\n",
            " 'NAVIGATOR' 'Y-WING PILOT' 'WALKER PILOT #1' 'PILOT #2' 'HAN/PILOT'\n",
            " 'CONTROL ROOM COMMANDER' 'SECOND COMMANDER' 'PILOT' 'LURE' 'ANAKIN']\n"
          ],
          "name": "stdout"
        }
      ]
    },
    {
      "cell_type": "code",
      "metadata": {
        "id": "OqN9M0j5Bu2q"
      },
      "source": [
        "#Filter out charcaters that we need\n",
        "common_characters = [\"OBI-WAN\", \"C-3PO\", \"YODA\", \"THREEPIO\", \"BEN\"]"
      ],
      "execution_count": 14,
      "outputs": []
    },
    {
      "cell_type": "markdown",
      "metadata": {
        "id": "ItIMfZM3XyvB"
      },
      "source": [
        "##Read from HTML files"
      ]
    },
    {
      "cell_type": "markdown",
      "metadata": {
        "id": "fBDPfHGHBu2r"
      },
      "source": [
        "## The Phantom Menace"
      ]
    },
    {
      "cell_type": "code",
      "metadata": {
        "id": "4NZ962k0Bu2s"
      },
      "source": [
        "url = \"https://imsdb.com/scripts/Star-Wars-The-Phantom-Menace.html\"\n",
        "req = requests.get(url, headers)\n",
        "soup = BeautifulSoup(req.content, 'html.parser')\n",
        "\n",
        "content = soup.find('pre').findAll(text=True, recursive=False) "
      ],
      "execution_count": 15,
      "outputs": []
    },
    {
      "cell_type": "code",
      "metadata": {
        "id": "LiAoq8lXBu2s"
      },
      "source": [
        "dialogue_table = pd.DataFrame(columns = ['character', 'dialogue'])"
      ],
      "execution_count": 16,
      "outputs": []
    },
    {
      "cell_type": "code",
      "metadata": {
        "id": "rAOmU8FTBu2w"
      },
      "source": [
        "line_count = 0\n",
        "flag = False\n",
        "index = 0\n",
        "regex = re.compile(r'[\\n\\r\\t]')\n",
        "for i in content:\n",
        "    line = i.split(\"\\n\")\n",
        "    for l in line:\n",
        "        if \":\" in l:\n",
        "            character = l.split(\":\")[0].rstrip()\n",
        "            if character in common_characters:\n",
        "                dialogue_table = dialogue_table.append({'character' : character}, ignore_index = True)\n",
        "                dialogue_table['dialogue'].iloc[index] = dialogue = regex.sub(\"\", l.split(\": \")[1])\n",
        "                index += 1\n"
      ],
      "execution_count": 17,
      "outputs": []
    },
    {
      "cell_type": "code",
      "metadata": {
        "id": "vukQ4bZ-Bu21"
      },
      "source": [
        "dialogue_table.to_csv(\"/content/drive/MyDrive/SNLP Project/Filtered Data/SW_EpisodeI.csv\", index=False)"
      ],
      "execution_count": 18,
      "outputs": []
    },
    {
      "cell_type": "markdown",
      "metadata": {
        "id": "uPiG1BNbBu27"
      },
      "source": [
        "## Attack of the clone"
      ]
    },
    {
      "cell_type": "code",
      "metadata": {
        "id": "6cB2YM2MBu27"
      },
      "source": [
        "url = \"https://imsdb.com/scripts/Star-Wars-Attack-of-the-Clones.html\"\n",
        "req = requests.get(url, headers)\n",
        "soup = BeautifulSoup(req.content, 'html.parser')\n",
        "\n",
        "content = soup.find('pre').findAll(text=True, recursive=False)"
      ],
      "execution_count": 19,
      "outputs": []
    },
    {
      "cell_type": "code",
      "metadata": {
        "id": "mSR26ZetBu28"
      },
      "source": [
        "dialogue_table = pd.DataFrame(columns = ['character', 'dialogue'])"
      ],
      "execution_count": 20,
      "outputs": []
    },
    {
      "cell_type": "code",
      "metadata": {
        "scrolled": true,
        "id": "aFrje5AoBu29"
      },
      "source": [
        "content = soup.find('pre')\n",
        "line_count = 0\n",
        "flag = False\n",
        "index = 0\n",
        "regex = re.compile(r'[\\n\\r\\t]')\n",
        "for i in content:\n",
        "    if isinstance(i, bs4.element.Tag):\n",
        "        content = i.contents\n",
        "        temp_character = regex.sub(\"\",content[0].rstrip())\n",
        "        if temp_character in common_characters:\n",
        "            dialogue_table = dialogue_table.append({'character' : content[0]}, ignore_index = True)\n",
        "            flag=True\n",
        "    elif flag==True:\n",
        "        dialogue_table['character'].iloc[index] = regex.sub(\"\", dialogue_table.iloc[index].character.rstrip())\n",
        "        dialogue_table['dialogue'].iloc[index] = regex.sub(\"\", i.split('\\n\\r\\n')[0])\n",
        "        flag = False\n",
        "        index += 1"
      ],
      "execution_count": 21,
      "outputs": []
    },
    {
      "cell_type": "code",
      "metadata": {
        "id": "Wlr1u7t_Bu2-"
      },
      "source": [
        "dialogue_table.to_csv(\"/content/drive/MyDrive/SNLP Project/Filtered Data/SW_EpisodeII.csv\", index=False)"
      ],
      "execution_count": 22,
      "outputs": []
    },
    {
      "cell_type": "markdown",
      "metadata": {
        "id": "bdFl0VMSBu2-"
      },
      "source": [
        "## Revenge of the Sith"
      ]
    },
    {
      "cell_type": "code",
      "metadata": {
        "id": "Pkkt-1rbBu2-"
      },
      "source": [
        "url = \"https://imsdb.com/scripts/Star-Wars-Revenge-of-the-Sith.html\"\n",
        "req = requests.get(url, headers)\n",
        "soup = BeautifulSoup(req.content, 'html.parser')\n",
        "\n",
        "content = soup.find('td', class_='scrtext').findAll(text=True, recursive=False) "
      ],
      "execution_count": 23,
      "outputs": []
    },
    {
      "cell_type": "code",
      "metadata": {
        "id": "o6SDxYD0Bu2_"
      },
      "source": [
        "dialogue_table = pd.DataFrame(columns = ['character', 'dialogue'])"
      ],
      "execution_count": 24,
      "outputs": []
    },
    {
      "cell_type": "code",
      "metadata": {
        "id": "Mic_BenVBu2_"
      },
      "source": [
        "flag = False\n",
        "index = 0\n",
        "regex = re.compile(r'[\\n\\r\\t]')\n",
        "for i in content:\n",
        "    line = i.split(\"\\n\")\n",
        "    for l in line:\n",
        "        if \":\" in l:\n",
        "            character = l.split(\":\")[0].rstrip()\n",
        "            if character in common_characters:\n",
        "                dialogue_table = dialogue_table.append({'character' : character}, ignore_index = True)\n",
        "                dialogue_table['dialogue'].iloc[index] = dialogue = regex.sub(\"\", l.split(\": \")[1])\n",
        "                index += 1"
      ],
      "execution_count": 25,
      "outputs": []
    },
    {
      "cell_type": "code",
      "metadata": {
        "id": "8dryKaeQBu2_"
      },
      "source": [
        "dialogue_table.to_csv(\"/content/drive/MyDrive/SNLP Project/Filtered Data/SW_EpisodeIII.csv\", index=False)"
      ],
      "execution_count": 26,
      "outputs": []
    },
    {
      "cell_type": "markdown",
      "metadata": {
        "id": "XgcDbuOoBu3A"
      },
      "source": [
        "# Extract the common characters"
      ]
    },
    {
      "cell_type": "code",
      "metadata": {
        "id": "1J1tRS_cBu3A"
      },
      "source": [
        "df_IV.drop(['Idx'], axis=1, inplace=True)"
      ],
      "execution_count": 27,
      "outputs": []
    },
    {
      "cell_type": "code",
      "metadata": {
        "id": "9d-4mSPDBu3A"
      },
      "source": [
        "df_IV =  df_IV[(df_IV['character'].isin(common_characters))]"
      ],
      "execution_count": 28,
      "outputs": []
    },
    {
      "cell_type": "code",
      "metadata": {
        "id": "jQ8xzKbxBu3A"
      },
      "source": [
        "df_IV.to_csv(\"/content/drive/MyDrive/SNLP Project/Filtered Data/SW_EpisodeIV.csv\", index=False)"
      ],
      "execution_count": 29,
      "outputs": []
    },
    {
      "cell_type": "code",
      "metadata": {
        "id": "XFdHL4dMBu3B"
      },
      "source": [
        "df_V.drop(['Idx'], axis=1, inplace=True)\n",
        "df_V =  df_V[(df_V['character'].isin(common_characters))]\n",
        "df_V.to_csv(\"/content/drive/MyDrive/SNLP Project/Filtered Data/SW_EpisodeV.csv\", index=False)"
      ],
      "execution_count": 30,
      "outputs": []
    },
    {
      "cell_type": "code",
      "metadata": {
        "id": "TkuN-HTQBu3B"
      },
      "source": [
        "df_VI.drop(['Idx'], axis=1, inplace=True)\n",
        "df_VI =  df_VI[(df_VI['character'].isin(common_characters))]\n",
        "df_VI.to_csv(\"/content/drive/MyDrive/SNLP Project/Filtered Data/SW_EpisodeVI.csv\", index=False)"
      ],
      "execution_count": 31,
      "outputs": []
    },
    {
      "cell_type": "code",
      "metadata": {
        "id": "zBLVBH5gYMN-"
      },
      "source": [
        ""
      ],
      "execution_count": 31,
      "outputs": []
    }
  ]
}