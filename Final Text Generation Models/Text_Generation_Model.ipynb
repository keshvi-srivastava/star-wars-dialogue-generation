{
  "nbformat": 4,
  "nbformat_minor": 0,
  "metadata": {
    "colab": {
      "name": "Text Generation Model",
      "provenance": [],
      "collapsed_sections": []
    },
    "kernelspec": {
      "name": "python3",
      "display_name": "Python 3"
    },
    "language_info": {
      "name": "python"
    }
  },
  "cells": [
    {
      "cell_type": "markdown",
      "metadata": {
        "id": "EDW7wel8Eg9R"
      },
      "source": [
        "Model to generate a sequence of following words:\n",
        "1. Extract relevant characters data\n",
        "2. Convert data to token sequence of size 5\n",
        "3. Encode the sentence \n",
        "4. Create a bidirectional LSTM model\n",
        "5. Add Glove word embeddings\n",
        "\n",
        "Reference:\n",
        "\n",
        "~ https://medium.com/@plusepsilon/the-bidirectional-language-model-1f3961d1fb27\n",
        "\n",
        "~ https://www.kaggle.com/guidant/mimicking-star-wars-characters-using-a-i-rnn#2.-Data-Preparation\n",
        "\n",
        "~ https://machinelearningmastery.com/how-to-develop-a-word-level-neural-language-model-in-keras/\n",
        "\n",
        "~ https://machinelearningmastery.com/text-generation-lstm-recurrent-neural-networks-python-keras/\n",
        "\n",
        "~ https://towardsdatascience.com/simple-text-generation-d1c93f43f340\n",
        "\n"
      ]
    },
    {
      "cell_type": "code",
      "metadata": {
        "colab": {
          "base_uri": "https://localhost:8080/"
        },
        "id": "YVbk-xlwrTER",
        "outputId": "586e7d83-dcde-4a7a-aaf5-0dfc4c589c11"
      },
      "source": [
        "# Imports\n",
        "import numpy as np\n",
        "import pandas as pd\n",
        "import string\n",
        "from random import randint\n",
        "from tensorflow.keras.preprocessing.sequence import pad_sequences\n",
        "\n",
        "from keras.models import Sequential\n",
        "from keras.models import Model\n",
        "from keras.models import load_model\n",
        "from keras.layers import Dense\n",
        "from keras.layers import LSTM\n",
        "from keras.layers import GRU\n",
        "from keras.layers import Embedding\n",
        "from keras.layers import Input\n",
        "from keras.layers import Bidirectional\n",
        "from keras.layers import GlobalMaxPool1D\n",
        "from keras.callbacks import ModelCheckpoint\n",
        "from keras.preprocessing.text import Tokenizer\n",
        "from keras.optimizers import Adam\n",
        "from keras.callbacks import EarlyStopping\n",
        "\n",
        "\n",
        "from __future__ import print_function\n",
        "from nltk.translate.bleu_score import SmoothingFunction, corpus_bleu, sentence_bleu\n",
        "\n",
        "# Get Pre-trained GLOVE embeddings\n",
        "!wget http://nlp.stanford.edu/data/glove.6B.zip\n",
        "!unzip glove*.zip\n",
        "!ls\n",
        "!pwd\n",
        "\n",
        "#load the whole embedding into memory\n",
        "embeddings_index = dict()\n",
        "f = open('/content/glove.6B.300d.txt')\n",
        "\n",
        "for line in f:\n",
        "  values = line.split()\n",
        "  word = values[0]\n",
        "  coefs = np.asarray(values[1:], dtype='float32')\n",
        "  embeddings_index[word] = coefs\n",
        "\n",
        "f.close()\n",
        "print('Loaded %s word vectors.' % len(embeddings_index))"
      ],
      "execution_count": 122,
      "outputs": [
        {
          "output_type": "stream",
          "text": [
            "--2021-04-22 01:37:29--  http://nlp.stanford.edu/data/glove.6B.zip\n",
            "Resolving nlp.stanford.edu (nlp.stanford.edu)... 171.64.67.140\n",
            "Connecting to nlp.stanford.edu (nlp.stanford.edu)|171.64.67.140|:80... connected.\n",
            "HTTP request sent, awaiting response... 302 Found\n",
            "Location: https://nlp.stanford.edu/data/glove.6B.zip [following]\n",
            "--2021-04-22 01:37:29--  https://nlp.stanford.edu/data/glove.6B.zip\n",
            "Connecting to nlp.stanford.edu (nlp.stanford.edu)|171.64.67.140|:443... connected.\n",
            "HTTP request sent, awaiting response... 301 Moved Permanently\n",
            "Location: http://downloads.cs.stanford.edu/nlp/data/glove.6B.zip [following]\n",
            "--2021-04-22 01:37:29--  http://downloads.cs.stanford.edu/nlp/data/glove.6B.zip\n",
            "Resolving downloads.cs.stanford.edu (downloads.cs.stanford.edu)... 171.64.64.22\n",
            "Connecting to downloads.cs.stanford.edu (downloads.cs.stanford.edu)|171.64.64.22|:80... connected.\n",
            "HTTP request sent, awaiting response... 200 OK\n",
            "Length: 862182613 (822M) [application/zip]\n",
            "Saving to: ‘glove.6B.zip.6’\n",
            "\n",
            "glove.6B.zip.6      100%[===================>] 822.24M  4.98MB/s    in 2m 41s  \n",
            "\n",
            "2021-04-22 01:40:11 (5.10 MB/s) - ‘glove.6B.zip.6’ saved [862182613/862182613]\n",
            "\n",
            "Archive:  glove.6B.zip\n",
            "replace glove.6B.50d.txt? [y]es, [n]o, [A]ll, [N]one, [r]ename: n\n",
            "replace glove.6B.100d.txt? [y]es, [n]o, [A]ll, [N]one, [r]ename: n\n",
            "replace glove.6B.200d.txt? [y]es, [n]o, [A]ll, [N]one, [r]ename: n\n",
            "replace glove.6B.300d.txt? [y]es, [n]o, [A]ll, [N]one, [r]ename: n\n",
            " benmodel_gen_sentences.02-6.37.hdf5   glove.6B.zip.5\n",
            " benmodel_gen_sentences.02-6.44.hdf5   glove.6B.zip.6\n",
            " benmodel_gen_sentences.04-6.75.hdf5   ObiWanGeneratedSen.txt\n",
            " benmodel_gen_sentences.04-6.98.hdf5   ObiWanProcessedData.txt\n",
            " drive\t\t\t\t       sample_data\n",
            "'Filtered Data'\t\t\t       ThreepioGeneratedSen.txt\n",
            " glove.6B.100d.txt\t\t       threepiomodel_gen_sentences.02-6.11.hdf5\n",
            " glove.6B.200d.txt\t\t       threepiomodel_gen_sentences.04-6.45.hdf5\n",
            " glove.6B.300d.txt\t\t       threepiomodel_gen_sentences.06-8.49.hdf5\n",
            " glove.6B.50d.txt\t\t       ThreepioProcessedData.txt\n",
            " glove.6B.zip\t\t\t       YodaGeneratedSen.txt\n",
            " glove.6B.zip.1\t\t\t       yodamodel_gen_sentences.02-5.69.hdf5\n",
            " glove.6B.zip.2\t\t\t       yodamodel_gen_sentences.04-5.75.hdf5\n",
            " glove.6B.zip.3\t\t\t       yodamodel_gen_sentences.06-6.35.hdf5\n",
            " glove.6B.zip.4\t\t\t       YodaProcessedData.txt\n",
            "/content\n",
            "Loaded 400000 word vectors.\n"
          ],
          "name": "stdout"
        }
      ]
    },
    {
      "cell_type": "code",
      "metadata": {
        "colab": {
          "base_uri": "https://localhost:8080/"
        },
        "id": "Mh7sOK-PsA4O",
        "outputId": "d3ed6823-b5f0-446f-8280-7bb57f870ecf"
      },
      "source": [
        "# Add file path to where the filtered data may be\n",
        "# One can also add the folder temporarily in the runtime location\n",
        "# path_to_file = '/content/Filtered Data/'\n",
        "path_to_file = '/content/drive/MyDrive/SNLP Project/Filtered Data/'\n",
        "\n",
        "# Create Dataframe of all characters and dialogues\n",
        "data = pd.DataFrame(columns = ['character', 'dialogue'])\n",
        "\n",
        "for file in os.listdir(path_to_file):\n",
        "    print(file)\n",
        "    df = pd.read_csv(path_to_file+file)\n",
        "    data = data.append(df, ignore_index=True)\n",
        "\n",
        "data['character'] = data[\"character\"].str.lower()\n",
        "\n",
        "data['character'] = data.character.replace(\"obi-wan\", \"ben\", regex=True)\n",
        "data['character'] = data.character.replace(\"c-3po\", \"threepio\", regex=True)\n",
        "\n",
        "unique_characters = data.character.unique()\n",
        "\n",
        "data_dict = data.groupby('character')['dialogue'].apply(lambda g: g.values.tolist()).to_dict()"
      ],
      "execution_count": 123,
      "outputs": [
        {
          "output_type": "stream",
          "text": [
            "SW_EpisodeI.csv\n",
            "SW_EpisodeII.csv\n",
            "SW_EpisodeIII.csv\n",
            "SW_EpisodeIV.csv\n",
            "SW_EpisodeV.csv\n",
            "SW_EpisodeVI.csv\n"
          ],
          "name": "stdout"
        }
      ]
    },
    {
      "cell_type": "code",
      "metadata": {
        "id": "c0k32vUqubpV"
      },
      "source": [
        "def preprocess_text(sen):\n",
        "\n",
        "    # Remove ....\n",
        "    sentence = re.sub('\\.+', ' ', sen)\n",
        "\n",
        "    # Remove punctuations\n",
        "    sentence = re.sub('[%s]' % re.escape(string.punctuation), '', sentence)\n",
        "\n",
        "    # Remove extra spaces\n",
        "    sentence = re.sub(' +', ' ', sentence)\n",
        "\n",
        "    # Remove numbers\n",
        "    sentence = ''.join(filter(lambda x: not x.isdigit(), sentence))\n",
        "\n",
        "    # Lower case\n",
        "    sentence = sentence.lower()\n",
        "\n",
        "    # Return a list of tokens (words)\n",
        "    sentence = sentence.split()\n",
        "\n",
        "    return sentence"
      ],
      "execution_count": 124,
      "outputs": []
    },
    {
      "cell_type": "code",
      "metadata": {
        "id": "a0zR780bujQj"
      },
      "source": [
        "def get_char_df(name, preprocessed_sen_filename):\n",
        "\n",
        "  global tokens, char_data, token_list\n",
        "\n",
        "  tokens = [preprocess_text(row) for row in data_dict[name]]\n",
        "  char_data = [' '.join(row) for row in tokens]\n",
        "  token_list = [item for sublist in tokens for item in sublist]\n",
        "\n",
        "  preprocessed_output_file = open(preprocessed_sen_filename,\"a\")\n",
        "  for row in tokens:\n",
        "    str_val = ' '.join(row)\n",
        "    preprocessed_output_file.writelines(str_val + '\\n')\n",
        "  preprocessed_output_file.close() "
      ],
      "execution_count": 125,
      "outputs": []
    },
    {
      "cell_type": "code",
      "metadata": {
        "id": "OaGNgcurvVUm"
      },
      "source": [
        "def model_gen(name):\n",
        "\n",
        "  global tokenizer, reverse_word_dict, dataX\n",
        "\n",
        "  # integer encode sequences of words\n",
        "  tokenizer = Tokenizer()\n",
        "  tokenizer.fit_on_texts(token_list)\n",
        "  unique_words = set(token_list)\n",
        "  sequences_tokenised = tokenizer.texts_to_sequences(tokens)\n",
        "\n",
        "  vocab_size = len(unique_words)+1\n",
        "  n_sentences = len(tokens)\n",
        "\n",
        "  print(\"# of Unique Words: \", unique_words)\n",
        "  print(\"Tokenised sequences \", sequences_tokenised)\n",
        "  print(\"Vocabulary Size: \", vocab_size)\n",
        "  print(\"Number of sentences \", n_sentences)\n",
        "\n",
        "  reverse_word_dict = {v: k for k, v in tokenizer.word_index.items()} \n",
        "\n",
        "  # create a weight matrix for words in training docs\n",
        "  embedding_matrix = np.zeros((vocab_size, 300))\n",
        "\n",
        "  for word, i in tokenizer.word_index.items():\n",
        "      embedding_vector = embeddings_index.get(word)\n",
        "      if embedding_vector is not None:\n",
        "          embedding_matrix[i] = embedding_vector\n",
        "\n",
        "  #Create sliding windows of size 5\n",
        "  seq_length = 5\n",
        "  dataX = []\n",
        "  dataY = []\n",
        "  for dialogue in sequences_tokenised:\n",
        "    for i in range(len(dialogue)-5):\n",
        "      dataX.append(dialogue[i:i+5])\n",
        "      dataY.append(dialogue[i+5])\n",
        "\n",
        "  y = np.zeros((len(dataY), vocab_size), dtype=np.bool)\n",
        "  for i, sentence in enumerate(dataY):\n",
        "    y[i, dataY[i]] = 1\n",
        "\n",
        "  X = pad_sequences(dataX, maxlen=5)\n",
        "\n",
        "  learning_rate = 0.001\n",
        "  embedding_layer = Embedding(vocab_size,\n",
        "                                300,\n",
        "                                weights=[embedding_matrix],\n",
        "                                input_length=seq_length,\n",
        "                                trainable=False)\n",
        "  inp = Input(shape=(seq_length,))\n",
        "  x = embedding_layer(inp)\n",
        "  x = Bidirectional(LSTM(200,return_sequences=True,dropout=0.1,recurrent_dropout=0.1))(x)\n",
        "  x = GlobalMaxPool1D()(x)\n",
        "  x = Dense(vocab_size,activation='relu')(x)\n",
        "  x = Dense(vocab_size,activation='sigmoid')(x)\n",
        "  model = Model(inputs=inp,outputs=x)\n",
        "  optimizer = Adam(lr=learning_rate)\n",
        "\n",
        "  #call the functions in the metrics \n",
        "  model.compile(optimizer=optimizer,loss='categorical_crossentropy',metrics=['accuracy'])\n",
        "  model.summary()\n",
        "\n",
        "  batch_size = 32 # minibatch size\n",
        "  num_epochs = 100 # number of epochs\n",
        "\n",
        "  callbacks=[EarlyStopping(patience=4, monitor='val_loss'),\n",
        "              ModelCheckpoint(filepath=\"./\" + name + 'model_gen_sentences.{epoch:02d}-{val_loss:.2f}.hdf5',\\\n",
        "                              monitor='val_loss', verbose=0, mode='auto', period=2)]\n",
        "  #fit the model\n",
        "  history = model.fit(X, y,\n",
        "                    batch_size=batch_size,\n",
        "                    shuffle=True,\n",
        "                    epochs=num_epochs,\n",
        "                    callbacks=callbacks,\n",
        "                    validation_split=0.1)\n",
        "\n",
        "  #save the model\n",
        "  model.save(\"/content/drive/MyDrive/Colab Notebooks/\" + name + \"_model_generate_sentences.h5\")\n"
      ],
      "execution_count": 126,
      "outputs": []
    },
    {
      "cell_type": "code",
      "metadata": {
        "id": "996E0XhExCfk"
      },
      "source": [
        "def sample(preds, temperature=2.0):\n",
        "    # helper function to sample an index from a probability array\n",
        "    preds = np.asarray(preds).astype('float64')\n",
        "    preds = np.log(preds) / temperature\n",
        "    exp_preds = np.exp(preds)\n",
        "    preds = exp_preds / np.sum(exp_preds)\n",
        "    probas = np.random.multinomial(1, preds, 1)\n",
        "    return np.argmax(probas)"
      ],
      "execution_count": 127,
      "outputs": []
    },
    {
      "cell_type": "code",
      "metadata": {
        "id": "MMtVyVAFw95c"
      },
      "source": [
        "def generate_sentence(model):\n",
        "\n",
        "  #initiate sentences\n",
        "  generated = ''\n",
        "  sentence = dataX[randint(0,len(dataX))]\n",
        "  sentence = [' '.join([reverse_word_dict[word] for word in sentence])]\n",
        "  generated += sentence[0]\n",
        "\n",
        "  #we generate the next text\n",
        "  for i in range(5):\n",
        "    \n",
        "      seq = tokenizer.texts_to_sequences(sentence)\n",
        "      padded = pad_sequences(seq, maxlen=5)\n",
        "\n",
        "      #calculate next word\n",
        "      preds = model.predict(padded, verbose=0)[0]\n",
        "      next_index = sample(preds, 0.33)\n",
        "      next_word = reverse_word_dict[next_index]\n",
        "\n",
        "      #add the next word to the text\n",
        "      generated += \" \" + next_word\n",
        "      sentence = [' '.join(sentence[0].split()[1:]) + \" \" + next_word]\n",
        "      \n",
        "  #print the whole text\n",
        "  return (generated)"
      ],
      "execution_count": 128,
      "outputs": []
    },
    {
      "cell_type": "code",
      "metadata": {
        "id": "OnLNMVrlxkjH"
      },
      "source": [
        "def get_bleu_score(ref, gen):\n",
        "  bleu_score = 0\n",
        "  for sen in gen:\n",
        "    bleu_score += sentence_bleu(ref, sen.split())\n",
        "  return (bleu_score/10)"
      ],
      "execution_count": 129,
      "outputs": []
    },
    {
      "cell_type": "code",
      "metadata": {
        "id": "-nLBZkvFxVSk"
      },
      "source": [
        "def main(name, preprocessed_sen_filename, output_sen_filename):\n",
        "\n",
        "  # Get individual character Dataframe\n",
        "  get_char_df(name, preprocessed_sen_filename)\n",
        "\n",
        "  # Prepare and train the model\n",
        "  model_gen(name)\n",
        "\n",
        "  # Load the trained model\n",
        "  model = load_model(\"/content/drive/MyDrive/Colab Notebooks/\" + name + \"_model_generate_sentences.h5\")\n",
        "\n",
        "  # Generate 10 random sentences from 10 randomly selected seed sentences from original tokens\n",
        "  n_sentences_gen = 10\n",
        "  generated_sentences = []\n",
        "  for i in range(n_sentences_gen):\n",
        "    generated_sentences.append(generate_sentence(model))\n",
        "\n",
        "  # Create output file for generated sentences\n",
        "  output_file = open(output_sen_filename,\"a\")\n",
        "  for row in generated_sentences:\n",
        "    output_file.writelines(row + '\\n')\n",
        "  \n",
        "\n",
        "  # Check Bleu Score of the output\n",
        "  output_file.writelines('\\n')\n",
        "  output_file.writelines('BLEU score for {} -> {}'.format(name, get_bleu_score(tokens, generated_sentences)))\n",
        "\n",
        "  output_file.close()\n"
      ],
      "execution_count": 130,
      "outputs": []
    },
    {
      "cell_type": "code",
      "metadata": {
        "colab": {
          "base_uri": "https://localhost:8080/"
        },
        "id": "W59E3bRf1zyS",
        "outputId": "eb0acf12-02b4-4cb0-998e-9c321d097d4c"
      },
      "source": [
        "main(\"ben\", \"ObiWanProcessedData.txt\",\"ObiWanGeneratedSen.txt\")"
      ],
      "execution_count": 131,
      "outputs": [
        {
          "output_type": "stream",
          "text": [
            "# of Unique Words:  {'attuned', 'terrible', 'palpatine', 'affairs', 'rough', 'held', 'stressed', 'lead', 'suggestions', 'bad', 'learn', 'bounty', 'switch', 'obiwan', 'suit', 'empire', 'twenty', 'cody', 'takes', 'rim', 'makes', 'fast', 'tests', 'mentioned', 'that', 'plot', 'would', 'running', 'mlady', 'dagobah', 'not', 'youd', 'most', 'burden', 'seduced', 'padmei', 'asked', 'accurate', 'form', 'moody', 'coming', 'roomcheck', 'direction', 'field', 'whats', 'going', 'own', 'people', 'fins', 'politicians', 'opinionated', 'continuinghere', 'jedis', 'lightly', 'vader', 'got', 'many', 'mark', 'diplomatic', 'busy', 'crossed', 'personal', 'activity', 'term', 'came', 'allegiance', 'idealistic', 'from', 'maybe', 'sorry', 'given', 'deceive', 'no', 'arfour', 'clumsy', 'shut', 'her', 'thearchives', 'shall', 'file', 'hunt', 'so', 'whohired', 'haveerased', 'felt', 'council', 'ah', 'pathetic', 'get', 'rash', 'why', 'careful', 'two', 'theinterior', 'buzz', 'beengiven', 'certainly', 'evil', 'level', 'death', 'however', 'anywhere', 'believe', 'that\\x92s', 'force', 'arrogant', 'let', 'greater', 'morecivilized', 'pay', 'topof', 'himself', 'serve', 'foolish', 'cockpits', 'easily', 'grows', 'combat', 'sister', 'survive', 'wise', 'inbound', 'point', 'press', 'this', 'folks', 'deceived', 'senate', 'troops', 'upon', 'trap', 'youll', 'disturbance', 'excuse', 'astonishedthe', 'business', 'pleasure', 'penetrates', 'abilities', 'met', 'credit', 'small', 'flaw', 'battle', 'councils', 'navigation', 'dying', 'politics', 'orders', 'delicate', 'fair', 'whyit', 'random', 'thinking', 'possible', 'lord', 'anythinganakin', 'theold', 'hear', 'flowing', 'lightsaber', 'wont', 'seems', 'goodjob', 'bows', 'pilot', 'entire', 'deals', 'including', 'beback', 'passengers', 'will', 'surrounds', 'tight', 'symbiont', 'grave', 'extinct', 'stupid', 'stake', 'low', 'anything', 'word', 'plan', 'youdo', 'title', 'taught', 'trust', 'anakins', 'identification', 'new', 'reply', 'sell', 'left', 'use', 'growthacceleration', 'points', 'truly', 'someone', 'son', 'away', 'afraid', 'heard', 'watch', 'againmlady', 'world', 'sand', 'questions', 'act', 'looking', 'signal', 'hit', 'jokes', 'hey', 'theyre', 'quite', 'panel', 'thenegative', 'rushing', 'became', 'pupil', 'returned', 'ill', 'different', 'laughing', 'foundries', 'try', 'defy', 'fuel', 'walked', 'there', 'planet', 'wretched', 'reasons', 'do', 'familiar', 'naboo', 'knight', 'meet', 'brave', 'life', 'strange', 'dreams', 'stormtroopers', 'reminds', 'blame', 'man', 'strips', 'republic', 'where', 'sensesarent', 'eventually', 'link', 'requested', 'noe', 'isescorting', 'dart', 'anakinwe', 'care', 'another', 'hologram', 'says', 'passions', 'could', 'old', 'oblivion', 'gungan', 'being', 'move', 'yourthoughts', 'am', 'noticed', 'firm', 'perhaps', 'spring', 'insight', 'has', 'did', 'getting', 'prematurely', 'long', 'angrilyit', 'to', 'fault', 'child', 'single', 'cautious', 'flyable', 'an', 'follows', 'owen', 'nods', 'squad', 'matter', 'levels', 'someonewho', 'spoke', 'villainy', 'quigon', 'ship', 'buy', 'willed', 'storms', 'split', 'thats', 'asking', 'half', 'relay', 'negotiations', 'check', 'oops', 'look', 'uphold', 'course', 'captain', 'clear', 'ive', 'heis', 'knights', 'temp', 'starships', 'queens', 'place', 'emergency', 'easyeasy', 'trusts', 'train', 'sieges', 'rebel', 'kamino', 'survived', 'toxic', 'morethan', 'ground', 'hunter', 'greatly', 'hoping', 'your', 'againplease', 'straight', 'prime', 'alone', 'luck', 'swing', 'center', 'him', 'yousenator', 'minister', 'even', 'thisplot', 'appears', 'was', 'destiny', 'worth', 'endless', 'i\\x92m', 'cling', 'guiding', 'behind', 'leads', 'cell', 'sixtytwenty', 'land', 'inaction', 'lie', 'me', 'we\\x92re', 'size', 'doesn\\x92t', 'couldnt', 'serves', 'pregnant', 'saleucami', 'engage', 'drag', 'code', 'speak', 'thedeal', 'foster', 'losing', 'better', 'have', 'jundland', 'aninvestigation', 'itd', 'theirarmies', 'ever', 'managed', 'commerce', 'troopers', 'avoid', 'think\\x92what', 'timejango', 'said', 'atfollowing', 'havent', 'you', 'relationship', 'assassin', 'bait', 'wait', 'rethink', 'ahead', 'larger', 'tracks', 'talking', 'put', 'plus', 'sidious', 'mos', 'arent', 'temple', 'one', 'insightinto', 'transmission', 'themysterious', 'thatsenators', 'situation', 'intact', 'exercises', 'powerful', 'ouch', 'sidodyas', 'tahyts', 'such', 'fails', 'weakminded', 'chewbacca', 'offspring', 'carrying', 'charge', 'approach', 'indoors', 'found', 'theniceties', 'just', 'crazy', 'trifighters', 'twin', 'other', 'impossible', 'machine', 'shelter', 'instruct', 'chancellors', 'wary', 'confront', 'understand', 'kill', 'yoda', 'impatience', 'show', 'thanks', 'ongeonosis', 'fighting', 'quadrant', 'dischargers', 'water', 'queen', 'personally', 'keep', 'helped', 'training', 'artoo', 'boga', 'follow', 'five', 'balance', 'continuingfollow', 'missed', 'youngapprentice', 'done', 'effort', 'figure', 'station', 'weve', 'starpilot', 'hidden', 'disrespect', 'foundry', 'jedi', 'im', 'alternatives', 'ball', 'next', 'who', 'position', 'at', 'thousand', 'disturb', 'rule', 'pledged', 'uneasy', 'victory', 'in', 'midichlorian', 'were', 'pass', 'feelings', 'work', 'millions', 'spot', 'wentdown', 'soon', 'leftthe', 'cato', 'off', 'depend', 'stayed', 'area', 'noddingaccording', 'shooting', 'steady', 'reach', 'fancy', 'deserve', 'knowwhere', 'protectthe', 'all', 'wevelost', 'than', 'among', 'hiding', 'friendship', 'willpay', 'self', 'dooku', 'thought', 'commander', 'clearer', 'elevator', 'bolts', 'more', 'household', 'hyperdrive', 'speed', 'beginning', 'everything', 'true', 'clever', 'detached', 'good', 'cunning', 'nine', 'nameddarth', 'anonymous', 'closing', 'ten', 'desperate', 'welaughingkamino', 'she', 'thosefunds', 'aswordsman', 'theyve', 'therishi', 'charts', 'whether', 'years', 'enthusiasm', 'master', 'choose', 'need', 'instructed', 'skywalker', 'fall', 'won', 'igave', 'may', 'allow', 'youhad', 'regardless', 'right', 'less', 'slowlyon', 'feel', 'anythingfoolish', 'cloners', 'certain', 'hasinstructed', 'destroy', 'howd', 'route', 'ourmandate', 'learnyour', 'rescued', 'longer', 'platform', 'crusade', 'become', 'mother', 'dark', 'eighteen', 'send', 'impossibleisn\\x92t', 'picked', 'making', 'onpleasing', 'strongly', 'emperor', 'ways', 'escape', 'pity', 'by', 'power', 'avoiding', 'generations', 'three', 'here', 'anakin', 'troubles', 'sworn', 'trials', 'worriedabout', 'yours', 'serious', 'south', 'full', 'dexter', 'news', 'wastes', 'humbled', 'assistance', 'thank', 'vote', 'specialty', 'democracy', 'already', 'realise', 'warriors', 'unfortunately', 'happened', 'curious', 'top', 'wit', 'coruscant', 'voices', 'needs', 'leader', 'aware', 'maze', 'bring', 'bridge', 'forward', 'showup', 'a', 'feelingsget', 'waysto', 'isn\\x92t', 'uphere', 'sabers', 'codefive', 'briefing', 'eisley', 'does', 'happy', 'approved', 'proud', 'keeping', 'southwestern', 'justice', 'supplies', 'becoming', 'impressive', 'hope', 'gone', 'same', 'brings', 'id', 'surei', 'warm', 'range', 'warilyim', 'mission', 'enoughmen', 'like', 'stragglers', 'senator', 'emotionalconnection', 'broken', 'wanted', 'wild', 'surprisedreally', 'chancellor', 'tell', 'since', 'overshot', 'once', 'down', 'live', 'every', 'difficult', 'todo', 'generators', 'continuingwait', 'saw', 'angry', 'younglings', 'glorious', 'around', 'high', 'had', 'trade', 'sarcasticoh', 'record', 'absolutes', 'gonnablast', 'poster', 'uptwelve', 'fried', 'guardians', 'fly', 'attention', 'named', 'home', 'stop', 'when', 'recruited', 'surviving', 'hundreds', 'darth', 'padawan', 'fool', 'continuingyou', 'areforming', 'command', 'trying', 'star', 'sure', 'again', 'between', 'give', 'blaster', 'continuing', 'fifteen', 'permission', 'goodbye', 'tired', 'been', 'seem', 'thisexercise', 'destroyed', 'lets', 'fallen', 'expired', 'hangar', 'elegant', 'scramble', 'allowed', 'feeling', 'interpret', 'focused', 'fell', 'clonesit', 'war', 'shutting', 'nemoidia', 'powers', 'shortcut', 'containers', 'truths', 'princess', 'or', 'interrogation', 'fighter', 'hello', 'fogging', 'grievous', 'absolutly', 'iveobserved', 'tatooine', 'ought', 'theres', 'remains', 'too', 'then', 'pod', 'kind', 'immunity', 'also', 'wrong', 'amgoing', 'ceased', 'needtreatment', 'yes', 'doesntseem', 'instinct', 'talked', 'involved', 'vicroy', 'starters', 'due', 'times', 'patient', 'contact', 'damnedfool', 'calm', 'before', 'want', 'assignment', 'his', 'betrusted', 'timeworking', 'value', 'nowhes', 'armies', 'paid', 'leave', 'prove', 'saber', 'toward', 'fatal', 'eight', 'fear', 'changed', 'achieved', 'kyberdart', 'surface', 'accomplish', 'meant', 'head', 'yet', 'goafter', 'withoutchecking', 'my', 'bottom', 'afraidanakin', 'short', 'typho', 'six', 'some', 'think', 'apolitician', 'folkshome', 'are', 'twisted', 'energy', 'save', 'time', 'deck', 'youre', 'commands', 'cant', 'hatches', 'obvious', 'continuingi', 'speeder', 'relieve', 'moved', 'always', 'thatmight', 'picture', 'principles', 'suffer', 'likely', 'friends', 'systems', 'depends', 'shields', 'jango', 'understood', 'fromthe', 'pullingall', 'girl', 'way', 'speeches', 'clones', 'ofyou', 'fate', 'killed', 'b', 'break', 'great', 'swore', 'virtue', 'those', 'part', 'hide', 'patience', 'beworking', 'taken', 'telling', 'make', 'space', 'dear', 'concerned', 'grind', 'love', 'highborn', 'blast', 'continued', 'taking', 'delivered', 'acommitment', 'imagine', 'tension', 'fireships', 'learned', 'cause', 'thing', 'he', 'reckless', 'eye', 'easy', 'hits', 'senators', 'probably', 'actually', 'wounds', 'didnt', 'chosen', 'but', 'far', 'butwhat', 'living', 'sense', 'imcrazy', 'city', 'they', 'deathsticks', 'stopped', 'happen', 'relations', 'alderaan', 'very', 'odd', 'incomplete', 'quit', 'attitude', 'finished', 'main', 'door', 'uncivilized', 'handle', 'neither', 'lust', 'never', 'truth', 'moving', 'clone', 'over', 'best', 'us', 'stars', 'happens', 'pilots', 'smiling', 'danger', 'nowwhat', 'flying', 'powercouplings', 'flaps', 'protect', 'late', 'into', 'mean', 'listen', 'both', 'fund', 'twins', 'admit', 'wasfor', 'thousands', 'seeing', 'real', 'future', 'o', 'run', 'iam', 'of', 'observation', 'easiest', 'bantha', 'lineage', 'someones', 'theybetray', 'wed', 'idont', 'wewouldnt', 'attacked', 'sarcasticallyoh', 'feels', 'overdid', 'mind', 'using', 'dangerous', 'warned', 'path', 'see', 'gives', 'focusing', 'take', 'skills', 'about', 'these', 'step', 'piece', 'contactedyou', 'wentcompletely', 'is', 'crush', 'expected', 'cruiser', 'spend', 'jump', 'intruder', 'drink', 'uncle', 'worried', 'whos', 'until', 'please', 'born', 'sudden', 'alltimes', 'mostprecious', 'locate', 'fact', 'killing', 'what', 'youmay', 'defeat', 'wonder', 'frequency', 'order', 'warrior', 'none', 'interesting', 'gave', 'count', 'suggest', 'office', 'fett', 'distracted', 'itshould', 'risky', 'higher', 'ready', 'called', 'cannot', 'darkness', 'slow', 'tempted', 'either', 'itspersonal', 'atmosphere', 'escapes', 'for', 'possession', 'willtry', 'fix', 'i', 'improvisingthat', 'owning', 'inthe', 'took', 'up', 'capacity', 'appointment', 'hah', 'investigate', 'chase', 'button', 'be', 'tradefederation', 'negotiaion', 'tooold', 'interfere', 'friendly', 'interferes', 'bigger', 'gifted', 'might', 'slightest', 'hell', 'wants', 'illtake', 'trained', 'light', 'bay', 'wardrobe', 'safely', 'rival', 'padme', 'lies', 'adopted', 'hasnt', 'near', 'exceed', 'hero', 'luke', 'safe', 'invisiblemlady', 'alternative', 'fire', 'considerably', 'offhand', 'today', 'with', 'through', 'leia', 'little', 'dead', 'influence', 'out', 'sent', 'alliance', 'fortunate', 'deserves', 'strike', 'somewhere', 'respect', 'circle', 'friend', 'strong', 'sale', 'kenobi', 'arrogance', 'must', 'welcome', 'how', 'maps', 'brother', 'havetheir', 'politically', 'boz', 'continuingyiiii', 'ideals', 'our', 'recently', 'bethe', 'os', 'tail', 'doing', 'security', 'only', 'without', 'agree', 'weretrying', 'believed', 'droid', 'sort', 'nothing', 'ships', 'shed', 'network', 'doabsolutely', 'analysisarchive', 'wouldnt', 'ninth', 'worry', 'trusthim', 'because', 'oh', 'upset', 'against', 'outwhats', 'trouble', 'things', 'forget', 'parents', 'their', 'know', 'experience', 'them', 'astar', 'eyes', 'minute', 'youve', 'win', 'generator', 'young', 'four', 'day', 'reason', 'say', 'spare', 'stage', 'cantd', 'join', 'should', 'lords', 'frowningwere', 'prepared', 'repubic', 'silenced', 'almost', 'ally', 'poor', 'any', 'helping', 'tricks', 'conscious', 'padawanyou', 'hands', 'hold', 'gravity', 'computer', 'name', 'repeat', 'breath', 'terror', 'plug', 'geenine', 'extended', 'myself', 'theircampaigns', 'everyone', 'jar', 'miss', 'smarter', 'galaxy', '\\x91you', 'stuck', 'weapon', 'absolutely', 'side', 'teach', 'able', 'homefor', 'willcome', 'freighter', 'spire', 'planetsystem', 'archive', 'knew', 'willing', 'doesnt', 'betrayed', 'job', 'several', 'come', 'afford', 'go', 'asyou', 'control', 'sixtyforty', 'beenthere', 'battledroids', 'obeys', 'startled', 'locked', 'imperial', 'quickly', 'politician', 'daughter', 'last', 'nearby', 'lose', 'loved', 'well', 'dealings', 'shes', 'honor', 'traveled', 'jangofett', 'cried', 'start', 'behavior', 'we', 'first', 'as', 'gained', 'the', 'it', 'dont', 'rest', 'murdered', 'past', 'partially', 'sith', 'feared', 'andprejudices', 'thearchive', 'sixty', 'confused', 'organa', 'message', 'bongo', 'father', 'quietly', 'wiped', 'defeated', 'jealousy', 'amazed', 'something', 'deliveries', 'fathers', 'promise', 'group', 'tyranus', 'remember', 'droids', 'thoughts', 'outer', 'learner', 'report', 'base', 'regroup', 'spaceport', 'attract', 'mindful', 'suddenly', 'welcomes', 'thoughtyes', 'mymaster', 'dressed', 'palpatines', 'beyond', 'if', 'extra', 'v', 'consequences', 'heads', 'lost', 'moon', 'mine', 'quigons', 'ninetyfour', 'deep', 'dragging', 'along', 'enough', 'carefullytell', 'turned', 'idea', 'turn', 'warning', 'firstmate', 'age', 'furiousbut', 'after', 'general', 'sitting', 'hang', 'binds', 'hes', 'besides', 'entanglements', 'seen', 'much', 'still', 'told', 'mentionedhe', 'wars', 'vos', 'twist', 'battalions', 'presence', 'staying', 'boys', 'search', 'which', 'numbers', 'created', 'now', 'unaltered', 'army', 'controls', 'affected', 'degrees', 'few', 'its', 'activate', 'suicide', 'possibly', 'landing', 'talk', 'sound', 'apprentice', 'add', 'stay', 'on', 'open', 'heating', 'copy', 'thisout', 'precise', 'scum', 'executive', 'looks', 'following', 'corrupt', 'attack', 'find', 'stalledand', 'unusual', 'transportation', 'failed', 'inwardto', 'stretch', 'hate', 'anger', 'shield', 'ours', 'amidala', 'ride', 'view', 'indeed', 'aaaggghhh', 'face', 'back', 'utapau', 'hurry', 'continuingwell', 'yourself', 'trick', 'unconscious', 'bury', 'forms', 'banished', 'courscant', 'downstairs', 'impatient', 'representative', 'deal', 'glad', 'made', 'saved', 'bucket', 'gothrough', 'and', 'together', 'hired', 'thirteen', 'gotten', 'pride', 'boasting', 'invisible', 'threat', 'close', 'system', 'hmm', 'viceroy', 'information', 'can', 'peace', 'describedto', 'help', 'isnt', 'you\\x92velost', 'hive', 'boy', 'comlink', 'continuingever', 'whooooaaa', 'dex', 'recalibrated', 'vital', 'guildsare', 'quadrantsomewhere', 'family'}\n",
            "Tokenised sequences  [[4, 12, 5, 275, 276, 91, 15], [29, 13, 91, 1, 277, 23, 29], [23, 79, 550, 4, 124, 11, 384, 7, 1, 551], [98, 23, 125, 27, 2, 68, 1, 552, 553, 25, 554, 30], [555, 385, 143, 15, 277, 10, 386, 1, 556, 557], [42, 12, 558, 559], [29, 111, 560, 278], [2, 44, 50, 91, 87, 160, 23, 1, 561, 44], [144, 23, 1, 562, 563, 37, 228], [98, 23], [279, 15], [59, 42, 99, 74, 42, 25, 564, 74, 565, 74, 145, 161], [28, 191, 15, 43, 13, 60, 112, 280, 26, 566, 567], [281, 162, 80, 88, 192, 7, 1, 568, 42, 25, 146], [2, 8, 1, 282, 283, 5, 569, 570, 31, 571, 3, 572, 7], [23, 279, 5, 573], [24, 22, 284, 7, 51, 23], [23, 75, 27, 2, 163, 574, 164, 387, 165, 575, 285], [75, 44, 2, 388, 166, 166], [42, 388, 2, 229, 69, 389], [193, 21, 1, 286], [44, 576, 167], [390, 100], [2, 577, 9], [31, 10, 9], [47, 81, 39], [18, 19, 287], [230, 88, 288, 7, 18, 168, 578, 391, 1, 579, 7], [45, 169, 39, 8, 163, 63, 7, 289], [39, 23, 231, 29, 290, 63, 7, 1, 101, 580, 1], [29, 392, 32, 170, 34, 581], [582, 9, 231], [144, 583, 50, 194, 232, 233, 584, 585], [586, 1, 587, 588, 10, 291, 24, 25, 82, 5, 292], [4, 589, 9, 234, 23], [590, 591, 5, 592, 593, 7, 594, 1, 393, 595, 596], [15, 597, 61, 3, 293, 102, 83], [29, 5, 598, 235, 34, 394, 235, 34, 294, 7, 76, 295], [1, 599, 10, 296, 32, 600, 34, 394, 19, 395], [31, 40, 9, 10, 396, 8, 1, 195, 22, 397], [31, 40, 15, 297, 601, 23, 24, 70, 11, 602, 39, 26, 5], [98, 23], [126, 5, 398], [38, 50, 171, 172, 9], [127, 52, 11, 236, 30, 1, 294], [603, 1, 294, 237, 3, 11, 20, 92, 196, 32, 1], [128, 23, 79, 197, 12, 5, 604, 173, 18, 238], [31, 298, 9, 399], [75, 27, 4, 198, 174, 605, 81, 400, 387, 165, 283], [103, 41, 401, 606], [31, 19, 9], [1, 114, 25, 13, 299, 1, 607, 608, 23, 8, 2, 53], [28, 609, 1, 64, 23, 13, 199], [23, 2, 70, 11, 610, 16, 1, 64, 71, 45, 40, 2, 84], [611, 402, 3, 239, 1, 612], [9, 10, 13, 613, 23, 9, 10, 1, 403], [1, 114, 10, 175, 42, 38, 198, 9, 75, 115, 2], [1, 614, 103, 34, 82, 26, 9, 45], [5, 240, 192, 104], [166, 166, 10, 16, 89, 101, 3, 1, 615, 404, 23], [27, 2, 68, 1, 393, 300, 25, 405], [46, 46, 144, 26, 37, 616, 23, 9, 10, 13, 37, 241, 3], [77, 617, 42, 44, 618, 63], [8, 170, 111, 128, 619, 406, 40, 1, 620, 621, 6], [23, 23], [34], [98, 23], [242, 622, 20, 36, 4, 301, 20, 242], [23, 79, 623, 242, 37, 624, 4, 25, 407, 14, 200], [17, 10, 87, 30, 1, 48, 14, 2, 52, 93, 65], [4, 176, 6, 23, 45, 2, 25, 177, 5, 35, 4, 625], [29, 92, 3, 55, 2, 56, 166, 166], [29, 5, 178, 626, 3, 55, 2, 627], [46, 628, 1, 35, 64, 629, 630], [112, 302, 25, 11, 631], [632, 39, 3, 408, 633, 13, 3, 409, 634], [24, 22, 13, 61, 3, 635, 636, 37, 201, 410, 637], [24, 22, 13, 61, 202, 638, 199, 14, 2, 639, 411, 3, 37, 640], [31], [24, 25, 27, 33, 1, 64, 641, 8, 2, 25, 642, 241, 201, 87], [14, 69, 643, 16, 644, 199, 11, 384, 7, 645, 116, 19, 646, 3, 55, 74, 45, 129, 647, 1, 412, 39], [648, 649, 43, 77, 147, 650, 651, 34, 652, 653, 18, 101, 76, 654, 655], [279, 61, 16], [31, 10, 116, 656], [29, 13, 111, 657, 46, 658, 41, 22, 203, 117, 659, 243, 5, 148], [69, 660, 94, 33, 303], [29, 56, 392, 8, 6, 661, 18, 662, 413], [414], [2, 130, 663], [229, 7, 6, 244], [664, 299, 20, 51], [245, 6, 304, 14, 665, 2, 305, 131, 415, 3, 1, 35, 196, 415, 13, 416, 666, 8, 28, 179, 246, 667, 149, 13, 3, 668], [29, 60, 37, 247, 669, 22, 105, 670, 671, 162, 66, 672, 673, 8, 42, 22, 674, 675, 3, 179, 676, 7, 306, 3, 47, 677], [678, 5, 679, 680, 18, 17, 10, 78, 681, 682, 1, 683, 684, 7, 1, 685], [4, 198, 9, 56], [4, 12, 5, 275, 276, 91, 15], [31, 248, 2, 62, 118], [40, 307, 686, 33, 119, 687, 16, 6, 417, 688, 689, 27, 16, 6, 690, 201, 691, 84, 692, 23, 79, 33, 693], [105, 20, 6, 245, 37, 78, 413, 204, 308, 205], [4, 28, 245, 309, 694, 69, 206, 10, 695], [150, 293, 83], [696, 28, 65, 20, 41], [697, 53, 4, 28, 85, 9, 59, 698, 18], [31, 22, 2, 206, 95, 699, 21], [18, 19, 56, 287], [31], [700, 28, 27, 18, 701, 85, 9, 59, 2, 27, 18], [29, 175, 702, 162, 703, 293, 83, 28, 704, 41], [705, 31, 22, 2, 206], [706, 18, 19, 92], [151], [46, 418, 46, 418, 707], [419, 106, 405, 174, 708, 2, 709, 172, 74, 207], [78, 419, 19, 710], [711, 2, 106, 8, 45, 712, 36], [132, 22, 2, 61, 17, 713, 41, 1, 117, 101], [31, 27, 2, 399, 714, 715, 295, 7, 716, 17, 717, 1, 117, 101, 718, 36], [719, 62, 420, 75, 720, 61, 721, 236, 722], [723, 2, 310, 36], [14], [208], [724, 421, 51, 152, 13, 3, 311, 9], [5, 725, 417, 10, 89, 726, 727], [17, 52, 163, 9, 30, 36, 107, 728], [15, 228, 10, 6, 165], [32, 2, 249, 729, 730], [75, 27, 4, 68, 2, 22, 61, 3, 731, 422, 7, 21], [133, 75, 28, 2, 312, 3, 21], [27, 2, 55, 36, 36], [133, 11, 732, 204, 733, 3, 5, 734, 9, 63], [3, 47, 5, 735], [2, 28, 134, 3, 423, 21, 736], [2, 134, 3, 65, 313, 8, 737, 6, 165], [27, 2, 53, 66, 9, 19, 2, 738, 3, 243], [66, 739, 2], [15, 740, 61, 3, 741], [424, 425], [14, 2, 169, 314, 16, 282, 27, 13, 742, 76, 411, 743, 209, 744, 20, 30, 21, 180, 1, 64], [3, 745, 25, 47, 3, 1, 746, 7, 747, 426, 748, 194, 749, 39, 20, 34, 51], [153, 1, 48, 11, 30, 2], [4, 181, 17, 197, 152, 750], [29, 5, 424, 425, 4, 82, 3, 751, 9, 427, 57, 8, 66, 131, 9], [752, 21, 70, 2, 152, 753], [754, 26, 6, 755, 756, 13, 11, 135, 3, 315, 757, 32, 4, 68, 4, 53, 758, 316], [46, 210, 26, 759], [95, 13, 20, 289, 760], [308, 250], [317, 2], [308, 250], [2, 54, 211, 21, 31, 15, 10], [27, 2, 53, 132, 9, 427, 57], [428, 761, 4, 429, 762, 106, 430, 81, 20, 76, 763], [58, 250, 40, 80, 70, 68, 764, 11, 39, 84, 765, 197, 766, 767, 10, 9, 318, 7, 1, 182], [768, 22, 42, 769], [16, 31, 250], [319, 20, 770, 98, 4, 96], [4, 136, 771, 75, 17, 772, 105, 773, 35, 12, 320, 774, 196], [31, 154], [775], [431, 46, 137, 13, 776, 321], [98, 46, 777, 3, 99, 5, 778, 779, 428, 9, 780, 3, 430, 322, 76, 7, 781, 782], [783, 3, 37, 323, 784, 11, 20, 15, 785, 150, 786, 7, 787, 788], [38, 324, 789], [790], [325, 18, 11, 16, 432], [90, 791, 792, 433, 22, 793], [4, 176, 144, 3, 794, 2, 23], [795, 210, 26, 5, 796, 797, 21, 71, 111, 138, 139, 4, 798, 32, 1, 251, 799, 800, 16, 1, 801, 802], [15, 10, 132, 9, 434, 3, 11, 32, 9, 326, 803, 10, 804, 1, 805, 20, 15, 806, 807, 15, 808, 41, 124, 11, 809, 39, 32, 41, 326], [32, 23, 79, 66, 70, 810, 323, 57, 433, 420, 811, 9], [4, 176, 812, 26, 37, 410, 813, 13, 402, 3, 11, 16, 89, 327], [32, 17, 137, 43, 119, 3, 140, 8, 89, 435, 12, 131, 36, 58, 814, 4, 815, 816, 2, 8, 23, 79, 212, 817, 436, 1, 114, 19, 818, 3, 409, 1, 252, 8], [23, 17, 124, 13, 12, 819, 15, 328, 46, 820, 183, 11, 135, 3, 821, 148], [17, 43, 5, 111, 822, 30, 94, 29, 823, 213, 17, 19, 114, 824, 437, 319], [43, 23, 79, 825, 76, 826, 827, 180, 13, 15, 253, 828, 91], [829, 438], [168, 439], [2, 232, 21, 254, 329, 830], [831, 10, 92, 832], [46, 144, 23], [108, 98, 214], [90, 75, 46, 39], [132, 10, 15, 833, 834, 45], [835], [4, 84, 85, 3, 836, 15, 837], [2, 838, 839], [8, 164], [78, 440], [840, 21, 841, 842, 59, 843, 214, 155, 844, 96, 17, 143, 1, 196, 845, 330, 180], [846, 847], [184, 184], [184, 848, 15, 849, 850, 3, 851, 288, 7, 852, 853, 313], [6, 255, 22, 78, 440, 2, 52, 11, 78, 441], [854, 24, 38], [855, 131, 6, 101, 33, 215, 145, 856, 33, 857], [858], [133, 2, 52, 53, 23, 214], [214, 326, 17, 1, 35, 859, 2, 26, 15, 216], [34, 4, 217], [860], [9, 237, 3, 21, 29, 6, 278, 442, 18, 42, 22, 38, 255, 861], [4, 130, 862, 3, 863, 102, 864, 317, 2, 26, 6, 865], [4, 183, 179], [866, 443, 3, 138, 867], [868, 57, 1, 869, 8, 1, 870, 871, 872, 873, 7, 874, 57, 1, 875, 876], [1, 240, 877, 237, 3, 878, 107, 879, 880, 4, 881, 3, 65, 83, 8, 882, 4, 25, 331, 444, 883, 100, 884, 885], [87, 77, 160, 444, 886, 19, 887, 71, 445, 888, 889, 76, 300, 66, 890, 11], [27, 2, 301, 17, 70, 11, 891, 214, 66, 131, 892, 26, 1, 332, 278], [93, 21, 55, 40, 4, 54, 315, 893, 61, 16, 155], [446, 12, 894, 895, 3, 173, 185, 8, 896, 111, 126, 897, 898, 4, 28, 232, 9, 899], [4, 19, 436, 3, 429, 40, 900, 447, 37, 901], [9, 333, 85, 69, 61, 5, 902, 62, 215], [88, 1, 87, 1, 218, 903, 1, 87, 16, 1, 50], [9, 333, 85, 246, 256, 16, 904, 233], [905, 172, 3, 448, 83, 164, 80], [156, 16, 130, 103, 41], [34, 179, 94, 24, 12, 3, 906, 185], [28, 93, 6, 907, 908, 20, 1, 101, 174, 172, 5, 216, 909], [14, 246, 38, 50, 130], [910, 18, 449], [3, 911, 157, 20, 334, 2, 912, 1], [14, 34], [4, 28, 68, 62], [2, 25, 12, 3, 913, 9], [14], [16, 89, 101, 100, 3, 282, 17, 914, 148, 915, 313], [916, 52, 917, 200, 1, 918, 84, 13, 12, 60, 5, 919], [130, 63, 335, 80, 920], [174, 172, 3, 921, 102, 81], [205, 26, 2, 3, 143, 75, 176, 4, 158, 1, 303], [14, 149, 38, 103, 21], [46, 61, 83, 16, 1, 922], [450, 81, 4, 28, 85, 15], [67, 923], [67, 28, 128, 152, 3, 924, 9, 184, 171, 448, 9, 83], [421, 51, 69, 1, 303, 45, 129, 99, 1, 336, 104, 8, 47, 16, 30, 9], [4, 55, 9, 108, 15, 10, 61, 3, 11, 205], [13, 15, 51, 170, 56, 119, 107, 451, 24, 82, 109, 925, 926, 27, 2, 257], [927, 37, 452, 8, 283, 6, 928, 81, 453, 21], [929, 337, 930, 16, 1, 50], [88, 9, 205, 14], [337, 77, 16, 1, 50], [46, 61, 238, 8, 50], [169, 30, 21, 931, 100, 8, 50, 109, 21, 454, 100, 455, 93, 102, 299, 338, 74], [38, 50, 454, 8, 450, 164, 80, 22, 38, 103, 21, 85, 5, 932], [14, 2, 12, 335, 16, 6, 933], [335, 77, 934, 57, 6, 218], [456, 50, 8, 65, 238], [3, 330, 17, 137, 43, 119, 3, 140], [56, 175, 155, 35, 457], [150, 163, 21, 219, 156, 16, 13, 339, 45, 456, 218], [67, 194, 136, 47, 202, 41, 14, 29, 56, 935], [258, 1, 48, 68, 259, 202, 1, 104, 25, 458], [34, 34, 42, 22, 206, 340, 216, 62, 24, 54, 27, 936, 459, 26, 1, 336, 104], [42, 937, 74], [38, 50, 184, 34, 34, 209, 56, 938], [309, 10, 26, 80], [67, 46, 460, 14], [184, 11, 204, 2, 12, 87], [108, 939, 149, 940, 83, 38, 1, 286], [1, 277, 47, 3, 1, 336, 104, 47, 1, 72, 46, 941, 63, 7, 942, 39], [67, 20, 1, 341, 7], [14, 156, 6, 461, 156, 6, 461, 69, 13, 943, 39], [126, 126, 4, 115, 55, 5, 160, 37, 944, 945, 149, 38, 103, 21, 14], [156, 16, 14, 69, 61, 3, 47, 74, 220, 207, 47, 63, 7, 39, 170, 209, 77, 2, 54, 27], [462, 9, 4, 115, 55, 37, 286, 22, 291], [73, 460, 1, 463, 80, 946, 947], [178, 73], [12, 2, 948, 1, 949, 22, 137, 81], [108, 4, 12, 5, 275, 276, 91, 15], [73, 950, 1, 72], [1, 342, 951, 10, 464, 57, 50, 41, 1, 952, 953, 107, 1, 954, 7, 18, 955], [4, 198, 5, 343], [956, 1, 343], [39, 88, 15, 8, 126, 26, 957], [24, 22, 39, 3, 958, 2, 7, 72, 186, 13, 465, 36], [14], [344, 1, 959, 960, 57, 112, 961, 25, 235, 15, 104, 145, 962, 90, 75, 963, 964, 965], [6, 300, 7, 466, 10, 13, 1, 345, 33, 346], [966, 80, 464, 112, 101], [58, 136, 47, 202, 18, 29, 56, 290], [14, 15, 10, 34, 51, 26, 967, 44, 20, 968, 289, 39], [18, 183, 156, 59, 1, 344, 969, 162, 167, 970], [2, 137, 12, 119, 3, 140, 14], [38, 50, 2, 260, 4, 12, 119, 3, 140, 129, 65], [96, 2, 971, 1, 151, 972], [34], [24, 28, 134, 3, 47, 63, 24, 134, 3, 47, 973, 73, 73, 27, 2, 257, 974, 975, 333, 107, 192, 976], [73], [67, 158, 16, 1, 157], [467, 73, 977, 16, 1, 978, 73, 27, 2, 347, 21, 73, 24, 979, 2, 5, 216, 3, 27, 73], [151, 151, 73, 24, 82, 3, 11, 61, 81], [467, 73, 27, 2, 257, 73, 27, 2, 347, 21, 73, 24, 82, 3, 11, 61, 81, 13, 83], [151, 73, 24, 82, 3, 65, 81, 151, 151], [45, 90, 261], [108, 29, 2], [58, 73, 43, 60], [96, 4, 143, 468], [4, 106, 143, 468], [980, 72], [981, 3, 14, 15, 51, 24, 25, 27, 9, 334], [72, 186, 141, 982, 22, 112, 983], [2, 183, 47, 469, 15, 51, 185], [96, 4, 984, 127], [31, 10, 18], [67, 985], [56, 986, 470], [129, 55, 40, 24, 54, 99, 127, 20, 1, 987, 988, 90, 137, 989, 146, 16], [990, 7, 162, 348, 25, 47, 74, 471], [28, 130, 107, 21, 4, 28, 53], [58, 459, 391, 1, 991, 8, 55, 40, 24, 54, 99, 111, 349, 992], [126, 5, 398, 993, 15, 994, 44, 995, 147, 15], [108, 62, 38, 7, 5, 996, 29, 37, 472], [46, 473, 3, 997, 39], [208, 90, 6, 297, 10, 9], [27, 2, 12, 5, 297, 998], [18, 999, 322, 6, 350, 7, 351, 1000], [14, 152, 13, 3, 296, 36, 24, 12, 5, 216, 3, 27], [13, 15, 51, 8, 15, 51, 2, 183, 349], [474, 54, 2, 401, 5, 1001, 85, 15], [58], [219, 1002, 1003, 1004], [475, 219, 1005, 473, 1006, 1007, 1008, 1009], [13, 3, 191, 44, 137, 309, 1010, 1, 104], [204, 44, 1011, 1012, 120, 476, 120], [352, 262, 1013, 352, 262, 1014, 352, 262, 1015, 475, 1016, 120, 477, 120, 44, 20, 1, 1017], [219, 219], [337, 120, 324, 120, 263, 120, 1018, 16, 1, 218, 8, 1, 50], [257, 18, 478, 1019, 1020, 1021], [1022], [400, 1023, 478], [108, 34, 46, 13, 1024, 264, 26, 1025, 4, 12, 3, 353, 3, 1, 64, 1026, 445, 354, 3, 11, 1, 1027, 114], [144, 138, 139, 93, 74, 13, 179, 18, 2, 479, 21, 57, 1, 463, 80, 8, 2, 207, 173, 185, 8, 2, 479, 1, 72, 1028, 21, 1029, 16, 6, 100, 8, 2, 355, 3, 1030, 18, 1031, 7, 1032, 356], [1, 1033, 1034, 14, 129, 11, 1035, 480, 2, 22, 1, 1036, 8, 2, 1037, 6, 1038, 280, 30, 1, 1039], [1040, 51, 18, 481, 16, 482, 483, 197, 173, 230, 55, 2, 107, 1, 1041], [2, 1042, 1, 353, 16, 1, 1043, 1044, 1045], [20, 284, 42, 22, 61, 78, 58, 1046, 43, 484, 8, 23, 1047, 43, 1048, 89, 265, 3, 1049, 1050], [1, 357, 10, 438, 3, 1051, 77, 1052, 390, 3, 1, 72, 480], [14, 11, 204, 7, 6, 139, 186], [17, 43, 1053, 6, 302], [17, 84, 13, 143], [38, 7, 15, 10, 1054, 8, 29, 485, 21, 254, 1055, 69, 1056, 1057, 18, 1058, 338, 1, 64, 8, 1, 72, 22, 1059], [1, 48, 1060, 113, 14, 8, 24, 22, 38, 1061, 71, 9, 11, 1062, 7, 6, 221], [9, 153, 88, 358, 51, 24, 27, 13, 12, 203, 348, 3, 1063], [8, 339, 9, 84, 11, 1064, 26, 74, 3, 486, 1, 240, 1065, 3, 1066], [95, 50, 18, 10, 5, 251, 24, 187, 1067, 3, 311, 29, 1, 1068, 1069, 1070, 26, 1, 1071, 1072], [1073, 83, 14, 2, 12, 60, 1074, 5, 178, 1075, 3, 11, 16, 1, 64, 107, 6, 1076, 29, 136, 154, 121, 312, 3, 21, 14, 1, 1077, 7, 1, 1078, 10, 69, 56, 287, 3, 1, 72, 1, 64, 197, 85, 9, 59, 17, 1079, 20, 35, 1080], [32, 29, 31, 2, 359, 6, 1081, 30, 72, 186, 237, 3, 12, 1082, 455], [14, 1083, 7, 125, 9, 154, 2, 99, 259, 20, 5, 1084, 360], [4, 1085, 2, 41, 19, 1086, 338, 1, 64, 8, 1, 72, 4, 19, 78, 1087, 75, 106, 2, 312, 2, 1088, 50, 145, 9], [34, 9, 10, 13, 14, 4, 191, 59, 2, 1089, 7, 1090, 8, 487, 162, 22, 13, 35, 304, 149, 175, 113, 304], [4, 181, 62], [14, 1, 105, 488, 1, 64, 43, 1091, 6, 1092, 10, 229, 1, 72, 1093, 2], [14, 130, 4, 176, 16, 6, 97, 4, 106, 134, 3, 55, 2, 314, 20, 15, 360], [1094, 5, 361, 1095, 1, 64, 489, 2, 3, 353, 16, 38, 7, 1, 342, 1096, 42, 134, 3, 53, 31, 95, 81, 3], [24, 22, 107, 253, 14, 1, 35, 64, 10, 1097, 3, 1098, 1, 1099, 7, 1, 182, 128, 40, 1, 72, 298, 13], [15, 328, 10, 13, 3, 11, 16, 432, 1, 64, 490, 21, 3, 1100, 2, 16, 15, 1101], [18, 10, 75, 2, 52, 109, 74, 14, 112, 491, 10, 3, 1, 357, 13, 3, 29, 492, 66, 43, 355, 3, 169, 20, 1102, 118, 281, 89, 1103, 43, 1104], [98, 32, 258, 6, 221, 14, 127, 10, 63, 7, 241], [1, 64, 10, 1105, 2], [14, 96, 13, 88, 3, 89, 328, 30, 119, 1106], [493, 11, 38, 50, 4, 362, 36, 30, 37, 165], [30, 38, 1107, 1108, 23, 10, 17, 13, 1, 494, 87, 10, 17, 13, 3, 188, 1, 141, 8, 331, 495, 3, 1, 48], [17, 25, 13, 93, 21, 83, 17, 136, 43], [298, 1109, 496], [108, 34, 69, 363, 50, 32, 4, 27, 12, 1, 329, 247, 30, 89, 364, 7, 1110], [43, 14, 60, 3, 55, 2], [4, 53, 17, 1111, 9, 17, 10, 497, 222, 1112, 78, 1113, 32, 1114, 1115], [2, 124, 11, 5, 35, 110], [29, 14, 95, 1116, 1117, 8, 1118, 95, 60, 314, 20, 5, 1119, 452, 33, 1, 342, 1120, 32, 4, 68, 29, 77, 147, 18, 4, 19, 1121, 17, 153, 12, 1122, 3, 2], [1123, 7, 2, 10, 78, 92, 107, 1124, 6, 221, 1125], [4, 53, 125, 17, 1126, 91, 2], [209, 17, 106, 12, 3], [4, 53, 2, 220, 56, 58, 4, 54, 55, 2, 263, 22, 20, 1127, 110, 46, 1128, 91, 36], [67, 4, 365, 6, 1129, 43, 437, 36, 95, 1130, 1131, 213, 24, 1132], [67, 110, 46, 13, 1133, 1, 64, 91, 76, 7, 15, 4, 4, 181, 4, 106, 296, 2, 44, 38, 498, 4, 288, 91, 220, 7, 2], [1134, 27, 31, 2, 54, 3, 109, 36], [108, 4, 496, 1135, 9, 153, 499, 63, 150, 3, 11, 5, 1136, 1137, 1138], [2, 22, 222, 8, 1139, 14, 8, 4, 176, 78, 441, 7, 2, 4, 12, 366, 2, 213, 2, 44, 5, 290, 114, 4, 12, 367, 2, 500, 4, 53, 8, 2, 12, 177, 5, 215, 501, 35, 147, 4, 70, 320, 181, 3, 11, 8, 2, 12, 1140, 37, 165, 77, 502, 147, 4, 54, 223, 32, 11, 368, 14, 9, 183, 11, 118, 121, 1, 64, 1141, 2, 5, 35, 23], [67, 28, 191, 4, 12, 264, 255, 30, 21, 3, 88, 324, 266, 1, 503, 7, 1142, 4, 68, 230, 11, 135, 3, 1143, 1, 360, 128, 200, 6, 109], [1144, 138, 139, 153, 1, 48, 11, 30, 2], [230, 163, 102, 319, 267, 2, 47, 41, 150, 28, 88, 56, 118], [1145, 482, 483, 26, 1146], [78, 58, 1, 1147, 10, 16, 21, 13, 3, 188, 38, 1, 80, 121, 2, 47, 41], [369, 6, 370], [28, 193, 81, 110, 28, 193, 81], [1148, 1, 253], [30, 6, 295, 1149, 4, 124, 85, 358, 344, 8, 3, 258, 6, 404, 33, 5, 1150, 33, 4, 1151, 1152, 266, 26, 1153, 474], [4, 321], [211, 6, 195, 3, 88, 1154, 40, 2, 12, 1155, 45, 10, 1, 51], [67, 1156, 88, 1, 268, 100, 3, 1, 104, 46, 1157, 39, 211, 504, 171, 131, 224], [4, 82, 1158], [47, 9, 26, 21], [15, 87], [92, 1159, 1160], [505, 41], [6, 157], [2, 179, 4, 366, 1, 35, 18, 1161, 173, 185], [4, 153, 13, 371, 6, 80, 32, 37, 265, 506, 25], [4, 28, 68, 62], [62, 1162], [1163, 224, 6, 265, 211, 102, 3, 157, 3, 1, 1164, 1165], [317, 2, 504, 1166, 45, 129, 47, 5, 157, 16, 174, 172, 5, 507, 3, 260, 39], [1167, 508, 477, 476, 4, 12, 34, 224, 16, 76, 1168, 22, 41, 76, 35, 63, 41, 471], [67, 171, 1169, 16, 1170], [148, 372, 37, 332, 265, 269, 16, 21, 4, 82, 109], [2, 44, 1171, 71, 6, 255, 234], [125, 203, 117, 35, 355, 3, 1172], [12, 24, 122, 76, 224, 57, 1, 1173], [58, 133, 24, 52, 65, 100, 40, 41, 22, 117, 1174, 42, 25, 1175, 145, 1, 343, 8, 11, 207], [98, 23, 41, 10, 56, 119, 107, 451, 39, 8, 24, 82, 5, 1176, 1177, 7, 31, 43, 154], [34, 4, 28, 68, 62, 1, 72, 25, 13, 11, 135, 3, 192, 1, 1178, 7, 509, 266, 200, 1179, 1, 357, 1180], [9, 84, 11, 261, 40, 24, 510, 30, 1, 148], [41, 22, 1181, 1182, 7, 332, 1183, 16, 1184, 1185, 203, 22, 1186, 33, 35], [13, 128, 1, 511, 1187], [66, 66, 70, 12, 225, 15], [171, 1188, 1, 508, 1189, 38, 1190, 35, 3, 169, 469], [126, 23, 41, 10, 127, 4, 52, 53], [4, 52, 53, 1, 403, 23], [67, 9, 115, 11, 9, 115, 11], [4, 115, 270, 76, 77], [235, 21, 3, 243, 1, 142, 4, 25, 13, 243, 14], [17, 10, 85, 37, 373, 4, 187, 27, 9], [125, 70, 9, 12, 146, 3, 15], [4, 27, 13, 53, 132, 1, 142, 43, 395, 36, 4, 28, 53, 132, 3, 130], [153, 1, 48, 11, 30, 2, 23, 79], [43, 14, 60, 39], [1, 182, 43, 484, 110, 1, 35, 196, 10, 34, 77], [4, 301, 24, 12, 60, 318, 7, 5, 1191, 1192, 7, 1193, 20, 1, 485], [34, 110, 29, 103, 1, 141, 45, 457, 1, 271, 33, 42, 96, 121, 1, 182], [46, 39, 210, 26, 14, 59, 19, 1, 512, 51, 2, 1194, 36], [8, 27, 2, 53, 132, 17, 10, 45], [110, 4, 82, 6, 109, 95, 20, 1195, 406], [57, 330, 110, 14, 43, 269, 3, 1, 113, 97], [4, 12, 1196, 5, 412, 1197, 7, 36, 1198, 511], [17, 19, 1199, 71, 5, 1200, 24, 38, 44, 9, 1201, 18, 1, 72, 10, 453, 500, 1202, 1, 253, 186, 10, 1, 141, 374, 174, 60, 210, 26, 281, 1, 422, 7, 173, 185, 14, 159, 89, 292, 1203], [110, 4, 52, 99, 36], [17, 43, 177, 5, 78, 178, 513], [14, 10, 1, 86, 514, 17], [67, 46, 62, 144], [93, 94, 65, 14], [93, 94, 65], [2, 12, 225, 18, 259], [6, 1204, 8, 6, 1205, 26, 167, 12, 256, 225, 18], [67, 2, 12, 1206, 15, 113, 374, 3, 1207, 6, 245, 267, 45, 267, 45, 2, 12, 177, 1, 78, 160, 2, 1208, 3, 188], [6, 292, 189], [14, 37, 491, 10, 3, 1, 182, 3, 306], [105, 5, 141, 374, 1209, 20, 1210, 4, 25, 27, 31, 4, 52], [171, 515, 18, 121, 14, 32, 4, 136, 217, 385, 347, 9, 57, 2], [67, 1, 1211, 7, 167, 10, 1212], [4, 12, 1213, 2, 14, 4, 19, 136, 135, 3, 1214, 2, 3, 68], [57, 1, 141, 14, 72, 186, 10, 272], [58, 133, 2, 22, 310], [29, 103, 14, 4, 12, 1, 238, 1215], [28, 152, 9], [67, 2, 44, 1, 494, 87, 9, 19, 1216, 18, 2, 84, 188, 1, 141, 13, 465, 102, 9, 19, 2, 66, 84, 331, 495, 3, 1, 48, 13, 516, 9, 20, 1217], [2, 44, 37, 373, 14, 4, 1218, 2], [246, 397], [28, 193, 81, 110], [2, 12, 517, 110, 42, 82, 2, 1219, 16], [369, 6, 370], [24, 52, 88, 102, 1220, 1, 141, 25, 13, 198, 340, 302], [8, 31, 7, 1, 114], [4, 25, 88, 1, 1221, 8, 270, 103, 36, 23, 79, 27, 2, 68, 1222, 517, 25, 11, 135, 3, 371, 190, 1223], [252], [66], [242, 32, 125, 70, 17, 1224, 15], [4, 25, 11, 135, 3, 1225, 30, 36], [505, 41, 146, 39, 37, 161, 139, 28, 11, 1226], [28, 191, 493, 11, 38, 50], [1227, 205, 518, 305, 122, 5, 1228, 280, 69, 1229, 69, 137, 20, 87, 1230], [1, 1231, 1232, 22, 13, 3, 11, 1233, 1234, 211, 21, 201, 49, 31, 1235, 2, 63, 15, 215], [168, 439, 168, 45, 90, 5, 341, 4, 249, 515, 20, 5, 118, 51, 5, 118, 51], [108, 95, 13, 1236, 34, 13, 339], [58, 7, 226, 7, 226, 4, 53, 36, 95, 21, 4, 249, 291, 71, 1, 341, 168, 213, 108, 121, 2, 44, 519], [28, 520, 3, 223, 320, 1237, 5, 240, 78, 431], [4, 68, 24, 261, 47, 1238, 1, 375, 195, 22, 416, 1239, 32, 42, 25, 1240, 11, 100, 8, 20, 501, 521], [426, 518, 149, 16, 1, 157], [90, 31, 6, 376, 377, 2, 17, 106, 156, 30, 6, 378, 1241, 217, 17, 124, 12, 510, 39, 8, 13, 447, 1242], [98, 4, 19, 1243, 5, 35, 522, 1, 345, 33, 6, 86], [17, 19, 1, 523, 1244, 20, 1, 271, 8, 5, 1245, 1246, 4, 321, 305, 177, 363, 5, 92, 524, 259, 8, 17, 19, 5, 92, 139, 1247, 1248, 21], [4, 12, 127, 39, 26, 2, 6, 86, 359, 2, 3, 12, 15, 59, 2, 44, 138, 264, 32, 6, 376, 325, 486, 9, 17, 1249, 2, 316, 458, 138, 168, 16, 358, 1250, 1251, 1252, 85, 6, 86, 96], [6, 378, 1253, 15, 10, 1, 228, 7, 5, 35, 522, 13, 33, 389, 180, 33, 1254, 33, 5, 1255], [111, 1256, 228, 26, 5, 1257, 51, 26, 103, 5, 120, 1258, 1, 35, 525, 44, 1, 1259, 7, 1260, 8, 1261, 20, 1, 138, 182, 121, 1, 113, 502, 121, 1, 189], [5, 201, 35, 1262, 190, 123, 66, 19, 5, 1263, 7, 346, 267, 17, 269, 3, 272, 1264, 1, 189, 1265, 83, 8, 188, 1, 35, 525, 17, 1266, 8, 1267, 6, 86, 45, 1, 35, 22, 38, 32, 1268, 123, 19, 379, 71, 1, 113, 97, 7, 1, 48], [58, 1, 48, 10, 31, 1269, 1, 35, 89, 167, 29, 111, 370, 1270, 1271, 71, 38, 1272, 233, 9, 1273, 74, 8, 1274, 74, 9, 1275, 1, 271, 334], [45, 129, 55, 40, 24, 115, 315, 63, 31, 2, 22, 37, 161, 139, 8, 132, 2, 146, 57], [4, 520, 3, 12, 380, 9], [2, 52, 140, 1, 364, 7, 1, 48, 40, 69, 3, 146, 30, 21, 3, 227], [4, 82, 6, 109, 49, 46, 526, 56, 138, 26, 15, 1276, 7, 160, 116, 354, 6, 109], [90, 6, 376, 1277], [140, 91, 1, 48, 49], [2, 52, 27, 31, 2, 254, 10, 50, 7, 226], [42, 106, 32, 24, 22, 1278, 3, 68, 42, 96, 164, 1279, 22, 97, 71, 97, 375, 195, 158, 1280, 1281, 1282, 3, 1283, 41, 521], [8, 164, 462, 1284, 56, 1285, 26, 375, 195, 105, 273, 1286, 22, 62, 1287], [126, 49, 29, 56, 175], [170, 209, 2, 70, 12, 225, 49, 122, 2, 60, 41, 307, 12, 60, 207, 56, 8, 1, 80, 84, 45, 11, 20, 1, 1288, 7, 1, 189], [1289, 1290, 1291, 2, 25, 136, 99, 5, 77, 1292, 1293, 7, 1294, 8, 1295, 24, 52, 11, 1296], [149, 26, 1297, 40, 2, 134, 102], [2, 28, 82, 3, 55, 89, 1298], [210, 26], [17, 54, 65, 91, 89, 481], [157, 285], [1, 48, 54, 12, 5, 222, 1299, 16, 1, 1300, 2, 25, 99, 9, 5, 274, 1301], [58, 329, 7, 1, 523, 1302, 1303, 54, 11, 380, 39, 105, 270, 6, 527, 15, 241, 54, 11, 5, 161, 1304], [15, 161, 87, 514, 1305, 1, 1306, 146, 93, 21, 1307, 2, 127], [15, 10, 1308, 95, 1309, 16, 5, 104, 18, 316, 1310, 112, 354], [98, 1311, 40, 29, 5, 528, 104], [124, 4, 12], [105, 1312, 529, 1, 114, 263, 80, 8, 34, 1313, 490], [129, 150, 143, 1314, 85, 3, 1315, 76, 273, 1316], [24, 249, 18, 119, 30, 74, 32, 24, 70, 1317, 2, 263, 120, 45, 262, 1318, 59, 24, 1319, 227], [1320], [194, 12, 3, 423, 6, 449], [9, 25, 11, 264], [40, 1, 348, 33, 528, 33, 95, 1321, 24, 434, 3, 27, 58], [125, 118, 121, 2, 54, 232, 1, 470, 3, 443, 1322], [4, 1323, 5, 178, 1324, 20, 1, 48, 33, 40, 1325, 7, 1326, 530, 1327, 63, 20, 1328, 8, 44, 530, 1329, 4, 365, 127, 531, 43, 154], [307, 261, 47, 16, 30, 6, 1330], [223, 5, 35, 54, 254, 1, 48, 1331, 202, 36], [1332, 32, 9, 234, 1333, 6, 1334], [4, 1335, 2, 152, 9, 199, 49], [15, 51, 93, 65, 6, 1336, 1337, 8, 1338, 16, 1339], [6, 1340, 54, 1341, 2, 28, 362, 102], [1342, 63, 30, 6, 221], [2, 55, 2, 54, 27, 9], [20, 37, 247, 170, 34, 1343, 160, 33, 1344], [90, 92, 2, 12, 1345, 6, 155, 527, 145, 5, 1346, 1347], [532, 71, 1, 189], [29, 111, 273, 268], [34, 29, 5, 284, 533, 268], [1348, 11, 33, 58, 3, 93, 9, 65, 29, 56, 215, 63, 7, 533], [5, 268, 18, 503, 381, 47, 15, 361, 145, 534, 16, 29, 327], [90, 34, 1349, 29, 5, 534, 1350], [499, 1, 104, 1351], [2, 115, 260, 32, 41, 22, 1352, 3, 1353], [516, 18, 3, 21], [1354, 1, 77, 1355, 1, 535, 180, 1, 535, 66, 1356, 36], [1357, 20, 17, 124, 11, 135, 3, 1358, 1, 1359, 273, 1360, 1361], [4, 28, 68, 2, 1362, 54, 109, 4, 52, 65, 536], [11, 368, 49, 169, 8, 270, 103, 1, 80], [42, 52, 11, 1363, 356, 180, 117, 509, 266, 25, 537, 1, 345, 538, 33, 227, 6, 539, 1364, 285, 5, 540, 382, 57, 346, 1, 48, 25, 11, 30, 2, 158], [105, 5, 23, 7, 272, 190], [2, 115, 260, 190, 40, 2, 1365, 21, 83, 4, 1366, 177, 77, 274, 147, 2, 54, 414, 1367], [541, 49, 541], [49, 1, 48, 25, 11, 30, 2], [258, 1, 48, 49], [93, 65, 49], [49, 362, 21], [223, 1, 48, 25, 11, 30, 2, 158], [49, 49], [2, 25, 65, 3, 1, 1368, 251], [41, 2, 25, 140, 57, 79, 1, 35, 23, 66, 1369, 21], [17, 25, 140, 208], [19, 4, 76, 540, 59, 2, 367, 21], [62, 19, 4, 40, 194, 223], [2, 28, 53, 18], [128, 79, 187, 55, 340, 538], [32, 2, 187, 192, 9, 15, 10, 5, 175, 51, 26, 2, 59, 2, 25, 11, 1370, 71, 1, 113, 97, 7, 1, 48], [9, 10, 2, 8, 6, 435, 1, 142, 489, 18, 10, 75, 6, 498, 22, 131, 3, 537], [49, 4, 28, 134, 3, 311, 2, 3, 1, 142, 1, 101, 4, 310, 123], [208], [40, 2, 1371, 3, 239, 123, 2, 25, 27, 9, 536, 4, 187, 1372], [49, 28, 193, 20, 3, 1373, 18, 1374, 3, 1, 113, 97], [18, 114, 10, 112, 512, 181], [79, 25, 158, 11, 30, 2], [2, 86, 19, 379, 71, 1, 113, 97, 7, 1, 48, 17, 1375, 3, 11, 14, 1376, 8, 159, 190, 123, 59, 18, 154, 1, 92, 542, 66, 19, 6, 86, 19, 532, 62, 31, 4, 12, 377, 2, 19, 396, 57, 5, 1377, 350, 7, 351], [49, 69, 61, 3, 99, 18, 203, 7, 1, 1378, 24, 1379, 3, 1380, 1381, 16, 112, 327, 350, 7, 351], [4, 28, 1382, 2, 26, 442, 1383, 40, 4, 19, 236, 20, 31, 4, 96, 9, 506, 325, 12, 60, 26, 1, 155, 51, 2, 55, 31, 154, 3, 6, 86, 19, 37, 472], [14, 19, 5, 92, 139], [59, 4, 155, 212, 36, 6, 86, 19, 256, 5, 178, 524, 32, 4, 19, 1384, 125, 1385, 1, 48, 19, 30, 36, 4, 248, 9, 322, 529, 3, 407, 36, 33, 5, 35, 4, 217, 18, 4, 70, 1386, 36, 150, 33, 58, 33, 79, 4, 19, 236, 37, 487, 43, 122, 531, 1387, 26, 1, 271], [4, 234, 217, 17, 70, 11, 269, 100, 3, 1, 92, 97, 9, 381, 11, 225, 17, 10, 77, 1388, 45, 147, 542, 1389, 8, 272], [2, 187, 349, 6, 539], [123, 1390, 2, 59, 155, 2, 1391, 36, 49, 32, 18, 247, 19, 318, 7, 6, 252, 9, 367, 2, 1392, 117, 233, 1, 1393, 7, 208, 122, 2, 13, 60, 62, 497, 3, 371, 123, 133, 2, 70, 12, 1394, 6, 252, 39, 30, 79, 2, 84, 12, 60, 1395], [8, 96, 2, 109, 102, 9, 19, 42, 66, 122, 3, 369, 2, 2, 1396, 161, 71, 1397, 100, 1398, 4, 365], [3, 11, 5, 35, 49, 2, 52, 1399, 8, 133, 65, 1400, 1, 113, 97, 1, 97, 6, 86, 381, 47, 386, 1401, 10, 1, 1402, 543, 26, 2, 85, 6, 86, 105, 6, 86, 19, 379, 71, 31, 17, 380, 16, 1, 117, 97, 7, 1, 543, 8, 2, 12, 1403, 1404, 69, 34, 1405, 62, 1406, 45, 49, 2, 22, 222, 8, 368, 8, 45, 2, 52, 239, 190, 123, 199], [133, 1, 142, 43, 256, 1407, 2, 44, 112, 105, 181], [1, 117, 17, 1408, 7, 10, 6, 1409, 544], [1410, 3, 408, 2, 220, 57, 1, 142, 2, 44, 1411, 57, 6, 86, 59, 2, 44, 519, 1, 142, 212, 33, 4, 96, 40, 14, 44, 3, 12, 76, 1412, 42, 84, 11, 5, 513, 3, 36, 18, 10, 1, 488, 75, 6, 544, 1413, 356, 1414], [6, 1415, 1416, 2, 58, 1417, 6, 221, 361, 83, 49, 42, 27, 2, 1418, 32, 42, 70, 11, 131, 3, 1419, 1, 142], [59, 6, 86, 218, 17, 106, 53, 6, 244, 19, 1420, 6, 244, 8, 4, 212, 17, 84, 99, 63, 1421, 32, 24, 359, 3, 163, 2, 220, 33, 466, 33, 545, 26, 33, 118, 33, 545, 62, 4, 248, 2, 3, 546, 30, 37, 373, 1422, 16, 231, 8, 6, 244, 248, 383, 3, 546, 33, 1, 1423, 7, 148, 372, 16, 227], [1, 372, 1424, 19, 1425, 8, 547, 363, 274, 20, 18, 251, 383, 159, 5, 1426, 71, 1427, 7, 1428, 34, 87, 212, 1429, 60, 1430, 7, 226, 32, 9, 19, 5, 1431, 200, 1432, 167, 213, 227, 122, 118, 60, 5, 306, 128, 62, 1, 548, 1433, 3, 11, 547, 274, 8, 383, 1434, 20, 94, 549, 378, 382, 159, 5, 148, 33, 58, 90, 13, 38, 116, 159, 7, 226, 116, 159, 1, 492, 7, 94, 1435, 20, 1, 446, 1436, 1, 1437, 189, 8, 229, 116, 122, 1438, 1439, 116, 19, 5, 1440, 1441, 26, 526, 323, 3, 1, 1442, 1443, 90, 31, 116, 19, 206, 59, 94, 382, 1444, 1445, 26, 94, 549, 1446, 122, 158, 377, 94, 3, 224, 21, 16, 231, 40, 94, 1447, 159, 1448], [116, 1449, 60, 366, 20, 1, 364, 7, 1, 35, 1, 101, 2, 12, 49, 32, 1, 48, 10, 222, 30, 94, 33, 9, 10, 30, 38, 7, 6, 548, 41, 10, 34, 1450, 1, 507, 2, 52, 239, 8, 188, 123]]\n",
            "Vocabulary Size:  1451\n",
            "Number of sentences  583\n",
            "Model: \"model_10\"\n",
            "_________________________________________________________________\n",
            "Layer (type)                 Output Shape              Param #   \n",
            "=================================================================\n",
            "input_11 (InputLayer)        [(None, 5)]               0         \n",
            "_________________________________________________________________\n",
            "embedding_10 (Embedding)     (None, 5, 300)            435300    \n",
            "_________________________________________________________________\n",
            "bidirectional_10 (Bidirectio (None, 5, 400)            801600    \n",
            "_________________________________________________________________\n",
            "global_max_pooling1d_10 (Glo (None, 400)               0         \n",
            "_________________________________________________________________\n",
            "dense_20 (Dense)             (None, 1451)              581851    \n",
            "_________________________________________________________________\n",
            "dense_21 (Dense)             (None, 1451)              2106852   \n",
            "=================================================================\n",
            "Total params: 3,925,603\n",
            "Trainable params: 3,490,303\n",
            "Non-trainable params: 435,300\n",
            "_________________________________________________________________\n",
            "WARNING:tensorflow:`period` argument is deprecated. Please use `save_freq` to specify the frequency in number of batches seen.\n"
          ],
          "name": "stdout"
        },
        {
          "output_type": "stream",
          "text": [
            "WARNING:tensorflow:`period` argument is deprecated. Please use `save_freq` to specify the frequency in number of batches seen.\n"
          ],
          "name": "stderr"
        },
        {
          "output_type": "stream",
          "text": [
            "Epoch 1/100\n",
            "102/102 [==============================] - 16s 106ms/step - loss: 6.6891 - accuracy: 0.0344 - val_loss: 6.3146 - val_accuracy: 0.0556\n",
            "Epoch 2/100\n",
            "102/102 [==============================] - 10s 100ms/step - loss: 5.7692 - accuracy: 0.0674 - val_loss: 6.3780 - val_accuracy: 0.0611\n",
            "Epoch 3/100\n",
            "102/102 [==============================] - 10s 101ms/step - loss: 5.2562 - accuracy: 0.0855 - val_loss: 6.4696 - val_accuracy: 0.0778\n",
            "Epoch 4/100\n",
            "102/102 [==============================] - 10s 100ms/step - loss: 4.3021 - accuracy: 0.1337 - val_loss: 7.0104 - val_accuracy: 0.0722\n",
            "Epoch 5/100\n",
            "102/102 [==============================] - 10s 101ms/step - loss: 3.0655 - accuracy: 0.2794 - val_loss: 8.0225 - val_accuracy: 0.0528\n"
          ],
          "name": "stdout"
        }
      ]
    },
    {
      "cell_type": "code",
      "metadata": {
        "colab": {
          "base_uri": "https://localhost:8080/"
        },
        "id": "tO7LVZJI3R8A",
        "outputId": "54619b40-18e8-4711-ed9d-22502d9750d9"
      },
      "source": [
        "main(\"yoda\", \"YodaProcessedData.txt\",\"YodaGeneratedSen.txt\")"
      ],
      "execution_count": 133,
      "outputs": [
        {
          "output_type": "stream",
          "text": [
            "# of Unique Words:  {'lets', 'ourselves', 'aboutpolitics', 'have', 'missingfrom', 'palpatine', 'luke', 'safe', 'learn', 'immortality', 'opinion', 'today', 'with', 'solitude', 'barely', 'through', 'nevertheless', 'obiwan', 'little', 'dismantling', 'influence', 'out', 'you', 'opens', 'feeling', 'rim', 'makes', 'respect', 'assassin', 'hundredjedi', 'clonewar', 'wait', 'friend', 'that', 'strong', 'kenobi', 'war', 'would', 'powers', 'must', 'obiwanyounglings', 'welcome', 'how', 'sidious', 'creates', 'kashyyyk', 'not', 'wemust', 'sky', 'or', 'our', 'most', 'burden', 'sleep', 'temple', 'doing', 'confident', 'one', 'maste', 'security', 'grievous', 'only', 'windu', 'obiwans', 'tothe', 'agree', 'tatooine', 'shadow', 'continuingthe', 'remains', 'powerful', 'droid', 'own', 'nothing', 'too', 'hard', 'chewbacca', 'then', 'transform', 'lightly', 'jedis', 'vader', 'oh', 'misread', 'just', 'failure', 'goand', 'yes', 'many', 'puzzle', 'agent', 'other', 'impossible', 'things', 'eveything', 'twilight', 'their', 'know', 'experience', 'involved', 'early', 'from', 'recalibration', 'times', 'them', 'eyes', 'contact', 'greed', 'confront', 'calm', 'worse', 'whills', 'no', 'his', 'begins', 'vergence', 'everywhere', 'heart', 'her', 'young', 'motion', 'armies', 'say', 'gratitude', 'special', 'domain', 'so', 'leave', 'join', 'queen', 'line', 'keep', 'contd', 'judge', 'should', 'council', 'natural', 'training', 'fear', 'eight', 'follow', 'begin', 'earned', 'wookiees', 'skywalkers', 'why', 'careful', 'two', 'ally', 'fight', 'uses', 'evil', 'children', 'level', 'death', 'discoverthat', 'fully', 'stink', 'congress', 'yet', 'done', 'achild', 'acertainty', 'mmmm', 'my', 'knowledge', 'session', 'short', 'wesee', 'beings', 'think', 'force', 'map', 'gravity', 'conquer', 'spies', 'let', 'hidden', 'secret', 'greater', 'thepossibilities', 'are', 'twisted', 'appear', 'quicker', 'energy', 'received', 'serve', 'jedi', 'easily', 'miss', 'save', 'time', 'side', 'teach', 'who', 'at', 'retreat', 'rule', 'excitement', 'this', 'fail', 'physical', 'sideclouds', 'walker', 'always', 'hmph', 'victory', 'draw', 'in', 'adventure', 'continue', 'upon', 'were', 'friends', 'come', 'suffer', 'go', 'consumed', 'pass', 'bear', 'systems', 'encircle', 'depends', 'feelings', 'control', 'tested', 'youth', 'chooses', 'soon', 'way', 'question', 'studied', 'mud', 'planets', 'clones', 'premonitions', 'quickly', 'thecentre', 'defense', 'last', 'flows', 'ancient', 'lose', 'fate', 'killed', 'wonderful', 'well', 'exile', 'reach', 'great', 'honor', 'themighty', 'forename', 'those', 'tarfful', 'part', 'all', 'than', 'lord', 'hiding', 'coucil', 'hear', 'self', 'start', 'make', 'we', 'change', 'yourdanger', 'duty', 'as', 'lightsaber', 'the', 'it', 'dont', 'continuingnot', 'stone', 'rock', 'rest', 'onewith', 'consume', 'padmé', 'reader', 'dooku', 'past', 'request', 'thought', 'sith', 'outlying', 'commander', 'itappears', 'tree', 'clan', 'message', 'night', 'more', 'learned', 'father', 'commune', 'will', 'craves', 'thing', 'surrounds', 'he', 'jealousy', 'reckless', 'heh', 'grave', 'pull', 'decisively', 'masking', 'timing', 'fathers', 'everything', 'anything', 'group', 'easy', 'forever', 'remember', 'discover', 'good', 'outer', 'accept', 'chosen', 'hundred', 'working', 'but', 'answer', 'far', 'youworry', 'defiance', 'nine', 'complete', 'mindful', 'sense', 'new', 'she', 'they', 'left', 'stopped', 'disappear', 'require', 'begun', 'relations', 'use', 'if', 'very', 'amsure', 'truly', 'incomplete', 'someone', 'years', 'afraid', 'hmmmm', 'heard', 'finished', 'master', 'grow', 'lost', 'alivebrings', 'moment', 'passive', 'need', 'choose', 'skywalker', 'quigons', 'dismantle', 'fall', 'surprised', 'uncluttered', 'questions', 'act', 'may', 'signal', 'call', 'allow', 'never', 'right', 'less', 'muchworse', 'best', 'enough', 'us', 'feel', 'commitment', 'turned', 'certain', 'hmmm', 'destroy', 'suffered', 'mourn', 'visit', 'under', 'hmmmmm', 'interest', 'returned', 'longer', 'decided', 'prophecy', 'become', 'danger', 'mmmmmm', 'different', 'hm', 'dark', 'general', 'send', 'binds', 'consciousness', 'later', 'protect', 'try', 'harder', 'mmm', 'into', 'much', 'there', 'still', 'matters', 'planet', 'told', 'listen', 'emperor', 'do', 'bathe', 'naboo', 'knight', 'battalions', 'visions', 'meet', 'escape', 'frowningmuch', 'inform', 'life', 'by', 'power', 'boys', 'proceed', 'future', 'rushed', 'attachment', 'which', 'correct', 'easier', 'sway', 'run', 'anakin', 'here', 'now', 'of', 'sensing', 'serious', 'republic', 'where', 'luminous', 'threatened', 'its', 'wehave', 'gatherround', 'unexpected', 'mind', 'second', 'faith', 'deepest', 'starand', 'already', 'path', 'watched', 'care', 'another', 'see', 'discovered', 'apprentice', 'could', 'carry', 'old', 'onlygoing', 'stay', 'take', 'on', 'eyesdo', 'decisionobiwan', 'move', 'about', 'loss', 'these', 'sweep', 'am', 'seductive', 'havedisappeared', 'eternal', 'sick', 'attack', 'perhaps', 'has', 'did', 'is', 'a', 'find', 'rejoice', 'long', 'does', 'thisdisturbance', 'failed', 'to', 'gratefully', 'until', 'recordings', 'hopethey', 'an', 'fact', 'hope', 'gone', 'strength', 'matter', 'what', 'defeat', 'disturbing', 'quigon', 'anger', 'warm', 'flow', 'ship', 'order', 'incontests', 'task', 'split', 'weak', 'thendivide', 'netherworld', 'pieces', 'like', 'interesting', 'thatquestion', 'count', 'suggest', 'senator', 'look', 'hemust', 'clear', 'rrevealed', 'confer', 'face', 'back', 'chancellor', 'fought', 'kept', 'queens', 'hurry', 'place', 'jinn', 'emergency', 'once', 'down', 'yourself', 'coded', 'dominate', 'difficult', 'gravity\\x92ssilhouette', 'aggression', 'enter', 'ohhh', 'train', 'pain', 'younglings', 'around', 'masked', 'ready', 'cannot', 'decide', 'underestimate', 'unlearn', 'visitor', 'your', 'and', 'continuingmaster', 'counsel', 'concentrate', 'for', 'attacker', 'remainssenator', 'unfortunate', 'sees', 'i', 'pride', 'him', 'misplaced', 'even', 'up', 'crude', 'appointment', 'close', 'stop', 'cave', 'hah', 'when', 'hmm', 'was', 'darth', 'agreed', 'quick', 'destiny', 'padawan', 'can', 'be', 'peace', 'leads', 'needed', 'help', 'land', 'hisdestiny', 'retain', 'between', 'end', 'clouded', 'give', 'boy', 'me', 'might', 'size', 'continuing', 'weapons', 'pregnant', 'capture', 'goodbye', 'runs', 'trained', 'speak', 'light', 'been', 'places', 'choice', 'beware', 'family'}\n",
            "Tokenised sequences  [[1, 257, 258, 3, 259, 32, 260, 1, 94, 14], [261, 4, 40, 1, 23, 33, 3, 147, 48, 18, 262, 3, 20], [21, 18, 263, 264, 2, 11, 265, 58, 266, 148], [59, 1, 9, 12, 21, 2], [267, 34, 58, 37, 4, 60, 10, 2], [7, 268, 2, 60], [38, 2, 27, 269, 15, 270, 3], [75, 41, 7, 28, 2, 271, 25, 30], [272, 22, 5, 12], [42, 42, 76, 43, 77, 78, 2], [149, 14, 2], [40, 109, 2, 20, 49], [149, 4, 150, 148, 6, 151], [273, 44, 3, 1, 61, 4, 1, 23, 33, 44, 152, 4], [7, 28, 11, 10, 1, 153, 154, 1, 110, 155, 50, 6], [79, 274, 20, 5], [275, 2, 156, 58], [276, 18, 277, 51, 3, 278, 52, 45, 279], [62, 63, 2, 10, 58, 157, 4, 80, 35, 7, 280], [53, 95, 281, 14, 2, 36, 81, 2, 8, 53], [82, 158, 111, 20, 5, 159, 35, 48, 3, 53, 37, 4, 112, 22], [16, 282, 160, 1, 283, 284], [76, 285, 161, 5, 12, 286, 287], [83, 30, 13, 80, 30, 21, 2, 38, 83, 30, 13], [59, 1, 9, 12, 21, 2], [288, 35, 2, 1, 289, 8, 28, 162, 1, 290, 113, 38, 96], [1, 291, 43, 1, 163, 59, 12, 292, 164, 165, 6, 44, 19], [293, 294, 6, 166, 19, 2, 84, 26, 2, 27, 13, 96, 1], [114, 115, 29, 14, 24, 37, 24, 167, 7, 295, 16, 62], [168, 169, 170, 6, 44, 296], [157, 4, 40, 1, 23, 297, 171, 38, 18, 6, 298, 8, 299, 45, 300, 301, 302, 1, 28, 5], [21, 2, 1, 9, 3, 46, 76, 172, 4, 40, 2, 303, 304, 305, 4, 64, 306], [19, 23, 173, 116, 3, 36, 307, 4, 12, 38, 1, 308, 309, 19, 164, 165, 2, 14], [54, 174, 175, 117, 310, 172, 16, 54, 55, 311, 12, 312, 8, 313, 314, 315, 82, 65], [316, 1, 51, 3, 317, 19, 1, 9], [16, 56, 176, 48, 10, 318, 319, 23, 33, 49, 166, 320, 8, 1, 51, 321, 109, 1, 23, 33, 49, 322], [160, 29, 39, 14, 323, 26, 3], [56, 32, 22, 324, 4, 325, 326], [327, 151, 78, 12, 41, 328, 1, 9, 65, 2, 17, 5, 22, 329, 330, 97, 7, 331, 332, 333, 30], [334, 66, 85, 335, 336, 337, 338], [36, 65, 4, 2, 49, 6, 12], [62, 177, 178, 339, 1, 340, 341, 342, 34, 66, 86, 343, 7, 179, 87, 17, 20, 5, 118], [110, 177, 344, 180, 38, 1, 345, 119, 181, 346, 347, 77, 49, 18, 12], [348, 349, 1, 50, 8, 350, 3, 351, 4, 352, 8, 1, 353, 8, 354, 355, 87, 15, 179, 2, 5], [356, 357, 4, 358, 359, 3], [1, 111, 3, 360, 19, 18, 361], [48, 22, 3, 362, 25, 363, 2, 11], [364, 1, 120, 8, 18, 365], [21, 1, 366, 121, 7, 94, 367, 12], [182, 54, 368, 369, 14, 370, 18, 178, 29, 14], [115, 122, 167, 88, 37], [371, 34, 372, 115, 373, 183, 97, 374, 375, 14], [376, 35, 98, 98], [37, 377, 4, 1, 378, 379, 57, 20, 11, 380], [184, 381, 24, 382, 383, 27, 6, 10], [384, 99, 25, 2, 184, 18, 3], [123, 123, 2, 60], [385, 123, 7, 386, 17, 67, 34, 66, 387, 1, 388, 86], [185, 185, 389, 124, 390, 2, 10], [117, 2, 391, 8, 88, 392, 2, 81], [393, 4, 2], [186, 2, 11, 12, 89, 394, 1, 51, 395, 1, 44, 8, 396, 3, 7, 61, 4, 1, 23, 33], [397, 3, 7, 398, 399, 8, 187, 400, 25, 176, 188, 2, 48, 401, 125, 1, 9, 402, 57, 27, 13, 189, 57, 27, 13, 403, 152, 4, 404, 1, 405, 8, 406, 26, 3], [83, 117, 4, 407, 68, 8, 171, 2, 44, 4, 150], [408, 18, 409, 410, 1, 111, 113, 13, 411, 3, 18, 412, 52, 120, 413], [414, 19, 1, 415, 416, 190, 3, 1, 417, 418, 2, 11, 419], [34, 85, 82, 420, 421, 2, 11, 16, 79, 191], [68, 6, 5, 42, 422, 21, 1, 192, 6, 10], [54, 55, 423, 1, 424, 8, 1, 120, 22, 3, 55, 100, 29, 3, 19, 30, 54, 55, 425, 19, 45, 193], [7, 426, 26, 427, 194, 10, 428], [6, 126, 195, 2, 14, 16, 69, 90, 1, 429, 430, 35, 431, 6, 5, 59, 1, 9, 12, 21, 2], [432, 35, 18, 20, 11, 1, 433, 8, 434, 190, 5, 99, 18, 170, 127, 16, 435, 20, 101, 436], [7, 34, 3, 437, 21, 37, 438], [66, 64, 439, 3], [6, 96], [79, 69, 1, 91, 3, 440], [4, 7, 23, 128, 18, 196, 8, 441, 5, 442, 102, 443, 197, 444, 20, 11, 80], [445, 18, 446, 113, 7, 198, 4, 447, 448, 70], [103, 13, 449, 14, 20, 92, 1, 450, 199, 127], [451, 452, 16, 453, 189, 2, 6, 5, 42, 129, 2, 14, 25, 15, 65, 55, 454, 16, 455, 6, 10], [34, 85, 23, 173, 14, 124, 42, 4, 40, 2, 17, 3], [21, 1, 65, 8, 1, 192, 456, 457, 6, 93], [458, 92, 24, 43, 10, 20], [459, 7, 130, 460, 461, 20, 10], [462, 463, 1, 130, 200, 27, 2], [6, 96, 19, 7, 23, 128, 20, 87, 464, 7, 174, 37, 201, 465, 466, 82, 131], [32, 7, 467, 468, 8, 469, 29, 3, 202, 25, 102, 4, 470, 1, 28, 471, 17, 5, 12], [472, 1, 130, 200, 127, 26, 473, 203, 29, 132, 474, 5, 12], [475, 13, 52, 204, 18, 476, 52, 7, 477, 22, 67], [42, 25, 1, 204, 4, 147, 1, 478, 7, 133, 91, 17, 5, 80, 4, 479, 17, 203, 480, 104, 98], [32, 125, 1, 481, 482, 2, 68, 56, 483, 5, 2, 87], [90, 1, 94, 20, 11], [4, 134, 18, 135, 136, 46, 97, 2, 14, 13], [484, 52, 1, 23, 33, 76, 205, 86, 71, 1, 163, 2, 75, 137, 22, 3, 485, 52, 121, 72], [4, 486, 24, 91, 29, 3], [206, 15, 487, 66, 16, 87, 30, 2, 5, 488, 1, 138, 105, 64, 489, 3, 59, 1, 9, 12, 21, 2], [6, 207, 7, 138, 63, 2, 10, 105, 88, 101, 6, 490, 2, 121, 136], [491], [13, 32, 492, 6, 10, 4, 60, 175, 17, 135, 136], [103, 106, 62, 99, 15, 493, 3, 16, 13, 494, 97, 17, 67, 6, 11, 60], [103, 32, 95, 208, 2, 14, 139, 209], [210, 19, 15, 138, 63, 495, 59, 12, 41, 3, 15, 210, 19, 1, 23, 33, 8, 1, 9], [90, 2, 6, 5, 496, 41, 34, 85, 15, 63, 5, 90], [98, 186, 497, 20, 5, 84], [125, 498, 6, 11, 68, 211, 6, 10], [211, 4, 499, 1, 94, 135, 6, 10, 104, 55, 4, 112, 29, 3], [500, 212], [4, 71, 43, 21, 1, 9, 16, 501, 104, 10, 7, 502, 503, 169, 119, 17, 3], [7, 197, 28, 34, 2, 10, 71, 58, 213, 15, 63, 6, 504, 71], [214, 57, 20, 11, 39, 14, 82, 215, 126], [505, 506, 11, 104, 507, 508, 509, 1, 510, 11, 12, 511], [512, 513, 39, 101, 12], [4, 216, 4, 45, 217, 183, 30], [46, 1, 9, 218, 19, 1, 205, 196, 126, 20, 49, 219, 17, 3, 514, 1, 91, 3, 195, 515, 20, 5], [103, 34, 85, 191, 7, 198, 19, 15, 516, 35, 216, 73, 6, 10, 25, 2], [62, 47, 517, 86, 107, 1, 61, 4, 518], [43, 48, 86, 519, 92, 1, 520, 8, 1, 9, 4, 83, 70, 15, 47, 34, 58, 213], [1, 521, 8, 1, 522, 523, 8, 1, 524, 22, 525, 77, 4, 526, 21, 30, 6, 5, 220, 2], [77, 4, 221, 1, 9, 22, 5, 83, 2, 15, 212, 2, 5, 527, 89, 43, 21, 1, 9, 222, 15, 528, 529, 182], [530, 55, 100, 19, 30, 531, 45, 223], [532, 22, 3, 13, 53], [53, 14, 2, 36, 81, 2, 8, 53, 25, 533, 122, 224, 10, 6, 75, 28, 64, 158, 534, 5, 6, 159, 35, 48, 3, 4, 12, 75, 7, 28, 11, 10, 1, 153, 154, 1, 110, 155, 50, 18, 43, 7, 133, 91, 10, 6, 535, 225, 45, 50, 35, 536, 22, 67, 108, 36, 22, 67, 537, 538, 539, 226, 540, 226, 7, 28, 541, 13, 124, 140, 2, 14, 227], [22, 3, 54, 47, 31, 54, 47, 4, 542, 1, 73], [5, 22, 543, 36, 22, 544], [545, 2, 5, 12, 2, 5, 12], [546, 31, 7, 228, 229, 230, 92, 1, 9, 38, 231, 8, 1, 23, 33, 100, 44, 232, 1, 23, 33, 8, 1, 9, 14, 39, 547, 39, 233, 234, 4, 221, 2, 19, 7, 134, 32, 235, 2, 236, 237, 1, 23, 61, 141, 5, 17, 238, 15, 239, 548, 2, 17, 5, 41, 17, 93, 549, 63], [24, 24, 24, 550, 202, 37, 551], [2, 5, 81, 89, 2, 14, 240, 106, 552, 553, 7, 28, 554, 1, 9, 25, 201, 16, 555, 225, 25, 556], [24, 24, 29, 3, 24, 139, 116, 37, 5, 6, 220, 2, 557, 558, 15, 50, 8, 559, 142, 560], [26, 128, 3, 46, 21, 1, 23, 33, 8, 1, 9, 7, 561, 8, 241, 17, 3, 19, 2, 11, 68], [56, 36, 2, 80, 21, 2], [15, 562, 2, 5, 13, 84, 57], [206, 1, 9, 31], [69, 1, 563, 78, 17], [242], [95, 564, 14, 2, 114, 21, 2, 17, 565, 12, 219, 207, 2, 116, 26, 6, 60], [24, 24, 243, 56, 243, 19, 15, 50, 2, 11, 566, 36, 2, 10, 107], [24, 118, 13, 27, 88, 27, 13, 29, 3, 24, 118], [244, 245, 13, 143, 106, 70, 567, 70, 52, 64, 244, 27, 2, 568, 569], [16, 570, 2, 101, 13, 25, 64, 144, 19, 1, 9, 16, 7, 208, 144, 17, 3, 187, 571, 17, 572, 17, 573, 181, 574, 575, 102, 16, 576, 102, 577, 578, 14, 20, 13, 18, 579, 580, 2, 11, 78, 1, 9, 188, 2, 581, 246, 2, 70, 1, 582, 1, 583, 584, 31, 222, 246, 18, 585, 16, 26, 199], [26, 3, 139, 2, 586], [242, 78, 1, 9, 233, 31, 42, 240, 31, 109, 1, 9, 140, 2, 5, 40, 587, 588, 1, 51, 1, 589, 47, 129, 133, 137], [108, 145, 145, 2, 11, 112, 145], [142, 129, 2, 10, 29], [17, 3, 1, 51, 2, 40], [590, 4, 40, 114, 19, 591, 3, 1, 51], [592, 2, 11, 77, 4, 593, 57, 594, 32, 2, 209, 69, 65, 57, 2, 194, 38, 2, 595, 90, 119, 25, 247, 39, 10, 596, 16, 597], [74, 2, 11, 598, 1, 73], [2, 11, 13, 68], [31, 31, 4, 66, 2, 599, 1, 248, 249, 15, 600, 106, 1, 248], [601, 39, 11, 12, 35, 18, 602, 56, 7, 603, 75, 28, 162, 21, 1, 9, 41, 45, 144, 5, 604, 72, 16, 45, 105, 32, 2, 99, 15, 73, 69, 32, 2, 605, 1, 234, 16, 606, 61, 41, 72, 93, 2, 5, 71, 62, 607, 8, 241], [32, 2, 608, 36, 39, 134, 25, 31], [46, 3, 72, 50, 36, 2, 10, 107, 214, 2, 17, 49], [250, 2, 6, 93, 227, 3, 22, 69, 245, 14, 168], [24, 29, 3, 251], [108, 26, 252, 2, 609, 143, 6, 95, 47, 4, 76, 610], [6, 27, 31, 6, 27, 611, 10, 6, 71, 47, 16, 612, 89, 613, 122, 224, 47, 2, 614, 143, 41, 42, 2, 5, 13, 108], [132, 5, 6, 146, 31, 141, 615, 616, 17, 6, 10], [46, 253, 6, 21, 1, 9, 38, 13, 26, 46, 617, 3, 618, 70, 16, 132, 619, 11, 620, 26, 3, 1, 131, 8, 140, 1, 131, 8, 1, 9], [24, 37, 73, 27, 2, 621, 622, 81, 2, 26, 247, 2, 84], [623, 13, 624, 43, 625, 180, 72, 2, 11, 254, 72, 79, 56, 79, 7, 28, 5, 2, 12, 16, 254, 30, 2, 5], [142, 146, 6, 84, 31, 146], [15, 223, 22, 3], [250, 2, 93, 22], [626, 18, 3, 16, 255], [24, 255, 26, 2, 627, 4, 252, 30, 26, 628, 67, 15, 73, 13, 53, 25, 1, 629, 156, 2], [249, 7, 228, 229, 230, 92, 1, 9, 38, 231, 100, 44, 232, 1, 23, 33, 14, 39, 235, 2, 236, 237, 1, 23, 61, 141, 5, 17, 238, 15, 239], [74, 74, 27, 13, 27, 13, 630, 1, 193, 8, 1, 105, 88, 631, 15, 632, 161, 2, 5, 74, 89, 137, 253, 6, 1, 215, 8, 1, 28, 5, 2, 12, 74, 1, 9, 218, 46, 19, 15, 217, 633, 35, 36, 2, 10, 107, 74, 29, 3, 251, 256, 256, 634]]\n",
            "Vocabulary Size:  635\n",
            "Number of sentences  168\n",
            "Model: \"model_11\"\n",
            "_________________________________________________________________\n",
            "Layer (type)                 Output Shape              Param #   \n",
            "=================================================================\n",
            "input_12 (InputLayer)        [(None, 5)]               0         \n",
            "_________________________________________________________________\n",
            "embedding_11 (Embedding)     (None, 5, 300)            190500    \n",
            "_________________________________________________________________\n",
            "bidirectional_11 (Bidirectio (None, 5, 400)            801600    \n",
            "_________________________________________________________________\n",
            "global_max_pooling1d_11 (Glo (None, 400)               0         \n",
            "_________________________________________________________________\n",
            "dense_22 (Dense)             (None, 635)               254635    \n",
            "_________________________________________________________________\n",
            "dense_23 (Dense)             (None, 635)               403860    \n",
            "=================================================================\n",
            "Total params: 1,650,595\n",
            "Trainable params: 1,460,095\n",
            "Non-trainable params: 190,500\n",
            "_________________________________________________________________\n",
            "WARNING:tensorflow:`period` argument is deprecated. Please use `save_freq` to specify the frequency in number of batches seen.\n"
          ],
          "name": "stdout"
        },
        {
          "output_type": "stream",
          "text": [
            "WARNING:tensorflow:`period` argument is deprecated. Please use `save_freq` to specify the frequency in number of batches seen.\n"
          ],
          "name": "stderr"
        },
        {
          "output_type": "stream",
          "text": [
            "Epoch 1/100\n",
            "38/38 [==============================] - 9s 97ms/step - loss: 6.1641 - accuracy: 0.0399 - val_loss: 5.6117 - val_accuracy: 0.0746\n",
            "Epoch 2/100\n",
            "38/38 [==============================] - 3s 81ms/step - loss: 5.3495 - accuracy: 0.0615 - val_loss: 5.6549 - val_accuracy: 0.0896\n",
            "Epoch 3/100\n",
            "38/38 [==============================] - 3s 83ms/step - loss: 5.0599 - accuracy: 0.0825 - val_loss: 5.5618 - val_accuracy: 0.1269\n",
            "Epoch 4/100\n",
            "38/38 [==============================] - 3s 80ms/step - loss: 4.6229 - accuracy: 0.1257 - val_loss: 5.6796 - val_accuracy: 0.1642\n",
            "Epoch 5/100\n",
            "38/38 [==============================] - 3s 81ms/step - loss: 3.9411 - accuracy: 0.1737 - val_loss: 5.7832 - val_accuracy: 0.1343\n",
            "Epoch 6/100\n",
            "38/38 [==============================] - 3s 81ms/step - loss: 2.9378 - accuracy: 0.3089 - val_loss: 6.7067 - val_accuracy: 0.1642\n",
            "Epoch 7/100\n",
            "38/38 [==============================] - 3s 81ms/step - loss: 1.7431 - accuracy: 0.5592 - val_loss: 7.2601 - val_accuracy: 0.1418\n"
          ],
          "name": "stdout"
        }
      ]
    },
    {
      "cell_type": "code",
      "metadata": {
        "colab": {
          "base_uri": "https://localhost:8080/"
        },
        "id": "q521x36GD4hz",
        "outputId": "be58b096-7089-4df9-d89b-d06fc0a65d83"
      },
      "source": [
        "main(\"threepio\", \"ThreepioProcessedData.txt\",\"ThreepioGeneratedSen.txt\")"
      ],
      "execution_count": 135,
      "outputs": [
        {
          "output_type": "stream",
          "text": [
            "# of Unique Words:  {'venture', 'lets', 'oil', 'rusty', 'hasnt', 'better', 'somethingshappened', 'behave', 'curse', 'ourselves', 'hangar', 'have', 'commented', 'tricked', 'luke', 'expect', 'safe', 'replace', 'readily', 'alternative', 'bad', 'deity', 'itif', 'hersoh', 'opinion', 'with', 'ever', 'needing', 'bounty', 'bear', 'barely', 'lars', 'through', 'aatwentythree', 'switch', 'obiwan', 'load', 'impersonate', 'damage', 'leia', 'said', 'least', 'entirely', 'little', 'worries', 'dull', 'saying', 'weight', 'empire', 'delusions', 'out', 'sent', 'fortunate', 'you', 'havent', 'alliance', 'veranda', 'person', 'overweight', 'twenty', 'peculiar', 'feeling', 'naked', 'wooly', 'heading', 'thirtyfive', 'makes', 'mischka', 'surrender', 'extreme', 'supposed', 'bolt', 'fast', 'wait', 'maam', 'odds', 'friend', 'therell', 'that', 'rocky', 'approximately', 'ey', 'mutualattraction', 'kenobi', 'navigating', 'shutting', 'would', 'million', 'condition', 'responsibility', 'must', 'welcome', 'quitefound', 'talking', 'how', 'knock', 'madness', 'put', 'princess', 'prison', 'not', 'reconsider', 'or', 'fighter', 'our', 'fugitive', 'youd', 'most', 'arent', 'knowledgeable', 'nearsighted', 'thistime', 'citys', 'hello', 'temple', 'sohappyextending', 'doing', 'dialect', 'astrodroids', 'one', 'quarter', 'security', 'only', 'asked', 'thermocapsulary', 'circuits', 'unit', 'signals', 'agree', 'inquire', 'theres', 'coming', 'direction', 'funny', 'whats', 'field', 'going', 'ouch', 'droid', 'worrying', 'celebration', 'too', 'nothing', 'own', 'sort', 'somebody', 'allyour', 'people', 'knows', 'such', 'inside', 'chewbacca', 'pit', 'rude', 'kind', 'private', 'carrying', 'data', 'wouldnt', 'humancyborg', 'awful', 'allpowerful', 'hopes', 'stand', 'jibberish', 'worry', 'found', 'because', 'likes', 'oh', 'heater', 'almighty', 'merely', 'got', 'scaring', 'also', 'overrun', 'wrong', 'just', 'service', 'solo', 'known', 'yes', 'against', 'entrance', 'central', 'possibility', 'sorrymaster', 'other', 'carbonite', 'minded', 'mindless', 'trouble', 'impossible', 'sor', 'things', 'forget', 'their', 'know', 'strategy', 'locations', 'came', 'problems', 'across', 'from', 'restraining', 'times', 'technical', 'them', 'thinkso', 'chancellors', 'sorry', 'creatures', 'eyes', 'trace', 'encased', 'loud', 'before', 'understand', 'smashed', 'want', 'no', 'um', 'rather', 'scrap', 'his', 'shut', 'minute', 'youve', 'win', 'position', 'show', 'her', 'generator', 'day', 'say', 'deflector', 'asks', 'shall', 'anyouter', 'lifters', 'attached', 'pulverized', 'longtime', 'so', 'leave', 'nobodywould', 'brute', 'play', 'probablyjust', 'contd', 'victims', 'should', 'malfunction', 'ah', 'problem', 'rescue', 'get', 'god', 'disintegrated', 'seven', 'royal', 'artoo', 'hadnt', 'rash', 'five', 'assure', 'why', 'secondary', 'wondering', 'nesting', 'planetto', 'almost', 'metal', 'careful', 'two', 'poor', 'any', 'binary', 'decreed', 'upsetting', 'case', 'whawhawhats', 'han', 'furry', 'level', 'magic', 'fully', 'guard', 'head', 'deactivated', 'yet', 'done', 'ooooh', 'mmmm', 'my', 'babbling', 'terminated', 'short', 'relateto', 'believe', 'forgotten', 'hold', 'some', 'weve', 'six', 'think', 'motivator', 'isolated', 'ohh', 'computer', 'tickles', 'relief', 'let', 'secret', 'wish', 'expressed', 'dune', 'counterpart', 'drinks', 'are', 'appear', 'functional', 'flux', 'pay', 'himself', 'pleasant', 'legs', 'oooh', 'successfully', 'foolish', 'myself', 'jedi', 'heeelp', 'miss', 'im', 'reassuring', 'save', 'bit', 'time', 'side', 'shortcircuit', 'next', 'youre', 'able', 'who', 'at', 'sounds', 'programming', 'human', 'resident', 'thousand', 'owensomebody', 'point', 'cant', 'die', 'docking', 'assault', 'worshipfulness', 'excitement', 'interested', 'misspadme', 'perilous', 'this', 'coupling', 'knew', 'assister', 'beastly', 'fifty', 'scheduled', 'always', 'heroics', 'doesnt', 'somethingyou', 'in', 'recording', 'helpless', 'bocce', 'job', 'comes', 'owner', 'theyll', 'were', 'youll', 'come', 'suffer', 'several', 'axis', 'sea', 'go', 'cast', 'transport', 'hostility', 'others', 'systems', 'thoughtless', 'business', 'excuse', 'wauaga', 'notmechanically', 'control', 'lightspeed', 'work', 'survival', 'mymasters', 'pleased', 'grease', 'meaning', 'socket', 'belly', 'way', 'question', 'off', 'body', 'imperial', 'rancor', 'overgrown', 'quickly', 'coupled', 'bath', 'last', 'sometimes', 'terminals', 'detoowha', 'wake', 'circumstances', 'removed', 'wonderful', 'well', 'shes', 'dying', 'great', 'fair', 'southeast', 'morning', 'seewhat', 'mistress', 'pretty', 'honor', 'eccentric', 'perfect', 'looked', 'those', 'part', 'similar', 'all', 'outlet', 'pick', 'than', 'donate', 'possible', 'ugh', 'uh', 'considerable', 'hand', 'include', 'exciting', 'ow', 'taken', 'hear', 'intrude', 'negative', 'illustrious', 'process', 'behavior', 'banquet', 'kessel', 'telling', 'we', 'make', 'inbetween', 'begging', 'first', 'humancy', 'as', 'board', 'it', 'cyborg', 'space', 'dont', 'the', 'rest', 'dear', 'wont', 'suggests', 'continuingdanger', 'entire', 'awhile', 'blast', 'thought', 'offers', 'keepsrepeating', 'wellprotected', 'mophead', 'mostconfusing', 'communicate', 'confused', 'abide', 'message', 'showing', 'more', 'shoot', 'learned', 'firstclass', 'hyperdrive', 'will', 'unhappiness', 'thing', 'he', 'tight', 'scouts', 'amazed', 'antilles', 'backwards', 'something', 'functions', 'playing', 'inqu', 'hush', 'stupid', 'jabba', 'honorably', 'doomed', 'plans', 'tribe', 'mines', 'beginning', 'chamber', 'ofviolent', 'anything', 'rear', 'sum', 'primitive', 'clever', 'dry', 'remember', 'hairy', 'droids', 'probably', 'word', 'pleas', 'frankly', 'actually', 'block', 'rush', 'good', 'joints', 'didnt', 'anymore', 'hundred', 'mistaken', 'clothes', 'but', 'far', 'trust', 'ridge', 'complete', 'instructions', 'gift', 'sense', 'melt', 'halfsized', 'new', 'shoo', 'she', 'they', 'remove', 'stable', 'sell', 'themi', 'theyve', 'relations', 'use', 'beyond', 'if', 'spice', 'very', 'odd', 'stories', 'bend', 'override', 'happening', 'away', 'afraid', 'active', 'wanna', 'years', 's', 'heard', 'finished', 'master', 'watch', 'lost', 'main', 'moment', 'door', 'need', 'pile', 'shot', 'screaming', 'holding', 'sohumiliating', 'fall', 'highness', 'looking', 'account', 'may', 'signal', 'perfectly', 'beam', 'call', 'allow', 'never', 'princesss', 'seems', 'desolate', 'right', 'hit', 'over', 'along', 'hey', 'enough', 'jawas', 'us', 'theyre', 'feel', 'quite', 'turned', 'boring', 'important', 'reward', 'terminal', 'rightful', 'under', 'embarrassed', 'gears', 'quiet', 'nobody', 'returned', 'sir', 'hardly', 'idea', 'beepsyoure', 'turn', 'earlier', 'decided', 'dreadful', 'become', 'ill', 'danger', 'flying', 'protocol', 'after', 'general', 'themits', 'rumor', 'hang', 'try', 'voyage', 'hes', 'shouldnt', 'into', 'there', 'much', 'making', 'picked', 'mean', 'still', 'logic', 'planet', 'anyways', 'told', 'expresses', 'bo', 'listen', 'do', 'vaporators', 'familiar', 'drooop', 'trouuble', 'lot', 'presence', 'stress', 'escape', 'meet', 'brave', 'life', 'admit', 'by', 'power', 'malfunctioning', 'strange', 'worked', 'real', 'circuited', 'ar', 'location', 'apart', 'which', 'r', 'easier', 'stick', 'stormtroopers', 'unhappy', 'three', 'anyone', 'bargain', 'here', 'anakin', 'now', 'innards', 'hardlybelieve', 'of', 'waves', 'hutt', 'green', 'excels', 'blame', 'man', 'unable', 'neck', 'suffering', 'used', 'observant', 'isuppose', 'where', 'faulty', 'covering', 'its', 'wed', 'suicide', 'survives', 'slight', 'possibly', 'gracious', 'beg', 'asteroid', 'closer', 'standing', 'mind', 'embarrassing', 'thank', 'second', 'talk', 'continuingthank', 'using', 'dangerous', 'communicator', 'somethings', 'onto', 'imaginingthings', 'iwouldnt', 'care', 'tuneup', 'thermal', 'seethreepio', 'see', 'discovered', 'happened', 'gladly', 'says', 'wookiee', 'could', 'old', 'approaching', 'on', 'take', 'reactor', 'although', 'reproductive', 'twerp', 'dehousing', 'stay', 'open', 'being', 'move', 'toota', 'about', 'loss', 'am', 'these', 'hurt', 'philosopher', 'step', 'piece', 'noticed', 'precise', 'sensors', 'serving', 'noisy', 'du', 'looks', 'parts', 'following', 'bring', 'excellency', 'attack', 'flutter', 'has', 'did', 'getting', 'is', 'a', 'fluent', 'find', 'terribly', 'facilities', 'slowly', 'ask', 'evening', 'typical', 'bids', 'abandon', 'maker', 'communication', 'jump', 'shhhhhh', 'environment', 'long', 'glob', 'shake', 'does', 'lady', 'to', 'fault', 'worried', 'until', 'please', 'falcon', 'chewie', 'artoodetoo', 'lock', 'quickest', 'hate', 'an', 'masterannie', 'annie', 'proper', 'companion', 'fact', 'seventyfive', 'hope', 'gone', 'matter', 'alerted', 'forgot', 'what', 'id', 'wonder', 'acceptable', 'suppose', 'ship', 'range', 'shield', 'definition', 'mission', 'backshortly', 'mistakes', 'risking', 'frozen', 'importance', 'stubborn', 'thats', 'adventures', 'wasnt', 'asking', 'weak', 'doubted', 'half', 'pieces', 'having', 'confidence', 'like', 'interesting', 'deliver', 'therefore', 'suggest', 'look', 'fixed', 'course', 'office', 'captain', 'ive', 'freezing', 'carkoon', 'face', 'lump', 'back', 'exaltedness', 'sarlacc', 'tell', 'kept', 'hurry', 'place', 'damaged', 'once', 'down', 'within', 'yourself', 'deactivate', 'nice', 'restricted', 'inactive', 'ohhh', 'interpreter', 'detention', 'meltingthis', 'pain', 'mistake', 'forms', 'seethreepiowha', 'around', 'whatever', 'high', 'heartily', 'had', 'mighty', 'ready', 'cannot', 'regret', 'theexpression', 'digested', 'touchy', 'hunter', 'workshop', 'execute', 'indicated', 'theyregenerating', 'permitted', 'calrissian', 'mess', 'made', 'your', 'saved', 'either', 'repair', 'goodness', 'and', 'chances', 'dust', 'language', 'rebellion', 'really', 'for', 'artoos', 'prime', 'sees', 'fix', 'gotten', 'detonator', 'agrees', 'imeither', 'i', 'pardon', 'attention', 'destroyer', 'him', 'even', 'thoughim', 'up', 'capacity', 'stop', 'close', 'appears', 'when', 'system', 'contamination', 'hmm', 'surviving', 'was', 'simply', 'lukes', 'banish', 'millennium', 'information', 'programmed', 'doubt', 'can', 'behind', 'be', 'wawait', 'maintenance', 'trying', 'settlements', 'star', 'help', 'sure', 'isnt', 'reverse', 'land', 'property', 'end', 'between', 'again', 'me', 'travel', 'give', 'polarized', 'friendly', 'immediately', 'might', 'comlink', 'mercy', 'continuing', 'couldnt', 'furball', 'monitor', 'hell', 'disgusting', 'madmen', 'grandeur', 'ridiculous', 'code', 'passenger', 'light', 'thirty', 'catch', 'been', 'masteranakin', 'beast', 'direct', 'seem', 'captured', 'somebodys', 'tractor', 'lando', 'destroyed', 'padme'}\n",
            "Tokenised sequences  [[43, 31, 2, 31, 1, 58, 163, 208, 422, 209, 43], [1, 164, 32, 111, 20, 31, 2, 144, 11, 261], [423, 9, 262, 17, 263, 5, 9, 97, 43], [5, 9, 264, 265, 165, 125, 424], [1, 49, 425, 2, 59, 71, 112, 72, 13, 426, 79, 10, 427], [21, 63, 4, 428, 429, 126, 166, 5, 73], [25, 266, 2, 17, 9, 267, 24, 1, 167, 2, 37, 268], [430, 13], [74, 431, 168, 1, 57, 2], [5, 9, 5, 9, 432, 9, 97, 1, 49, 433, 18, 24, 14, 87, 12, 269], [5, 73, 11, 50, 145, 434, 266], [1, 40, 270, 98, 60, 271], [25, 435, 25, 436, 4, 44, 2], [80, 16, 169, 81, 210, 211, 146, 437, 272, 32, 57], [88, 113, 1, 438, 439, 75, 6, 273, 212, 440, 441, 213, 442, 127, 22, 443], [31, 2, 99, 40, 50, 444, 1, 274, 445], [5, 11, 26, 446, 24, 447, 36, 448, 50, 275, 449, 167, 4, 450, 451, 61, 214, 76, 14, 37, 33, 452], [261, 38, 2, 111, 453, 2, 44, 276, 277, 215, 13, 21, 112, 454, 3, 128, 4, 278, 13, 455, 456, 33, 457, 43, 100, 2, 76, 458, 2, 114, 4, 60, 216, 45, 459, 166, 263], [10, 115, 2, 147, 460, 33, 461, 26, 273], [1, 16, 40, 50, 89, 277], [5, 43, 462, 10, 2, 269, 10, 115, 11, 61, 463, 464, 38, 2, 465, 1, 144], [466, 88, 467], [468, 43, 31, 1, 129], [469, 5, 210, 211, 11, 470, 82, 217, 4, 471, 472, 111, 13], [279, 2], [279, 2, 130, 2, 130, 2], [5, 9], [77, 18, 15, 7, 473, 79, 280, 474, 6, 475, 476, 24, 3, 477, 478, 479, 480, 218, 481, 281, 4, 170, 482, 483, 38, 1, 282, 283], [77, 18, 63, 46, 125, 6, 484, 31, 2, 284, 485, 4, 101], [486, 5, 22, 1, 274, 487, 18, 488, 6, 83, 489, 490, 13, 59, 84, 12, 491, 61, 131, 492, 7], [1, 16, 219, 148, 7, 493, 494, 13, 131, 495], [11, 51, 1, 220, 113, 496, 171, 2, 33, 497, 6, 498], [18, 172, 173, 12, 75, 149, 75, 29, 19], [132, 37, 52, 1, 285, 45, 2, 23, 286, 1, 116, 31, 45, 6, 499, 500], [15, 52, 148, 1, 64, 31, 34, 2, 9, 150], [9, 150, 17, 2, 17, 2, 29, 78], [3, 501, 502, 503, 25, 504, 287, 4, 3, 221, 288, 16, 222, 9, 150, 1, 58, 51, 21, 71, 12, 29, 78], [9, 150, 127, 6, 221, 505, 506, 27, 3, 507], [508, 26, 50, 289], [20, 15, 30, 27], [132, 2, 90, 12, 509, 510, 151, 1, 58], [113, 511, 15, 30, 27, 1, 220, 6, 512, 59, 17, 30, 4, 513, 29, 514], [132, 515, 26, 50, 289], [132, 516, 18, 15, 37, 12, 3, 133, 4, 53], [4, 7, 37, 21, 15, 290, 6, 291, 10, 517, 7], [132, 102, 223, 9, 152, 518], [132, 9, 150, 15, 52, 148, 1, 64, 31], [1, 292, 50, 519], [134, 64, 1, 57, 2, 5, 33, 2, 25, 174, 54, 23, 224], [77, 78, 175, 3, 520, 27, 3, 221, 288], [5, 73], [521, 522, 31, 2, 53, 19, 1, 40, 11, 523, 4, 72, 3, 225, 10, 14, 524, 525], [20, 17, 2, 176, 65, 30, 4, 293, 177, 55], [1, 58, 214, 226, 85, 178, 6, 74, 227, 27, 177, 28, 11, 294, 42, 9, 66, 1, 228, 33, 295, 4, 227, 91, 290, 14, 526], [25, 174, 35, 41, 210, 211, 27, 527, 80, 80, 117, 35, 84, 169, 14, 528, 135], [18, 529, 179, 275, 10, 530, 296, 1, 40], [5, 22], [92, 2, 219, 19, 229, 297, 103, 3, 118, 298, 37, 12, 531, 34, 51, 14, 15, 532], [47, 180], [533, 12, 22, 534, 34, 3, 104, 14, 128], [181, 19], [1, 84, 41, 299, 98, 151, 4, 153, 3, 300, 10, 6, 535, 536, 537, 538], [7, 182, 48, 17, 2], [67, 133, 48, 41, 2, 46], [93, 301, 23, 14, 539, 20, 17, 35, 30, 4, 31, 37, 12, 540, 4, 3, 541, 542, 10, 543, 213, 544, 119, 545, 302, 20], [55, 6, 546, 48, 17, 2, 30], [547, 65, 26, 548, 23, 52, 33, 303, 136, 12, 304, 34, 51], [16, 549, 13, 6, 550, 551, 2, 552, 553, 10, 554, 94, 54, 105, 230, 183, 555, 2], [305, 184, 20, 556, 20, 17, 2, 154, 42, 11, 26, 306, 23, 52], [11, 30, 4, 557, 14], [88, 558, 3, 559, 155, 129, 75, 149, 120, 105, 36], [17, 2, 51, 14, 185, 560], [43, 92, 1, 72, 119, 14, 561, 1, 99, 16, 53, 43, 35, 307, 4, 12, 215, 4, 562, 33, 106, 291, 23, 308], [85, 178, 4, 563, 230, 1, 564, 565, 9, 309, 17, 310, 311], [20, 6, 566, 135, 14, 15], [48, 17, 2, 30], [37, 11, 26, 30, 19, 107, 33, 137, 138, 567, 14, 107, 15, 137, 568], [20, 569, 2, 40, 52, 17, 570, 108, 52], [16, 72, 571, 45, 13], [20, 184, 20, 17, 2, 154, 42, 85, 114, 61, 42, 186, 10, 2, 60, 19, 107, 136, 12, 231, 572, 6, 573, 2, 574, 575, 576], [24, 16, 187, 13, 312, 2, 577, 13, 578, 34, 57, 232, 2, 313, 72, 18], [22, 126, 579, 11, 26, 30, 19, 107], [19, 231, 152, 580, 14, 15, 29, 82, 139, 21, 581, 13, 119, 30, 14, 107, 28, 156, 31, 22, 98], [55, 181, 19, 6, 314, 11, 582], [108, 36, 57, 80, 57], [182, 33, 2, 33, 2], [315, 91, 315, 91], [47, 180], [31, 2, 40, 316, 583, 81, 103], [16, 317, 16, 317, 71, 14, 112, 318], [8, 26, 23, 95, 584, 188, 75, 14, 88, 140, 85, 319, 46, 281, 34, 108, 585, 586, 587, 19], [320, 8, 9, 588, 321, 86, 322, 589, 590, 591, 83, 592, 4, 32, 320, 2, 116, 121], [10, 115, 1, 49, 8, 33, 76, 6, 323, 324, 34, 13, 11, 75, 189, 23, 593], [325, 91, 8], [141, 13, 8, 28, 19, 190, 191, 15, 23, 594, 233, 6, 595, 596], [62, 11, 68, 51, 136, 12, 83, 597, 45, 19, 79, 8, 21, 99, 15, 23, 598, 233, 85, 599, 45, 56, 230, 36, 21, 600], [94, 16, 601, 14, 140, 1, 84, 602, 9, 603, 105, 34, 2, 15, 68, 604, 9, 605], [130, 3, 267, 14, 606, 607, 15, 30, 4, 292, 50, 74, 85, 178, 188, 6, 149, 608, 10, 609, 610, 1, 49, 611, 326], [15, 52, 148, 1, 64, 31, 4, 57], [1, 16, 40, 50, 8, 11, 89, 6, 212, 24, 26, 83, 612, 42, 188, 185, 26, 27, 14, 327, 328, 75, 6, 613, 10, 286, 11, 26, 218, 51, 614, 327, 11, 27], [1, 44, 8], [1, 44, 8, 39], [24, 1, 58, 163, 329, 209, 24, 14, 15, 9, 330, 182], [45, 29, 234, 46, 331, 332, 11, 615, 47, 23, 75, 74, 233, 75, 35, 17, 20, 45, 3, 616, 24, 29], [88, 43, 35, 617, 4, 12, 23, 32, 618, 38, 2, 102, 9, 619, 8], [333, 1, 40, 334, 127, 26, 137, 4, 192, 11, 26, 137, 126, 151, 95, 335, 24, 26, 83, 74, 67, 620, 621, 37, 26, 67, 622, 101, 336, 328], [20, 15, 20, 21, 623, 2, 6, 624, 20, 15, 19], [5, 21, 69, 33, 337, 8, 338, 6, 625, 626, 627, 193, 18, 22, 235], [11, 109, 11, 26, 68, 51, 8], [1, 40, 339, 86, 6, 628, 27, 106, 133, 629, 6, 630, 10, 179, 631, 8, 1, 194, 106, 142, 86, 340, 4], [632, 236, 7, 65, 30, 4, 72, 81, 23, 341, 33, 29, 78, 2, 49, 153, 56, 70, 106, 237, 25], [21, 69, 70, 3, 633, 10, 342, 174, 6, 634, 10, 146, 262, 24, 33, 6, 635, 122, 34, 56, 68, 636, 8, 1, 16, 53, 20, 70, 154, 42, 106, 133, 25, 86, 142, 637, 28, 45, 20, 234, 46, 331, 14, 152, 190, 191, 63, 638, 6, 639, 640], [1, 164, 32, 111, 8, 28, 31, 2, 53, 20, 70, 154, 42], [21, 69, 3, 343, 238, 63, 641, 642, 82, 344, 345, 21, 643, 19, 38, 2, 644, 3, 238, 21, 64, 12, 295, 4, 645, 66, 3, 646, 344], [46, 239, 3, 79, 65, 647, 271, 32, 648, 649], [11, 195, 8, 28, 21, 346, 4, 41, 650, 91, 6, 651, 652], [61, 2, 653, 239, 19, 122, 34, 56], [22, 1, 16, 40, 21, 654, 2, 67, 29], [22, 1, 16, 76, 2, 347], [18, 348, 9, 139, 8, 80, 16, 240, 13, 1, 157, 56, 26, 4, 60, 28, 70, 655, 231, 656, 657, 27, 42, 82, 184], [19, 190, 191, 63, 658, 46, 6, 659, 146, 660, 17, 306, 68, 105, 10, 217, 218, 1, 90, 170, 349, 300, 67, 661], [111, 13, 8, 28, 172, 35, 60, 175, 56], [5, 21, 662, 67, 19, 8], [8, 100, 18, 57, 38, 2, 157, 56, 18, 86, 9, 139], [240, 37, 27, 3, 241, 217, 38, 2, 663, 664, 82, 343, 238], [25, 39, 36, 15, 32, 665, 666, 37, 41, 22, 126, 10, 14, 342, 174, 667, 24, 16, 668, 4, 13, 10, 32, 184, 347, 65, 669, 21, 155, 670, 2, 119, 6, 196, 350, 78, 36], [38, 2, 16, 235, 9, 671, 50, 8, 1, 40, 2, 84, 240, 3, 152, 672, 673, 351, 674, 56, 66, 4, 32, 675], [5, 9, 8, 21, 69, 52, 17, 333, 352, 676, 120, 3, 677], [48, 58, 1, 1, 87, 41, 353, 6, 149, 678], [1, 16, 40, 1, 49, 242, 18, 2, 60, 27, 25, 39, 127, 22, 679, 23, 2, 680, 236, 27, 9, 681, 11, 197, 34], [8, 38, 136, 26, 12, 682, 13, 354, 683, 103, 34, 684], [1, 90, 685, 146, 686, 687, 352], [54, 198, 7], [1, 688, 285, 45, 2, 8], [1, 16, 76, 3, 129, 10, 14], [689, 3, 355, 7], [1, 100, 137, 125, 41, 243, 45, 25, 39, 151, 199, 36, 45, 2, 1, 16, 53, 20, 29, 14, 341, 15, 42, 28, 11, 51, 18, 87, 12, 32, 139], [2, 356, 32, 324], [134, 8], [5, 9, 357, 690, 43, 137, 1, 691, 264, 265], [94, 12, 226, 7], [21, 215, 6, 692, 326, 693, 42, 18, 313, 57, 2], [28, 8, 358, 694, 42, 695, 6, 212], [1, 44, 32, 696, 8, 1, 200, 6, 237, 697, 7, 187, 3, 359, 698], [35, 201, 3, 158, 699, 8], [21, 69, 70, 201, 3, 118, 700, 4, 3, 159, 360, 88, 361, 3, 160, 36, 156, 362, 4, 242, 3, 701, 702, 703, 27, 3, 704], [3, 705, 360, 15, 706, 4, 3, 118, 298, 23, 244, 707, 6, 159, 708, 67, 79, 10, 3, 709, 71, 710, 3, 160, 4, 169], [11, 109, 11, 26, 68, 51, 8, 21, 69, 1, 201, 177, 24, 711, 245, 36], [104, 110], [246, 363, 712, 713, 714, 11, 109, 245, 715, 4, 12, 364], [25, 39, 8, 111, 13, 34, 716, 28, 365, 20, 84, 7, 24, 1, 31, 38, 47, 717, 36], [19, 718, 83, 719], [77, 8], [1, 247, 29, 720, 41, 46, 721, 4, 32, 722, 8, 3, 118, 366, 367, 4, 12, 3, 89, 107, 105, 29, 241, 723, 27, 32, 246, 15, 303], [5, 22], [93, 724, 93, 301, 34, 3, 725, 246, 38, 2, 117, 2, 64, 312, 101], [54, 27], [5, 29, 14, 726, 63, 727, 3, 166, 10, 9, 330, 36, 38, 2, 16, 235, 357, 76, 4, 102, 56, 103, 4, 728], [59, 368, 36, 113, 87, 41, 369, 4, 101, 44, 38, 229, 46, 370], [117], [130, 97, 59, 371, 201, 101, 48, 116, 59, 12], [372, 3, 729, 5, 9, 1, 730, 1, 731, 18, 248], [17, 2, 52, 8], [234, 114, 179, 732], [22, 297, 101, 29, 103, 117], [161, 4, 101, 93, 733, 7, 734, 9, 735, 736, 1, 348, 737, 186, 33, 29, 9, 139, 9, 373, 25], [34, 3, 280, 62, 47, 23, 3, 118, 738, 739, 120, 3, 160], [48, 116, 59, 12], [54, 27, 7, 47, 30], [740], [57, 1, 40, 11, 741, 15, 29, 32, 139], [225, 27, 742, 7, 351, 178, 4, 54, 66], [2, 147, 743, 9, 308, 4, 72, 744, 100, 2], [225, 27, 7], [5, 9, 7, 49, 2, 219, 13, 121, 745, 49, 374, 56, 90, 2], [2, 87, 374, 56, 8, 38, 202, 10, 9, 166, 213, 746, 71, 57, 354, 375, 747, 101], [16, 362, 4, 376, 13, 1, 171, 377, 2, 4, 249, 27, 3, 378, 748, 1, 338, 749, 19, 18, 86, 203, 23, 3, 750, 751, 28, 33, 379, 4, 12, 203, 43, 17, 35, 30, 4, 752, 105, 29, 177, 753, 1, 99, 16, 53], [5, 754, 248], [141, 13, 8], [64, 1, 41, 6, 380, 45, 2, 80], [37, 33, 104, 110, 8, 245, 46, 250, 4, 72, 2, 27, 3, 755], [5, 37, 104, 110, 15, 756, 42, 25, 39, 21, 757, 54, 66, 381, 339, 155, 53, 48, 21, 15], [358, 302, 48, 21, 15], [37, 62, 2, 44], [141, 13, 8, 64, 1, 758], [141, 13, 8, 64, 1, 759, 181, 30, 27], [382, 760, 54, 198, 7, 383, 251, 104, 110, 761, 762, 1, 40, 25, 39, 15, 23, 763, 384], [2, 87, 54, 198, 94, 7, 127, 99, 337, 126, 35, 49, 31, 24, 9, 309, 17, 203, 91], [16, 121, 385, 76, 19, 10, 115, 37, 44, 25, 39, 252, 156, 12, 68, 29, 78, 136, 44, 204, 152, 386, 156, 12, 68, 29, 78], [764, 110, 7, 69, 70, 46, 68, 765, 4, 766, 91, 202, 767, 268, 21, 387, 768, 19, 82, 769, 770, 15, 388, 138, 771, 4, 772, 29, 228], [7, 69, 3, 773, 10, 774, 17, 244, 389, 775, 4, 79], [334, 7, 63, 46, 299, 4, 242, 776, 120, 128, 4, 128, 5, 73, 5, 73, 16, 222, 42, 25, 39, 11, 51, 156, 12, 29, 78, 70, 68, 777, 2, 53, 34, 6, 208, 214], [25, 39, 8, 33, 74, 4, 44, 2, 778, 779, 252], [7, 780, 82, 781, 319], [141, 81, 80], [8, 1, 58, 189, 23, 253, 196, 254, 10, 255, 14, 782, 15, 26, 783, 784, 3, 785, 18, 116, 12, 95, 390, 786], [7, 2, 102, 74, 223, 10, 25, 39, 94, 170, 24, 31, 102, 223, 10, 236, 5, 73, 5, 73], [32, 391, 35, 87, 102, 14, 133, 314, 33, 106, 89, 228], [5, 55, 34, 13], [28, 28, 28, 48, 17, 2, 30, 62, 54, 66], [55, 55, 34, 13, 55, 131], [43, 787], [55, 55], [142, 123, 142, 123, 8, 64, 1, 200, 19, 2], [18, 49, 55], [8, 8, 64, 1, 200], [28, 8], [38, 1, 168, 121, 50, 8, 1, 788, 789, 3, 205, 790, 63, 46, 791, 33, 382, 4, 60, 4, 392], [8, 3, 792, 10, 793, 794, 95, 256, 393, 15, 795, 796, 206, 244, 389, 24, 394, 4, 79], [797], [798], [5, 14, 15, 799], [141, 13, 800, 28, 48, 17, 35, 30], [8, 11, 310, 109, 4, 377, 28, 387, 19, 801, 325, 13, 103, 138], [8, 33, 68, 802, 14, 256, 15, 26, 803, 804], [5, 332, 1, 61, 16, 170, 208, 805, 175, 29, 11, 89, 250, 4, 31, 9, 321, 23, 3, 395], [5, 48, 15, 7, 276, 1, 272, 56], [8, 1, 16, 53, 48, 32, 160, 806, 4, 807, 28, 18, 63, 3, 395, 808, 396, 1, 194, 8, 18, 69, 19, 3, 159, 397, 27, 3, 809, 810, 63, 46, 811, 11, 109, 136, 41, 4, 812, 18], [8, 8, 85, 813, 3, 814, 159, 815, 397], [5, 65, 398, 399, 8], [8, 38, 1, 168, 816, 95, 817], [52, 18, 15, 161, 161], [1, 40, 18, 64, 12, 98, 38, 1, 199, 36, 24, 818, 3, 160, 5, 22], [143, 60, 400, 60, 400, 819, 385, 401, 401], [129], [47, 180], [5, 130, 97, 47, 207, 105, 10, 3, 256, 393], [8, 35, 61, 820, 3, 118, 821, 822, 402, 79, 126, 403, 823, 27, 3, 66, 824, 24, 47, 197, 34], [8, 3, 825, 10, 826, 6, 403, 827, 27, 95, 390, 828, 829], [142, 123, 14, 128, 2, 41, 243, 138, 388, 22, 1, 71, 26, 12, 830, 124, 140, 155, 404, 161, 4, 13], [1, 99, 16, 44, 43, 88, 30, 4, 57, 405, 15, 6, 398, 831, 832, 23, 833, 834, 3, 835, 168, 12, 406, 186], [125, 836, 368, 59], [5, 22, 79, 4, 837, 81], [37, 59, 92, 187, 81, 838], [37, 21, 367, 83, 839], [134, 8, 1, 58, 163, 329, 209, 9, 840, 17, 67, 32], [37, 99], [5, 841, 4, 44, 6, 842, 843], [43, 844], [19, 165, 76, 95, 190, 191, 23, 52, 1, 845, 38], [134, 43, 336, 5, 9], [5, 11, 145, 195, 1, 1, 171, 144, 4, 407, 22, 22, 80, 16, 72, 91, 22], [846, 5, 9, 62, 1, 62, 102, 14, 248, 1, 62, 16, 144, 4, 407, 36, 1, 16, 22, 22, 22, 80, 16, 72, 91, 22], [847, 36, 47, 23, 384, 1, 87, 192, 3, 848, 5, 22, 85, 46, 849], [5, 77, 88, 83, 74, 1, 76, 19, 5, 850, 26, 78, 232, 94, 1, 90, 44, 55, 55, 5, 9, 20, 41, 2, 197, 11, 851, 2, 204, 852, 89, 95, 853, 854, 76, 2, 100, 12, 204, 186], [38, 89, 2, 114, 340, 9, 855, 1, 147, 12, 23, 14, 856, 857, 94, 408, 124, 2, 41, 6, 858, 4, 13, 50, 16, 31, 148, 859], [5, 22, 22, 22, 22, 131, 124, 131], [77, 131, 80, 11, 26, 860, 4, 257], [20, 181, 30, 27, 249, 216, 124, 1, 90, 44, 5, 229, 861, 56, 23, 409, 21, 84, 12, 68, 862, 38, 21, 863, 3, 203, 296, 19, 15], [1, 410, 29, 198, 18, 114, 4, 12, 6, 864], [20, 17, 2, 176, 153, 56, 153, 56], [18, 165, 76, 411], [11, 145, 195, 42, 29, 14, 175, 29, 70, 89, 6, 359], [7, 7, 48, 41, 2, 46], [249, 216, 2, 865, 117, 117, 47, 250, 4, 866, 411, 120, 3, 867, 868], [37, 67, 869, 32, 412, 23, 79, 870, 129, 20, 369, 4, 13], [5, 22, 871, 93, 872, 2], [7, 2, 49, 192, 3, 158, 4, 873, 3, 874, 345], [16, 376, 13, 11, 95, 335, 11, 26, 379, 4, 53, 6, 159, 875, 120, 6, 158, 876], [20, 17, 2, 154, 42, 47, 26, 877, 23, 3, 205, 27, 3, 878, 879, 33, 880, 61, 881, 3, 355, 2, 204, 882], [1, 112, 883, 2, 34, 6, 323, 413], [414, 5, 365, 19, 293, 884, 103, 2, 885, 886], [1, 887, 19, 888, 415, 100, 12, 3, 318, 10, 13, 10, 115, 85, 889, 98], [890, 891, 140, 16, 35, 61, 60, 119, 392], [35, 90, 43, 100, 2, 53, 3, 205, 15, 304], [3, 892, 893, 158, 157, 2, 182, 2, 53, 98, 151, 4, 153, 6, 894, 158, 414, 193, 895, 4, 20, 65, 176], [7, 54, 66, 67, 896, 2, 371, 897, 45, 13, 381, 2, 16, 53, 43, 4, 898, 3, 205, 124, 49, 31, 18, 11, 416, 36, 23, 350, 24, 65, 899, 900, 10, 901], [5, 2, 92, 18], [10, 115, 11, 294, 24, 2, 84, 12, 138, 902, 903, 24, 373, 124, 112, 287, 120, 14, 904, 135], [16, 12, 50, 51, 38, 1, 157, 2, 905, 3, 185, 85, 220, 42, 14, 96, 3, 162, 906, 907, 386], [7, 17, 2, 51, 14, 15, 3, 78, 135, 1, 98, 908, 1, 284], [52, 155, 307, 4, 12, 404, 52, 383, 60, 66, 24, 192, 25, 39], [97, 406, 13], [7, 909, 910, 911, 912, 913, 914, 915, 96, 916, 162], [1, 16, 40, 93, 30, 4, 187, 81, 23, 7, 270, 98, 60], [7, 55, 5, 73, 7, 7, 1, 99, 16, 40, 35, 84, 917, 119, 29, 14], [5, 7, 7, 55, 34, 13], [61, 2, 918, 25, 417, 122, 24, 72, 81, 105, 10, 36, 5, 9, 5, 5, 22], [5, 9, 257, 919, 920, 35, 35, 921, 6, 122, 4, 32, 25, 96, 3, 162], [24, 6, 258, 258, 20, 258], [21, 69, 19, 106, 922, 17, 4, 278, 18, 89, 4, 96, 923], [11, 145, 195, 11, 109, 70, 282, 50, 924, 42, 146, 418, 10, 185], [7, 1, 41, 6, 149, 925, 42, 14], [74, 926], [3, 122, 7, 3, 122], [20, 92, 21, 121], [14, 90, 12, 7, 65, 239, 3, 927, 122], [47, 180], [7, 129, 142, 123, 24, 70, 412, 311, 23, 409], [20, 116, 173, 41, 54, 108, 25, 39, 15, 18, 113, 1, 92, 21, 112, 928, 202, 929, 45, 9, 930, 5, 5, 227, 18, 931], [1, 58, 163, 932], [5, 37, 77], [1, 58, 189, 23, 108, 253, 196, 254, 10, 255, 24, 49, 933], [934], [7, 16, 169, 13, 143], [5, 22, 124], [5, 62, 77, 62, 1, 58, 36, 32, 935, 62, 77], [5, 3, 936, 96, 937, 2, 399, 24, 71, 375, 193, 2, 3, 938, 10, 394, 363, 206], [62, 5, 28, 20, 20, 92, 1, 121, 62, 3, 939, 96, 940, 140, 21, 87, 193, 941, 206], [232, 70, 361, 6, 378, 942], [96, 943, 3, 944, 10, 945, 24, 1, 200, 2, 102, 18], [21, 946], [143, 1, 90, 947, 4, 356], [67, 133, 25, 417, 54, 4, 948, 13], [25, 39, 65, 416, 27], [5, 22, 3, 949], [5, 73, 82, 950, 951, 3, 419, 96, 3, 162, 63, 952, 19, 2, 17, 4, 12, 364, 953], [2, 71, 954, 12, 353, 4, 3, 955, 956, 24, 957, 119, 3, 958, 10, 959, 3, 960, 135, 10, 3, 961, 420], [23, 82, 962, 2, 71, 251, 6, 237, 963, 10, 964, 24, 965, 75, 2, 17, 966, 967, 108, 6, 206, 968], [5, 11, 145, 969, 7, 20, 17, 2, 176, 36], [37, 1, 49, 44, 65, 970, 971, 28, 14, 135, 15, 259, 93, 30, 4, 972, 25, 39, 24, 38, 47, 26, 226, 81, 138], [973, 1, 167, 1, 114, 32, 974], [975, 10, 3, 976, 420, 82, 977, 978, 19, 2, 71, 257, 979, 28, 84, 202, 10, 2, 167, 4, 164, 34, 980, 3, 419, 96, 3, 162, 71, 94, 161, 4, 32, 981], [26, 9, 982, 7, 57, 224, 7, 5, 143, 2, 415], [7, 48, 17, 35, 30, 1, 172, 173, 983], [165, 259], [984, 15, 985, 3, 380, 1, 100, 372], [36, 35, 60, 252], [5, 1, 157, 2, 18, 86, 259, 36], [5, 260, 123, 986, 207, 5], [16, 222, 25, 39, 35, 53, 20, 4, 31], [24, 2, 247, 18, 86, 987, 36, 988], [5, 25, 39], [11, 109, 19, 989, 990, 49, 251, 22, 991, 10, 104, 110], [7, 11, 26, 51, 88, 188, 6, 74, 421, 33, 6, 83, 992, 993], [5, 9, 994, 5, 9, 97], [5, 77, 25, 39, 408, 19, 1, 58, 189, 23, 108, 253, 196, 254, 10, 255], [134, 1, 40, 1, 116, 12, 995, 93, 996, 6, 83, 997, 396, 28, 1, 31, 194, 59, 40, 1, 58, 179, 418, 10, 998], [1, 164, 32, 111, 260, 123, 28, 19, 61, 147, 12, 999], [33, 1000, 9, 322, 4, 1001, 6, 1002], [11, 125, 1003, 260, 123, 28, 18, 346, 2, 17, 4, 12, 3, 118, 115, 67, 6, 1004, 23, 9, 1005], [32, 1006, 391], [28, 25, 39, 20, 1007, 172, 173], [2, 44, 25, 39, 59, 171, 194, 13, 61], [75, 1, 247, 59, 147, 1008, 1009, 5, 5, 73, 5], [1010, 13, 103, 1011, 25, 39, 7, 183, 183, 57, 25, 39, 7, 7, 224, 31, 113, 183, 5, 143], [5, 5, 5, 5, 130, 97], [1, 1, 112, 410, 1, 114, 18, 23, 13], [77, 7, 1, 86, 61, 207, 4, 19], [413, 35, 17, 94, 6, 1012, 10, 3, 1013], [21, 69, 3, 1014, 17, 30, 4, 1015, 81, 3, 1016, 107, 4, 3, 402, 1017], [21, 69, 127, 6, 305, 366, 27, 3, 241, 1018, 10, 3, 1019], [5, 5, 9, 62, 104, 110], [11, 109, 106, 1020, 1021, 63, 243, 24, 197, 113, 125, 1022], [1, 41, 1023, 19, 35, 283, 199, 36], [5, 9, 316, 12, 370], [1024, 55, 54, 66, 7, 199, 45, 13], [134, 1, 121, 108, 52, 47, 2, 1025, 34, 13], [37, 93, 27, 349, 107, 7, 17, 2, 51, 14, 86, 6, 74, 421], [35, 405], [143, 1026, 66, 7], [30, 20, 31, 2, 144, 65, 30, 28, 28, 30, 48, 7, 22, 20, 7, 5, 14, 15, 22, 128, 34, 1027, 54, 66], [47, 207], [5, 7, 117], [9, 97, 7, 140, 92, 2, 41, 4, 12, 50, 1028], [5, 104, 110, 17, 2, 29, 78], [5, 73], [59, 92, 18]]\n",
            "Vocabulary Size:  1029\n",
            "Number of sentences  358\n",
            "Model: \"model_12\"\n",
            "_________________________________________________________________\n",
            "Layer (type)                 Output Shape              Param #   \n",
            "=================================================================\n",
            "input_13 (InputLayer)        [(None, 5)]               0         \n",
            "_________________________________________________________________\n",
            "embedding_12 (Embedding)     (None, 5, 300)            308700    \n",
            "_________________________________________________________________\n",
            "bidirectional_12 (Bidirectio (None, 5, 400)            801600    \n",
            "_________________________________________________________________\n",
            "global_max_pooling1d_12 (Glo (None, 400)               0         \n",
            "_________________________________________________________________\n",
            "dense_24 (Dense)             (None, 1029)              412629    \n",
            "_________________________________________________________________\n",
            "dense_25 (Dense)             (None, 1029)              1059870   \n",
            "=================================================================\n",
            "Total params: 2,582,799\n",
            "Trainable params: 2,274,099\n",
            "Non-trainable params: 308,700\n",
            "_________________________________________________________________\n",
            "WARNING:tensorflow:`period` argument is deprecated. Please use `save_freq` to specify the frequency in number of batches seen.\n"
          ],
          "name": "stdout"
        },
        {
          "output_type": "stream",
          "text": [
            "WARNING:tensorflow:`period` argument is deprecated. Please use `save_freq` to specify the frequency in number of batches seen.\n"
          ],
          "name": "stderr"
        },
        {
          "output_type": "stream",
          "text": [
            "Epoch 1/100\n",
            "72/72 [==============================] - 12s 98ms/step - loss: 6.5475 - accuracy: 0.0249 - val_loss: 6.1571 - val_accuracy: 0.0431\n",
            "Epoch 2/100\n",
            "72/72 [==============================] - 6s 89ms/step - loss: 5.7599 - accuracy: 0.0368 - val_loss: 6.0879 - val_accuracy: 0.0588\n",
            "Epoch 3/100\n",
            "72/72 [==============================] - 6s 90ms/step - loss: 5.2199 - accuracy: 0.0636 - val_loss: 6.1926 - val_accuracy: 0.0980\n",
            "Epoch 4/100\n",
            "72/72 [==============================] - 6s 88ms/step - loss: 4.2393 - accuracy: 0.1338 - val_loss: 6.6766 - val_accuracy: 0.1059\n",
            "Epoch 5/100\n",
            "72/72 [==============================] - 6s 89ms/step - loss: 2.9161 - accuracy: 0.3314 - val_loss: 7.3731 - val_accuracy: 0.0863\n",
            "Epoch 6/100\n",
            "72/72 [==============================] - 6s 88ms/step - loss: 1.5457 - accuracy: 0.6296 - val_loss: 8.5281 - val_accuracy: 0.0706\n"
          ],
          "name": "stdout"
        }
      ]
    },
    {
      "cell_type": "code",
      "metadata": {
        "id": "9ZyLHcauEAfi"
      },
      "source": [
        ""
      ],
      "execution_count": null,
      "outputs": []
    }
  ]
}