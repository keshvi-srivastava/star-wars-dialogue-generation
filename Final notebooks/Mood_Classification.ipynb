{
 "cells": [
  {
   "cell_type": "code",
   "execution_count": 3,
   "id": "bd458adb-8f81-47c8-b141-d66b4e77518d",
   "metadata": {},
   "outputs": [],
   "source": [
    "import string\n",
    "from collections import Counter"
   ]
  },
  {
   "cell_type": "code",
   "execution_count": 4,
   "id": "f7bbcf4c-aad8-4e0f-b005-83ce2d6b135d",
   "metadata": {},
   "outputs": [],
   "source": [
    "import matplotlib.pyplot as plt\n",
    "from nltk.corpus import stopwords\n",
    "from nltk.sentiment.vader import SentimentIntensityAnalyzer\n",
    "from nltk.stem import WordNetLemmatizer\n",
    "from nltk.tokenize import word_tokenize"
   ]
  },
  {
   "cell_type": "code",
   "execution_count": 35,
   "id": "a6aa084b-26a3-4fb1-a3ef-5915adfa2c8b",
   "metadata": {},
   "outputs": [],
   "source": [
    "def sentiment_analyse(sentiment_text):\n",
    "    score = SentimentIntensityAnalyzer().polarity_scores(sentiment_text)\n",
    "    if score['neg'] > score['pos']:\n",
    "        print(\"Negative Sentiment\")\n",
    "    elif score['neg'] < score['pos']:\n",
    "        print(\"Positive Sentiment\")\n",
    "    else:\n",
    "        print(\"Neutral Sentiment\")\n",
    "        \n",
    "text = open('Results/YodaGeneratedSen.txt', encoding='utf-8').read()\n",
    "# print(text)"
   ]
  },
  {
   "cell_type": "code",
   "execution_count": 36,
   "id": "f980cf1a-7cd2-4fef-9a7e-f109a1d6bcae",
   "metadata": {},
   "outputs": [],
   "source": [
    "genSentences = text.split('\\n')\n",
    "# genSentences = genSentences[:-1]\n",
    "# print(genSentences)\n",
    "\n",
    "final_df = []\n",
    "for i in range(0,len(genSentences)):\n",
    "    lower_case = genSentences[i].lower()\n",
    "    cleaned_text = lower_case.translate(str.maketrans('', '', string.punctuation))\n",
    "    tokenized_words = word_tokenize(cleaned_text, \"english\")\n",
    "    \n",
    "    final_words = []\n",
    "    for word in tokenized_words:\n",
    "        if word not in stopwords.words('english'):\n",
    "            final_words.append(word)\n",
    "#     print(final_words)\n",
    "    lemma_words = []\n",
    "    for word in final_words:\n",
    "        word = WordNetLemmatizer().lemmatize(word)\n",
    "        lemma_words.append(word)\n",
    "    \n",
    "#     print(lemma_words)\n",
    "    emotion_list = []\n",
    "    with open('nrc.csv', 'r') as file:\n",
    "        for line in file:\n",
    "    #         clear_line = line.replace(\"\\n\", '').replace(\",\", '').replace(\"'\", '').strip()\n",
    "    #         word, emotion = clear_line.split(':')\n",
    "            clear_line = line.replace(\"\\n\",'').strip()\n",
    "            word, emotion = clear_line.split(',')\n",
    "\n",
    "            if word in lemma_words:\n",
    "                emotion_list.append(emotion)\n",
    "#     print(emotion_list)\n",
    "    w = Counter(emotion_list)\n",
    "    #sorting the emotion list to get the mood with high frequency\n",
    "    mood = sorted(w, key=w.get, reverse=True)\n",
    "    if len(mood)==0:\n",
    "        final_df.append([genSentences[i],'neutral'])\n",
    "    else:\n",
    "        final_df.append([genSentences[i],mood[0]])"
   ]
  },
  {
   "cell_type": "code",
   "execution_count": 37,
   "id": "c547e5a5-8867-45da-b7a6-b550101e71d3",
   "metadata": {},
   "outputs": [
    {
     "data": {
      "text/html": [
       "<div>\n",
       "<style scoped>\n",
       "    .dataframe tbody tr th:only-of-type {\n",
       "        vertical-align: middle;\n",
       "    }\n",
       "\n",
       "    .dataframe tbody tr th {\n",
       "        vertical-align: top;\n",
       "    }\n",
       "\n",
       "    .dataframe thead th {\n",
       "        text-align: right;\n",
       "    }\n",
       "</style>\n",
       "<table border=\"1\" class=\"dataframe\">\n",
       "  <thead>\n",
       "    <tr style=\"text-align: right;\">\n",
       "      <th></th>\n",
       "      <th>sentence</th>\n",
       "      <th>mood</th>\n",
       "    </tr>\n",
       "  </thead>\n",
       "  <tbody>\n",
       "    <tr>\n",
       "      <th>0</th>\n",
       "      <td>transform into the force mourn you not it your...</td>\n",
       "      <td>negative</td>\n",
       "    </tr>\n",
       "    <tr>\n",
       "      <th>1</th>\n",
       "      <td>hurry careful timing we will need i are are you</td>\n",
       "      <td>positive</td>\n",
       "    </tr>\n",
       "    <tr>\n",
       "      <th>2</th>\n",
       "      <td>times nothing is what itappears to the dark si...</td>\n",
       "      <td>sadness</td>\n",
       "    </tr>\n",
       "    <tr>\n",
       "      <th>3</th>\n",
       "      <td>twilight is upon me and the dark side the dark</td>\n",
       "      <td>sadness</td>\n",
       "    </tr>\n",
       "    <tr>\n",
       "      <th>4</th>\n",
       "      <td>then a jedi will you have for i old to</td>\n",
       "      <td>neutral</td>\n",
       "    </tr>\n",
       "    <tr>\n",
       "      <th>5</th>\n",
       "      <td>of the emperor or suffer the force the dark side</td>\n",
       "      <td>negative</td>\n",
       "    </tr>\n",
       "    <tr>\n",
       "      <th>6</th>\n",
       "      <td>itappears to be but the force you are be with</td>\n",
       "      <td>anger</td>\n",
       "    </tr>\n",
       "    <tr>\n",
       "      <th>7</th>\n",
       "      <td>train yourself to let go it it is will be</td>\n",
       "      <td>neutral</td>\n",
       "    </tr>\n",
       "    <tr>\n",
       "      <th>8</th>\n",
       "      <td>a fully trained jedi knight the deepest force ...</td>\n",
       "      <td>positive</td>\n",
       "    </tr>\n",
       "  </tbody>\n",
       "</table>\n",
       "</div>"
      ],
      "text/plain": [
       "                                            sentence      mood\n",
       "0  transform into the force mourn you not it your...  negative\n",
       "1    hurry careful timing we will need i are are you  positive\n",
       "2  times nothing is what itappears to the dark si...   sadness\n",
       "3     twilight is upon me and the dark side the dark   sadness\n",
       "4             then a jedi will you have for i old to   neutral\n",
       "5   of the emperor or suffer the force the dark side  negative\n",
       "6      itappears to be but the force you are be with     anger\n",
       "7          train yourself to let go it it is will be   neutral\n",
       "8  a fully trained jedi knight the deepest force ...  positive"
      ]
     },
     "execution_count": 37,
     "metadata": {},
     "output_type": "execute_result"
    }
   ],
   "source": [
    "import pandas as pd\n",
    "df = pd.DataFrame(final_df, columns = ['sentence','mood'])\n",
    "df"
   ]
  },
  {
   "cell_type": "code",
   "execution_count": 38,
   "id": "1fa0819d-3569-457d-98ed-0121d5cd8ff8",
   "metadata": {},
   "outputs": [],
   "source": [
    "# sentiment_analyse(cleaned_text)\n",
    "\n",
    "# fig, ax1 = plt.subplots()\n",
    "# ax1.bar(w.keys(), w.values())\n",
    "# fig.autofmt_xdate()\n",
    "# plt.savefig('graph.png')\n",
    "# plt.show()"
   ]
  },
  {
   "cell_type": "code",
   "execution_count": 39,
   "id": "6c47b581-c09a-414e-8932-eb5f5ed1f8c0",
   "metadata": {},
   "outputs": [],
   "source": [
    "seed_words = []\n",
    "for i in range(len(df)):\n",
    "    seed_words.append(\" \".join(df['sentence'][i].split()[:5]))"
   ]
  },
  {
   "cell_type": "code",
   "execution_count": 40,
   "id": "424fa152-edca-462e-a705-42b8d0421a3c",
   "metadata": {},
   "outputs": [],
   "source": [
    "df['seed_words']=seed_words"
   ]
  },
  {
   "cell_type": "code",
   "execution_count": 41,
   "id": "97ac4f78-08a2-4e68-8de0-52953f29827b",
   "metadata": {},
   "outputs": [],
   "source": [
    "seedWords_mood = []\n",
    "for i in range(0,len(df)):\n",
    "    lower_case = df['seed_words'][i].lower()\n",
    "    cleaned_text = lower_case.translate(str.maketrans('', '', string.punctuation))\n",
    "    tokenized_words = word_tokenize(cleaned_text, \"english\")\n",
    "    \n",
    "    final_words = []\n",
    "    for word in tokenized_words:\n",
    "        if word not in stopwords.words('english'):\n",
    "            final_words.append(word)\n",
    "#     print(final_words)\n",
    "    lemma_words = []\n",
    "    for word in final_words:\n",
    "        word = WordNetLemmatizer().lemmatize(word)\n",
    "        lemma_words.append(word)\n",
    "    \n",
    "#     print(lemma_words)\n",
    "    emotion_list = []\n",
    "    with open('nrc.csv', 'r') as file:\n",
    "        for line in file:\n",
    "    #         clear_line = line.replace(\"\\n\", '').replace(\",\", '').replace(\"'\", '').strip()\n",
    "    #         word, emotion = clear_line.split(':')\n",
    "            clear_line = line.replace(\"\\n\",'').strip()\n",
    "            word, emotion = clear_line.split(',')\n",
    "\n",
    "            if word in lemma_words:\n",
    "                emotion_list.append(emotion)\n",
    "#     print(emotion_list)\n",
    "    w = Counter(emotion_list)\n",
    "#     print(w)\n",
    "#     sentiment_analyse(cleaned_text)\n",
    "    mood = sorted(w, key=w.get, reverse=True)\n",
    "#     print(mood)\n",
    "#     mood.remove('negative')\n",
    "    if len(mood)==0:\n",
    "        seedWords_mood.append('neutral')\n",
    "    else:\n",
    "        seedWords_mood.append(mood[0])"
   ]
  },
  {
   "cell_type": "code",
   "execution_count": 42,
   "id": "c2462c50-4f92-498f-80df-d854bc46a541",
   "metadata": {},
   "outputs": [],
   "source": [
    "df['seed_words_mood'] = seedWords_mood"
   ]
  },
  {
   "cell_type": "code",
   "execution_count": 43,
   "id": "03ed5eac-a721-4700-8aa4-08eb73731444",
   "metadata": {},
   "outputs": [
    {
     "name": "stdout",
     "output_type": "stream",
     "text": [
      "Percentage of sentences which got generated as per the mood of the seed words\n"
     ]
    },
    {
     "data": {
      "text/plain": [
       "66.66666666666666"
      ]
     },
     "execution_count": 43,
     "metadata": {},
     "output_type": "execute_result"
    }
   ],
   "source": [
    "print('Percentage of sentences which got generated as per the mood of the seed words')\n",
    "(df['mood']==df['seed_words_mood']).sum()/len(df)*100"
   ]
  },
  {
   "cell_type": "code",
   "execution_count": 44,
   "id": "9e19df8f-0467-4652-b277-bd32938b0a75",
   "metadata": {},
   "outputs": [],
   "source": [
    "import os\n",
    "if not os.path.exists('GenSen_Mood_Check'):\n",
    "    os.makedirs('GenSen_Mood_Check')\n",
    "\n",
    "df.to_csv('GenSen_Mood_Check/YodaGeneratedSen_mood.csv', index=False)"
   ]
  }
 ],
 "metadata": {
  "kernelspec": {
   "display_name": "Python 3",
   "language": "python",
   "name": "python3"
  },
  "language_info": {
   "codemirror_mode": {
    "name": "ipython",
    "version": 3
   },
   "file_extension": ".py",
   "mimetype": "text/x-python",
   "name": "python",
   "nbconvert_exporter": "python",
   "pygments_lexer": "ipython3",
   "version": "3.9.4"
  }
 },
 "nbformat": 4,
 "nbformat_minor": 5
}
