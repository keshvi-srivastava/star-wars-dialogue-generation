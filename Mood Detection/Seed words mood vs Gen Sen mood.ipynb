{
 "cells": [
  {
   "cell_type": "raw",
   "id": "23b6e0f4-ce55-4c0c-8343-8055f8beb97b",
   "metadata": {},
   "source": [
    "ObiWanGeneratedSen - 50 percent of the generated sentences match with the mood of the seed words.\n",
    "\n",
    "ThreepioGeneratedSen - 40 percent of the generated sentences match with the mood of the seed words.\n",
    "\n",
    "YodaGeneratedSen - 30 percent of the generated sentences match with the mood of the seed words."
   ]
  },
  {
   "cell_type": "code",
   "execution_count": 1,
   "id": "44851a7b-c98f-44bf-9f7d-901b83a1f18a",
   "metadata": {},
   "outputs": [],
   "source": [
    "import pandas as pd"
   ]
  },
  {
   "cell_type": "code",
   "execution_count": 2,
   "id": "a85247aa-ce74-4bba-83b1-ba9fbe8f6cb1",
   "metadata": {},
   "outputs": [],
   "source": [
    "df = pd.read_csv('generatedmoods/ObiWanGeneratedSen.csv')"
   ]
  },
  {
   "cell_type": "code",
   "execution_count": 3,
   "id": "508a9b6b-6007-47b2-9df6-93fef335dd24",
   "metadata": {},
   "outputs": [
    {
     "data": {
      "text/html": [
       "<div>\n",
       "<style scoped>\n",
       "    .dataframe tbody tr th:only-of-type {\n",
       "        vertical-align: middle;\n",
       "    }\n",
       "\n",
       "    .dataframe tbody tr th {\n",
       "        vertical-align: top;\n",
       "    }\n",
       "\n",
       "    .dataframe thead th {\n",
       "        text-align: right;\n",
       "    }\n",
       "</style>\n",
       "<table border=\"1\" class=\"dataframe\">\n",
       "  <thead>\n",
       "    <tr style=\"text-align: right;\">\n",
       "      <th></th>\n",
       "      <th>sentence</th>\n",
       "      <th>sentiment</th>\n",
       "    </tr>\n",
       "  </thead>\n",
       "  <tbody>\n",
       "    <tr>\n",
       "      <th>0</th>\n",
       "      <td>to relieve you of chancellor palpatine not joi...</td>\n",
       "      <td>negative</td>\n",
       "    </tr>\n",
       "    <tr>\n",
       "      <th>1</th>\n",
       "      <td>name obiwan since oh before you were born you two</td>\n",
       "      <td>neutral</td>\n",
       "    </tr>\n",
       "    <tr>\n",
       "      <th>2</th>\n",
       "      <td>you not been so impatient to defeat vader then...</td>\n",
       "      <td>anticipation</td>\n",
       "    </tr>\n",
       "    <tr>\n",
       "      <th>3</th>\n",
       "      <td>artoo switch on the comlink do artoo it certai...</td>\n",
       "      <td>neutral</td>\n",
       "    </tr>\n",
       "    <tr>\n",
       "      <th>4</th>\n",
       "      <td>a morecivilized time for over over the left an...</td>\n",
       "      <td>neutral</td>\n",
       "    </tr>\n",
       "    <tr>\n",
       "      <th>5</th>\n",
       "      <td>it surrounds us and penetrates us us grind us ...</td>\n",
       "      <td>fear</td>\n",
       "    </tr>\n",
       "    <tr>\n",
       "      <th>6</th>\n",
       "      <td>brokenand dont forget shes apolitician theyre ...</td>\n",
       "      <td>neutral</td>\n",
       "    </tr>\n",
       "    <tr>\n",
       "      <th>7</th>\n",
       "      <td>as well thats not all very proud that you two</td>\n",
       "      <td>sad</td>\n",
       "    </tr>\n",
       "    <tr>\n",
       "      <th>8</th>\n",
       "      <td>by rushing back prematurely i fear something b...</td>\n",
       "      <td>fear</td>\n",
       "    </tr>\n",
       "    <tr>\n",
       "      <th>9</th>\n",
       "      <td>course but it was a good friend which reminds he</td>\n",
       "      <td>joy</td>\n",
       "    </tr>\n",
       "  </tbody>\n",
       "</table>\n",
       "</div>"
      ],
      "text/plain": [
       "                                            sentence     sentiment\n",
       "0  to relieve you of chancellor palpatine not joi...      negative\n",
       "1  name obiwan since oh before you were born you two       neutral\n",
       "2  you not been so impatient to defeat vader then...  anticipation\n",
       "3  artoo switch on the comlink do artoo it certai...       neutral\n",
       "4  a morecivilized time for over over the left an...       neutral\n",
       "5  it surrounds us and penetrates us us grind us ...          fear\n",
       "6  brokenand dont forget shes apolitician theyre ...       neutral\n",
       "7      as well thats not all very proud that you two           sad\n",
       "8  by rushing back prematurely i fear something b...          fear\n",
       "9   course but it was a good friend which reminds he           joy"
      ]
     },
     "execution_count": 3,
     "metadata": {},
     "output_type": "execute_result"
    }
   ],
   "source": [
    "df"
   ]
  },
  {
   "cell_type": "code",
   "execution_count": 4,
   "id": "193a12e7-2321-490b-adf9-2f48f3c0789c",
   "metadata": {},
   "outputs": [],
   "source": [
    "seed_words = []\n",
    "for i in range(len(df)):\n",
    "    seed_words.append(\" \".join(df['sentence'][i].split()[:5]))"
   ]
  },
  {
   "cell_type": "code",
   "execution_count": 5,
   "id": "f02bb63e-0113-4a05-afda-fa0689dc3bce",
   "metadata": {},
   "outputs": [
    {
     "data": {
      "text/plain": [
       "['to relieve you of chancellor',\n",
       " 'name obiwan since oh before',\n",
       " 'you not been so impatient',\n",
       " 'artoo switch on the comlink',\n",
       " 'a morecivilized time for over',\n",
       " 'it surrounds us and penetrates',\n",
       " 'brokenand dont forget shes apolitician',\n",
       " 'as well thats not all',\n",
       " 'by rushing back prematurely i',\n",
       " 'course but it was a']"
      ]
     },
     "execution_count": 5,
     "metadata": {},
     "output_type": "execute_result"
    }
   ],
   "source": [
    "seed_words"
   ]
  },
  {
   "cell_type": "code",
   "execution_count": 6,
   "id": "c57bd0f8-f261-45d9-827b-6ff7163da01d",
   "metadata": {},
   "outputs": [],
   "source": [
    "df['seed_words']=seed_words"
   ]
  },
  {
   "cell_type": "code",
   "execution_count": 7,
   "id": "0795d526-94ed-4f5d-a81f-2f9b157e6192",
   "metadata": {},
   "outputs": [
    {
     "data": {
      "text/html": [
       "<div>\n",
       "<style scoped>\n",
       "    .dataframe tbody tr th:only-of-type {\n",
       "        vertical-align: middle;\n",
       "    }\n",
       "\n",
       "    .dataframe tbody tr th {\n",
       "        vertical-align: top;\n",
       "    }\n",
       "\n",
       "    .dataframe thead th {\n",
       "        text-align: right;\n",
       "    }\n",
       "</style>\n",
       "<table border=\"1\" class=\"dataframe\">\n",
       "  <thead>\n",
       "    <tr style=\"text-align: right;\">\n",
       "      <th></th>\n",
       "      <th>sentence</th>\n",
       "      <th>sentiment</th>\n",
       "      <th>seed_words</th>\n",
       "    </tr>\n",
       "  </thead>\n",
       "  <tbody>\n",
       "    <tr>\n",
       "      <th>0</th>\n",
       "      <td>to relieve you of chancellor palpatine not joi...</td>\n",
       "      <td>negative</td>\n",
       "      <td>to relieve you of chancellor</td>\n",
       "    </tr>\n",
       "    <tr>\n",
       "      <th>1</th>\n",
       "      <td>name obiwan since oh before you were born you two</td>\n",
       "      <td>neutral</td>\n",
       "      <td>name obiwan since oh before</td>\n",
       "    </tr>\n",
       "    <tr>\n",
       "      <th>2</th>\n",
       "      <td>you not been so impatient to defeat vader then...</td>\n",
       "      <td>anticipation</td>\n",
       "      <td>you not been so impatient</td>\n",
       "    </tr>\n",
       "    <tr>\n",
       "      <th>3</th>\n",
       "      <td>artoo switch on the comlink do artoo it certai...</td>\n",
       "      <td>neutral</td>\n",
       "      <td>artoo switch on the comlink</td>\n",
       "    </tr>\n",
       "    <tr>\n",
       "      <th>4</th>\n",
       "      <td>a morecivilized time for over over the left an...</td>\n",
       "      <td>neutral</td>\n",
       "      <td>a morecivilized time for over</td>\n",
       "    </tr>\n",
       "    <tr>\n",
       "      <th>5</th>\n",
       "      <td>it surrounds us and penetrates us us grind us ...</td>\n",
       "      <td>fear</td>\n",
       "      <td>it surrounds us and penetrates</td>\n",
       "    </tr>\n",
       "    <tr>\n",
       "      <th>6</th>\n",
       "      <td>brokenand dont forget shes apolitician theyre ...</td>\n",
       "      <td>neutral</td>\n",
       "      <td>brokenand dont forget shes apolitician</td>\n",
       "    </tr>\n",
       "    <tr>\n",
       "      <th>7</th>\n",
       "      <td>as well thats not all very proud that you two</td>\n",
       "      <td>sad</td>\n",
       "      <td>as well thats not all</td>\n",
       "    </tr>\n",
       "    <tr>\n",
       "      <th>8</th>\n",
       "      <td>by rushing back prematurely i fear something b...</td>\n",
       "      <td>fear</td>\n",
       "      <td>by rushing back prematurely i</td>\n",
       "    </tr>\n",
       "    <tr>\n",
       "      <th>9</th>\n",
       "      <td>course but it was a good friend which reminds he</td>\n",
       "      <td>joy</td>\n",
       "      <td>course but it was a</td>\n",
       "    </tr>\n",
       "  </tbody>\n",
       "</table>\n",
       "</div>"
      ],
      "text/plain": [
       "                                            sentence     sentiment  \\\n",
       "0  to relieve you of chancellor palpatine not joi...      negative   \n",
       "1  name obiwan since oh before you were born you two       neutral   \n",
       "2  you not been so impatient to defeat vader then...  anticipation   \n",
       "3  artoo switch on the comlink do artoo it certai...       neutral   \n",
       "4  a morecivilized time for over over the left an...       neutral   \n",
       "5  it surrounds us and penetrates us us grind us ...          fear   \n",
       "6  brokenand dont forget shes apolitician theyre ...       neutral   \n",
       "7      as well thats not all very proud that you two           sad   \n",
       "8  by rushing back prematurely i fear something b...          fear   \n",
       "9   course but it was a good friend which reminds he           joy   \n",
       "\n",
       "                               seed_words  \n",
       "0            to relieve you of chancellor  \n",
       "1             name obiwan since oh before  \n",
       "2               you not been so impatient  \n",
       "3             artoo switch on the comlink  \n",
       "4           a morecivilized time for over  \n",
       "5          it surrounds us and penetrates  \n",
       "6  brokenand dont forget shes apolitician  \n",
       "7                   as well thats not all  \n",
       "8           by rushing back prematurely i  \n",
       "9                     course but it was a  "
      ]
     },
     "execution_count": 7,
     "metadata": {},
     "output_type": "execute_result"
    }
   ],
   "source": [
    "df"
   ]
  },
  {
   "cell_type": "code",
   "execution_count": 8,
   "id": "9f010cd8-4280-4ea6-a2ef-4ee2155a68b3",
   "metadata": {},
   "outputs": [],
   "source": [
    "df.to_csv('generatedmoods/ObiWanGeneratedSen_final.csv', index=False)"
   ]
  },
  {
   "cell_type": "code",
   "execution_count": 11,
   "id": "cffa003b-8644-4aec-8532-58a1810eee15",
   "metadata": {},
   "outputs": [],
   "source": [
    "df = pd.read_csv('generatedmoods/ObiWanGeneratedSen_final.csv')"
   ]
  },
  {
   "cell_type": "code",
   "execution_count": 13,
   "id": "041d2ada-a4f2-45cf-9e50-22920aa3cd32",
   "metadata": {},
   "outputs": [
    {
     "data": {
      "text/plain": [
       "50.0"
      ]
     },
     "execution_count": 13,
     "metadata": {},
     "output_type": "execute_result"
    }
   ],
   "source": [
    "(df['sentiment']==df['seed_words_mood']).sum()/len(df)*100"
   ]
  },
  {
   "cell_type": "code",
   "execution_count": 14,
   "id": "e282717b-96cc-42a1-89ea-89b98dce5a66",
   "metadata": {},
   "outputs": [
    {
     "data": {
      "text/html": [
       "<div>\n",
       "<style scoped>\n",
       "    .dataframe tbody tr th:only-of-type {\n",
       "        vertical-align: middle;\n",
       "    }\n",
       "\n",
       "    .dataframe tbody tr th {\n",
       "        vertical-align: top;\n",
       "    }\n",
       "\n",
       "    .dataframe thead th {\n",
       "        text-align: right;\n",
       "    }\n",
       "</style>\n",
       "<table border=\"1\" class=\"dataframe\">\n",
       "  <thead>\n",
       "    <tr style=\"text-align: right;\">\n",
       "      <th></th>\n",
       "      <th>sentence</th>\n",
       "      <th>sentiment</th>\n",
       "      <th>seed_words</th>\n",
       "      <th>seed_words_mood</th>\n",
       "    </tr>\n",
       "  </thead>\n",
       "  <tbody>\n",
       "    <tr>\n",
       "      <th>0</th>\n",
       "      <td>to relieve you of chancellor palpatine not joi...</td>\n",
       "      <td>negative</td>\n",
       "      <td>to relieve you of chancellor</td>\n",
       "      <td>positive</td>\n",
       "    </tr>\n",
       "    <tr>\n",
       "      <th>1</th>\n",
       "      <td>name obiwan since oh before you were born you two</td>\n",
       "      <td>neutral</td>\n",
       "      <td>name obiwan since oh before</td>\n",
       "      <td>neutral</td>\n",
       "    </tr>\n",
       "    <tr>\n",
       "      <th>2</th>\n",
       "      <td>you not been so impatient to defeat vader then...</td>\n",
       "      <td>anticipation</td>\n",
       "      <td>you not been so impatient</td>\n",
       "      <td>anticipation</td>\n",
       "    </tr>\n",
       "    <tr>\n",
       "      <th>3</th>\n",
       "      <td>artoo switch on the comlink do artoo it certai...</td>\n",
       "      <td>neutral</td>\n",
       "      <td>artoo switch on the comlink</td>\n",
       "      <td>neutral</td>\n",
       "    </tr>\n",
       "    <tr>\n",
       "      <th>4</th>\n",
       "      <td>a morecivilized time for over over the left an...</td>\n",
       "      <td>neutral</td>\n",
       "      <td>a morecivilized time for over</td>\n",
       "      <td>anticipation</td>\n",
       "    </tr>\n",
       "    <tr>\n",
       "      <th>5</th>\n",
       "      <td>it surrounds us and penetrates us us grind us ...</td>\n",
       "      <td>fear</td>\n",
       "      <td>it surrounds us and penetrates</td>\n",
       "      <td>fear</td>\n",
       "    </tr>\n",
       "    <tr>\n",
       "      <th>6</th>\n",
       "      <td>brokenand dont forget shes apolitician theyre ...</td>\n",
       "      <td>neutral</td>\n",
       "      <td>brokenand dont forget shes apolitician</td>\n",
       "      <td>neutral</td>\n",
       "    </tr>\n",
       "    <tr>\n",
       "      <th>7</th>\n",
       "      <td>as well thats not all very proud that you two</td>\n",
       "      <td>sad</td>\n",
       "      <td>as well thats not all</td>\n",
       "      <td>negative</td>\n",
       "    </tr>\n",
       "    <tr>\n",
       "      <th>8</th>\n",
       "      <td>by rushing back prematurely i fear something b...</td>\n",
       "      <td>fear</td>\n",
       "      <td>by rushing back prematurely i</td>\n",
       "      <td>surprise</td>\n",
       "    </tr>\n",
       "    <tr>\n",
       "      <th>9</th>\n",
       "      <td>course but it was a good friend which reminds he</td>\n",
       "      <td>joy</td>\n",
       "      <td>course but it was a</td>\n",
       "      <td>neutral</td>\n",
       "    </tr>\n",
       "  </tbody>\n",
       "</table>\n",
       "</div>"
      ],
      "text/plain": [
       "                                            sentence     sentiment  \\\n",
       "0  to relieve you of chancellor palpatine not joi...      negative   \n",
       "1  name obiwan since oh before you were born you two       neutral   \n",
       "2  you not been so impatient to defeat vader then...  anticipation   \n",
       "3  artoo switch on the comlink do artoo it certai...       neutral   \n",
       "4  a morecivilized time for over over the left an...       neutral   \n",
       "5  it surrounds us and penetrates us us grind us ...          fear   \n",
       "6  brokenand dont forget shes apolitician theyre ...       neutral   \n",
       "7      as well thats not all very proud that you two           sad   \n",
       "8  by rushing back prematurely i fear something b...          fear   \n",
       "9   course but it was a good friend which reminds he           joy   \n",
       "\n",
       "                               seed_words seed_words_mood  \n",
       "0            to relieve you of chancellor        positive  \n",
       "1             name obiwan since oh before         neutral  \n",
       "2               you not been so impatient    anticipation  \n",
       "3             artoo switch on the comlink         neutral  \n",
       "4           a morecivilized time for over    anticipation  \n",
       "5          it surrounds us and penetrates            fear  \n",
       "6  brokenand dont forget shes apolitician         neutral  \n",
       "7                   as well thats not all        negative  \n",
       "8           by rushing back prematurely i        surprise  \n",
       "9                     course but it was a         neutral  "
      ]
     },
     "execution_count": 14,
     "metadata": {},
     "output_type": "execute_result"
    }
   ],
   "source": [
    "df"
   ]
  },
  {
   "cell_type": "code",
   "execution_count": null,
   "id": "0112c856-5353-43ad-bde0-a16ceb4bec93",
   "metadata": {},
   "outputs": [],
   "source": []
  }
 ],
 "metadata": {
  "kernelspec": {
   "display_name": "Python 3",
   "language": "python",
   "name": "python3"
  },
  "language_info": {
   "codemirror_mode": {
    "name": "ipython",
    "version": 3
   },
   "file_extension": ".py",
   "mimetype": "text/x-python",
   "name": "python",
   "nbconvert_exporter": "python",
   "pygments_lexer": "ipython3",
   "version": "3.9.4"
  }
 },
 "nbformat": 4,
 "nbformat_minor": 5
}
