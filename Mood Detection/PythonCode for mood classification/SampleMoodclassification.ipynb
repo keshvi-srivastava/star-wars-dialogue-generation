{
 "cells": [
  {
   "cell_type": "code",
   "execution_count": 1,
   "id": "bd458adb-8f81-47c8-b141-d66b4e77518d",
   "metadata": {},
   "outputs": [],
   "source": [
    "import string\n",
    "from collections import Counter"
   ]
  },
  {
   "cell_type": "code",
   "execution_count": 2,
   "id": "f7bbcf4c-aad8-4e0f-b005-83ce2d6b135d",
   "metadata": {},
   "outputs": [],
   "source": [
    "import matplotlib.pyplot as plt\n",
    "from nltk.corpus import stopwords\n",
    "from nltk.sentiment.vader import SentimentIntensityAnalyzer\n",
    "from nltk.stem import WordNetLemmatizer\n",
    "from nltk.tokenize import word_tokenize"
   ]
  },
  {
   "cell_type": "code",
   "execution_count": 3,
   "id": "a6aa084b-26a3-4fb1-a3ef-5915adfa2c8b",
   "metadata": {},
   "outputs": [],
   "source": [
    "text = open('read.txt', encoding='utf-8').read()"
   ]
  },
  {
   "cell_type": "code",
   "execution_count": 4,
   "id": "02f99d83-cf82-4ed3-9c98-10a6f55e7be7",
   "metadata": {},
   "outputs": [],
   "source": [
    "lower_case = text.lower()\n",
    "cleaned_text = lower_case.translate(str.maketrans('', '', string.punctuation))"
   ]
  },
  {
   "cell_type": "code",
   "execution_count": 5,
   "id": "48b10998-e997-4793-96f1-80d748253f16",
   "metadata": {},
   "outputs": [],
   "source": [
    "# Using word_tokenize because it's faster than split()\n",
    "tokenized_words = word_tokenize(cleaned_text, \"english\")"
   ]
  },
  {
   "cell_type": "code",
   "execution_count": 6,
   "id": "7683ee4b-9915-45d0-9316-f0603dcc584b",
   "metadata": {},
   "outputs": [],
   "source": [
    "final_words = []\n",
    "for word in tokenized_words:\n",
    "    if word not in stopwords.words('english'):\n",
    "        final_words.append(word)"
   ]
  },
  {
   "cell_type": "code",
   "execution_count": 7,
   "id": "5c99d28a-9c1e-45cc-af1b-b2ce893bccc8",
   "metadata": {},
   "outputs": [],
   "source": [
    "# Lemmatization - From plural to single + Base form of a word (example better-> good)\n",
    "lemma_words = []\n",
    "for word in final_words:\n",
    "    word = WordNetLemmatizer().lemmatize(word)\n",
    "    lemma_words.append(word)"
   ]
  },
  {
   "cell_type": "code",
   "execution_count": 21,
   "id": "7f637dbf-08da-4001-b7cb-44426a90ed38",
   "metadata": {},
   "outputs": [],
   "source": [
    "emotion_list = []\n",
    "with open('nrc.csv', 'r') as file:\n",
    "    for line in file:\n",
    "#         clear_line = line.replace(\"\\n\", '').replace(\",\", '').replace(\"'\", '').strip()\n",
    "#         word, emotion = clear_line.split(':')\n",
    "        clear_line = line.replace(\"\\n\",'').strip()\n",
    "        word, emotion = clear_line.split(',')\n",
    "\n",
    "        if word in lemma_words:\n",
    "            emotion_list.append(emotion)"
   ]
  },
  {
   "cell_type": "code",
   "execution_count": 22,
   "id": "1a9f9a66-7b09-461f-b4dc-4c6512fbcfff",
   "metadata": {},
   "outputs": [
    {
     "name": "stdout",
     "output_type": "stream",
     "text": [
      "['anger', 'fear', 'negative', 'positive', 'trust', 'positive']\n",
      "Counter({'positive': 2, 'anger': 1, 'fear': 1, 'negative': 1, 'trust': 1})\n"
     ]
    }
   ],
   "source": [
    "print(emotion_list)\n",
    "w = Counter(emotion_list)\n",
    "print(w)"
   ]
  },
  {
   "cell_type": "code",
   "execution_count": 23,
   "id": "a2806ed7-b768-42e4-ae24-cd9a8a7345aa",
   "metadata": {},
   "outputs": [],
   "source": [
    "def sentiment_analyse(sentiment_text):\n",
    "    score = SentimentIntensityAnalyzer().polarity_scores(sentiment_text)\n",
    "    if score['neg'] > score['pos']:\n",
    "        print(\"Negative Sentiment\")\n",
    "    elif score['neg'] < score['pos']:\n",
    "        print(\"Positive Sentiment\")\n",
    "    else:\n",
    "        print(\"Neutral Sentiment\")"
   ]
  },
  {
   "cell_type": "code",
   "execution_count": 27,
   "id": "1fa0819d-3569-457d-98ed-0121d5cd8ff8",
   "metadata": {},
   "outputs": [
    {
     "name": "stdout",
     "output_type": "stream",
     "text": [
      "Neutral Sentiment\n"
     ]
    },
    {
     "data": {
      "image/png": "[encoded data removed]",
      "text/plain": [
       "<Figure size 432x288 with 1 Axes>"
      ]
     },
     "metadata": {
      "needs_background": "light"
     },
     "output_type": "display_data"
    }
   ],
   "source": [
    "sentiment_analyse(cleaned_text)\n",
    "\n",
    "fig, ax1 = plt.subplots()\n",
    "ax1.bar(w.keys(), w.values())\n",
    "fig.autofmt_xdate()\n",
    "plt.savefig('graph.png')\n",
    "plt.show()"
   ]
  },
  {
   "cell_type": "code",
   "execution_count": null,
   "id": "9cda3850-f9b3-4d49-b0d2-54f093f46937",
   "metadata": {},
   "outputs": [],
   "source": []
  }
 ],
 "metadata": {
  "kernelspec": {
   "display_name": "Python 3",
   "language": "python",
   "name": "python3"
  },
  "language_info": {
   "codemirror_mode": {
    "name": "ipython",
    "version": 3
   },
   "file_extension": ".py",
   "mimetype": "text/x-python",
   "name": "python",
   "nbconvert_exporter": "python",
   "pygments_lexer": "ipython3",
   "version": "3.9.4"
  }
 },
 "nbformat": 4,
 "nbformat_minor": 5
}
